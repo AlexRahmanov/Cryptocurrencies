{
 "cells": [
  {
   "cell_type": "markdown",
   "metadata": {},
   "source": [
    "# Clustering Crypto"
   ]
  },
  {
   "cell_type": "code",
   "execution_count": 160,
   "metadata": {},
   "outputs": [],
   "source": [
    "# Initial imports\n",
    "import pandas as pd\n",
    "import hvplot.pandas\n",
    "from path import Path\n",
    "import plotly.express as px\n",
    "from sklearn.preprocessing import StandardScaler, MinMaxScaler\n",
    "from sklearn.decomposition import PCA\n",
    "from sklearn.cluster import KMeans\n"
   ]
  },
  {
   "cell_type": "markdown",
   "metadata": {},
   "source": [
    "### Deliverable 1: Preprocessing the Data for PCA"
   ]
  },
  {
   "cell_type": "code",
   "execution_count": 161,
   "metadata": {},
   "outputs": [
    {
     "data": {
      "text/html": [
       "<div>\n",
       "<style scoped>\n",
       "    .dataframe tbody tr th:only-of-type {\n",
       "        vertical-align: middle;\n",
       "    }\n",
       "\n",
       "    .dataframe tbody tr th {\n",
       "        vertical-align: top;\n",
       "    }\n",
       "\n",
       "    .dataframe thead th {\n",
       "        text-align: right;\n",
       "    }\n",
       "</style>\n",
       "<table border=\"1\" class=\"dataframe\">\n",
       "  <thead>\n",
       "    <tr style=\"text-align: right;\">\n",
       "      <th></th>\n",
       "      <th>CoinName</th>\n",
       "      <th>Algorithm</th>\n",
       "      <th>IsTrading</th>\n",
       "      <th>ProofType</th>\n",
       "      <th>TotalCoinsMined</th>\n",
       "      <th>TotalCoinSupply</th>\n",
       "    </tr>\n",
       "  </thead>\n",
       "  <tbody>\n",
       "    <tr>\n",
       "      <th>42</th>\n",
       "      <td>42 Coin</td>\n",
       "      <td>Scrypt</td>\n",
       "      <td>True</td>\n",
       "      <td>PoW/PoS</td>\n",
       "      <td>4.199995e+01</td>\n",
       "      <td>42</td>\n",
       "    </tr>\n",
       "    <tr>\n",
       "      <th>365</th>\n",
       "      <td>365Coin</td>\n",
       "      <td>X11</td>\n",
       "      <td>True</td>\n",
       "      <td>PoW/PoS</td>\n",
       "      <td>NaN</td>\n",
       "      <td>2300000000</td>\n",
       "    </tr>\n",
       "    <tr>\n",
       "      <th>404</th>\n",
       "      <td>404Coin</td>\n",
       "      <td>Scrypt</td>\n",
       "      <td>True</td>\n",
       "      <td>PoW/PoS</td>\n",
       "      <td>1.055185e+09</td>\n",
       "      <td>532000000</td>\n",
       "    </tr>\n",
       "    <tr>\n",
       "      <th>611</th>\n",
       "      <td>SixEleven</td>\n",
       "      <td>SHA-256</td>\n",
       "      <td>True</td>\n",
       "      <td>PoW</td>\n",
       "      <td>NaN</td>\n",
       "      <td>611000</td>\n",
       "    </tr>\n",
       "    <tr>\n",
       "      <th>808</th>\n",
       "      <td>808</td>\n",
       "      <td>SHA-256</td>\n",
       "      <td>True</td>\n",
       "      <td>PoW/PoS</td>\n",
       "      <td>0.000000e+00</td>\n",
       "      <td>0</td>\n",
       "    </tr>\n",
       "  </tbody>\n",
       "</table>\n",
       "</div>"
      ],
      "text/plain": [
       "      CoinName Algorithm  IsTrading ProofType  TotalCoinsMined TotalCoinSupply\n",
       "42     42 Coin    Scrypt       True   PoW/PoS     4.199995e+01              42\n",
       "365    365Coin       X11       True   PoW/PoS              NaN      2300000000\n",
       "404    404Coin    Scrypt       True   PoW/PoS     1.055185e+09       532000000\n",
       "611  SixEleven   SHA-256       True       PoW              NaN          611000\n",
       "808        808   SHA-256       True   PoW/PoS     0.000000e+00               0"
      ]
     },
     "execution_count": 161,
     "metadata": {},
     "output_type": "execute_result"
    }
   ],
   "source": [
    "# Load the crypto_data.csv dataset.\n",
    "file_path = \"crypto_data.csv\"\n",
    "df_crypto = pd.read_csv(file_path,index_col = 0)\n",
    "df_crypto.head()"
   ]
  },
  {
   "cell_type": "code",
   "execution_count": 162,
   "metadata": {},
   "outputs": [
    {
     "data": {
      "text/plain": [
       "(1144, 6)"
      ]
     },
     "execution_count": 162,
     "metadata": {},
     "output_type": "execute_result"
    }
   ],
   "source": [
    "# Keep all the cryptocurrencies that are being traded.\n",
    "df_crypto = df_crypto[df_crypto.IsTrading.eq(True)]\n",
    "df_crypto.shape"
   ]
  },
  {
   "cell_type": "code",
   "execution_count": 163,
   "metadata": {},
   "outputs": [
    {
     "data": {
      "text/plain": [
       "42      False\n",
       "365     False\n",
       "404     False\n",
       "611     False\n",
       "808     False\n",
       "        ...  \n",
       "SERO    False\n",
       "UOS     False\n",
       "BDX     False\n",
       "ZEN     False\n",
       "XBC     False\n",
       "Name: Algorithm, Length: 1144, dtype: bool"
      ]
     },
     "execution_count": 163,
     "metadata": {},
     "output_type": "execute_result"
    }
   ],
   "source": [
    "# Keep all the cryptocurrencies that have a working algorithm.\n",
    "pd.isna(df_crypto['Algorithm'])"
   ]
  },
  {
   "cell_type": "code",
   "execution_count": 164,
   "metadata": {},
   "outputs": [],
   "source": [
    "# Remove the \"IsTrading\" column. \n",
    "df_crypto = df_crypto.drop([\"IsTrading\"],axis = 1)"
   ]
  },
  {
   "cell_type": "code",
   "execution_count": 165,
   "metadata": {},
   "outputs": [
    {
     "data": {
      "text/html": [
       "<div>\n",
       "<style scoped>\n",
       "    .dataframe tbody tr th:only-of-type {\n",
       "        vertical-align: middle;\n",
       "    }\n",
       "\n",
       "    .dataframe tbody tr th {\n",
       "        vertical-align: top;\n",
       "    }\n",
       "\n",
       "    .dataframe thead th {\n",
       "        text-align: right;\n",
       "    }\n",
       "</style>\n",
       "<table border=\"1\" class=\"dataframe\">\n",
       "  <thead>\n",
       "    <tr style=\"text-align: right;\">\n",
       "      <th></th>\n",
       "      <th>CoinName</th>\n",
       "      <th>Algorithm</th>\n",
       "      <th>ProofType</th>\n",
       "      <th>TotalCoinsMined</th>\n",
       "      <th>TotalCoinSupply</th>\n",
       "    </tr>\n",
       "  </thead>\n",
       "  <tbody>\n",
       "    <tr>\n",
       "      <th>42</th>\n",
       "      <td>42 Coin</td>\n",
       "      <td>Scrypt</td>\n",
       "      <td>PoW/PoS</td>\n",
       "      <td>4.199995e+01</td>\n",
       "      <td>42</td>\n",
       "    </tr>\n",
       "    <tr>\n",
       "      <th>404</th>\n",
       "      <td>404Coin</td>\n",
       "      <td>Scrypt</td>\n",
       "      <td>PoW/PoS</td>\n",
       "      <td>1.055185e+09</td>\n",
       "      <td>532000000</td>\n",
       "    </tr>\n",
       "    <tr>\n",
       "      <th>808</th>\n",
       "      <td>808</td>\n",
       "      <td>SHA-256</td>\n",
       "      <td>PoW/PoS</td>\n",
       "      <td>0.000000e+00</td>\n",
       "      <td>0</td>\n",
       "    </tr>\n",
       "    <tr>\n",
       "      <th>1337</th>\n",
       "      <td>EliteCoin</td>\n",
       "      <td>X13</td>\n",
       "      <td>PoW/PoS</td>\n",
       "      <td>2.927942e+10</td>\n",
       "      <td>314159265359</td>\n",
       "    </tr>\n",
       "    <tr>\n",
       "      <th>BTC</th>\n",
       "      <td>Bitcoin</td>\n",
       "      <td>SHA-256</td>\n",
       "      <td>PoW</td>\n",
       "      <td>1.792718e+07</td>\n",
       "      <td>21000000</td>\n",
       "    </tr>\n",
       "    <tr>\n",
       "      <th>...</th>\n",
       "      <td>...</td>\n",
       "      <td>...</td>\n",
       "      <td>...</td>\n",
       "      <td>...</td>\n",
       "      <td>...</td>\n",
       "    </tr>\n",
       "    <tr>\n",
       "      <th>ZEPH</th>\n",
       "      <td>ZEPHYR</td>\n",
       "      <td>SHA-256</td>\n",
       "      <td>DPoS</td>\n",
       "      <td>2.000000e+09</td>\n",
       "      <td>2000000000</td>\n",
       "    </tr>\n",
       "    <tr>\n",
       "      <th>GAP</th>\n",
       "      <td>Gapcoin</td>\n",
       "      <td>Scrypt</td>\n",
       "      <td>PoW/PoS</td>\n",
       "      <td>1.493105e+07</td>\n",
       "      <td>250000000</td>\n",
       "    </tr>\n",
       "    <tr>\n",
       "      <th>BDX</th>\n",
       "      <td>Beldex</td>\n",
       "      <td>CryptoNight</td>\n",
       "      <td>PoW</td>\n",
       "      <td>9.802226e+08</td>\n",
       "      <td>1400222610</td>\n",
       "    </tr>\n",
       "    <tr>\n",
       "      <th>ZEN</th>\n",
       "      <td>Horizen</td>\n",
       "      <td>Equihash</td>\n",
       "      <td>PoW</td>\n",
       "      <td>7.296538e+06</td>\n",
       "      <td>21000000</td>\n",
       "    </tr>\n",
       "    <tr>\n",
       "      <th>XBC</th>\n",
       "      <td>BitcoinPlus</td>\n",
       "      <td>Scrypt</td>\n",
       "      <td>PoS</td>\n",
       "      <td>1.283270e+05</td>\n",
       "      <td>1000000</td>\n",
       "    </tr>\n",
       "  </tbody>\n",
       "</table>\n",
       "<p>685 rows × 5 columns</p>\n",
       "</div>"
      ],
      "text/plain": [
       "         CoinName    Algorithm ProofType  TotalCoinsMined TotalCoinSupply\n",
       "42        42 Coin       Scrypt   PoW/PoS     4.199995e+01              42\n",
       "404       404Coin       Scrypt   PoW/PoS     1.055185e+09       532000000\n",
       "808           808      SHA-256   PoW/PoS     0.000000e+00               0\n",
       "1337    EliteCoin          X13   PoW/PoS     2.927942e+10    314159265359\n",
       "BTC       Bitcoin      SHA-256       PoW     1.792718e+07        21000000\n",
       "...           ...          ...       ...              ...             ...\n",
       "ZEPH       ZEPHYR      SHA-256      DPoS     2.000000e+09      2000000000\n",
       "GAP       Gapcoin       Scrypt   PoW/PoS     1.493105e+07       250000000\n",
       "BDX        Beldex  CryptoNight       PoW     9.802226e+08      1400222610\n",
       "ZEN       Horizen     Equihash       PoW     7.296538e+06        21000000\n",
       "XBC   BitcoinPlus       Scrypt       PoS     1.283270e+05         1000000\n",
       "\n",
       "[685 rows x 5 columns]"
      ]
     },
     "execution_count": 165,
     "metadata": {},
     "output_type": "execute_result"
    }
   ],
   "source": [
    "# Remove rows that have at least 1 null value.\n",
    "df_crypto = df_crypto.dropna(how='any',axis=0) \n",
    "df_crypto"
   ]
  },
  {
   "cell_type": "code",
   "execution_count": 166,
   "metadata": {},
   "outputs": [
    {
     "data": {
      "text/html": [
       "<div>\n",
       "<style scoped>\n",
       "    .dataframe tbody tr th:only-of-type {\n",
       "        vertical-align: middle;\n",
       "    }\n",
       "\n",
       "    .dataframe tbody tr th {\n",
       "        vertical-align: top;\n",
       "    }\n",
       "\n",
       "    .dataframe thead th {\n",
       "        text-align: right;\n",
       "    }\n",
       "</style>\n",
       "<table border=\"1\" class=\"dataframe\">\n",
       "  <thead>\n",
       "    <tr style=\"text-align: right;\">\n",
       "      <th></th>\n",
       "      <th>CoinName</th>\n",
       "      <th>Algorithm</th>\n",
       "      <th>ProofType</th>\n",
       "      <th>TotalCoinsMined</th>\n",
       "      <th>TotalCoinSupply</th>\n",
       "    </tr>\n",
       "  </thead>\n",
       "  <tbody>\n",
       "    <tr>\n",
       "      <th>42</th>\n",
       "      <td>42 Coin</td>\n",
       "      <td>Scrypt</td>\n",
       "      <td>PoW/PoS</td>\n",
       "      <td>4.199995e+01</td>\n",
       "      <td>42</td>\n",
       "    </tr>\n",
       "    <tr>\n",
       "      <th>404</th>\n",
       "      <td>404Coin</td>\n",
       "      <td>Scrypt</td>\n",
       "      <td>PoW/PoS</td>\n",
       "      <td>1.055185e+09</td>\n",
       "      <td>532000000</td>\n",
       "    </tr>\n",
       "    <tr>\n",
       "      <th>1337</th>\n",
       "      <td>EliteCoin</td>\n",
       "      <td>X13</td>\n",
       "      <td>PoW/PoS</td>\n",
       "      <td>2.927942e+10</td>\n",
       "      <td>314159265359</td>\n",
       "    </tr>\n",
       "    <tr>\n",
       "      <th>BTC</th>\n",
       "      <td>Bitcoin</td>\n",
       "      <td>SHA-256</td>\n",
       "      <td>PoW</td>\n",
       "      <td>1.792718e+07</td>\n",
       "      <td>21000000</td>\n",
       "    </tr>\n",
       "    <tr>\n",
       "      <th>ETH</th>\n",
       "      <td>Ethereum</td>\n",
       "      <td>Ethash</td>\n",
       "      <td>PoW</td>\n",
       "      <td>1.076842e+08</td>\n",
       "      <td>0</td>\n",
       "    </tr>\n",
       "    <tr>\n",
       "      <th>...</th>\n",
       "      <td>...</td>\n",
       "      <td>...</td>\n",
       "      <td>...</td>\n",
       "      <td>...</td>\n",
       "      <td>...</td>\n",
       "    </tr>\n",
       "    <tr>\n",
       "      <th>ZEPH</th>\n",
       "      <td>ZEPHYR</td>\n",
       "      <td>SHA-256</td>\n",
       "      <td>DPoS</td>\n",
       "      <td>2.000000e+09</td>\n",
       "      <td>2000000000</td>\n",
       "    </tr>\n",
       "    <tr>\n",
       "      <th>GAP</th>\n",
       "      <td>Gapcoin</td>\n",
       "      <td>Scrypt</td>\n",
       "      <td>PoW/PoS</td>\n",
       "      <td>1.493105e+07</td>\n",
       "      <td>250000000</td>\n",
       "    </tr>\n",
       "    <tr>\n",
       "      <th>BDX</th>\n",
       "      <td>Beldex</td>\n",
       "      <td>CryptoNight</td>\n",
       "      <td>PoW</td>\n",
       "      <td>9.802226e+08</td>\n",
       "      <td>1400222610</td>\n",
       "    </tr>\n",
       "    <tr>\n",
       "      <th>ZEN</th>\n",
       "      <td>Horizen</td>\n",
       "      <td>Equihash</td>\n",
       "      <td>PoW</td>\n",
       "      <td>7.296538e+06</td>\n",
       "      <td>21000000</td>\n",
       "    </tr>\n",
       "    <tr>\n",
       "      <th>XBC</th>\n",
       "      <td>BitcoinPlus</td>\n",
       "      <td>Scrypt</td>\n",
       "      <td>PoS</td>\n",
       "      <td>1.283270e+05</td>\n",
       "      <td>1000000</td>\n",
       "    </tr>\n",
       "  </tbody>\n",
       "</table>\n",
       "<p>532 rows × 5 columns</p>\n",
       "</div>"
      ],
      "text/plain": [
       "         CoinName    Algorithm ProofType  TotalCoinsMined TotalCoinSupply\n",
       "42        42 Coin       Scrypt   PoW/PoS     4.199995e+01              42\n",
       "404       404Coin       Scrypt   PoW/PoS     1.055185e+09       532000000\n",
       "1337    EliteCoin          X13   PoW/PoS     2.927942e+10    314159265359\n",
       "BTC       Bitcoin      SHA-256       PoW     1.792718e+07        21000000\n",
       "ETH      Ethereum       Ethash       PoW     1.076842e+08               0\n",
       "...           ...          ...       ...              ...             ...\n",
       "ZEPH       ZEPHYR      SHA-256      DPoS     2.000000e+09      2000000000\n",
       "GAP       Gapcoin       Scrypt   PoW/PoS     1.493105e+07       250000000\n",
       "BDX        Beldex  CryptoNight       PoW     9.802226e+08      1400222610\n",
       "ZEN       Horizen     Equihash       PoW     7.296538e+06        21000000\n",
       "XBC   BitcoinPlus       Scrypt       PoS     1.283270e+05         1000000\n",
       "\n",
       "[532 rows x 5 columns]"
      ]
     },
     "execution_count": 166,
     "metadata": {},
     "output_type": "execute_result"
    }
   ],
   "source": [
    "# Keep the rows where coins are mined.\n",
    "df_crypto = df_crypto[df_crypto.TotalCoinsMined > 0]\n",
    "df_crypto"
   ]
  },
  {
   "cell_type": "code",
   "execution_count": 167,
   "metadata": {},
   "outputs": [
    {
     "data": {
      "text/html": [
       "<div>\n",
       "<style scoped>\n",
       "    .dataframe tbody tr th:only-of-type {\n",
       "        vertical-align: middle;\n",
       "    }\n",
       "\n",
       "    .dataframe tbody tr th {\n",
       "        vertical-align: top;\n",
       "    }\n",
       "\n",
       "    .dataframe thead th {\n",
       "        text-align: right;\n",
       "    }\n",
       "</style>\n",
       "<table border=\"1\" class=\"dataframe\">\n",
       "  <thead>\n",
       "    <tr style=\"text-align: right;\">\n",
       "      <th></th>\n",
       "      <th>CoinName</th>\n",
       "    </tr>\n",
       "  </thead>\n",
       "  <tbody>\n",
       "    <tr>\n",
       "      <th>42</th>\n",
       "      <td>42 Coin</td>\n",
       "    </tr>\n",
       "    <tr>\n",
       "      <th>404</th>\n",
       "      <td>404Coin</td>\n",
       "    </tr>\n",
       "    <tr>\n",
       "      <th>1337</th>\n",
       "      <td>EliteCoin</td>\n",
       "    </tr>\n",
       "    <tr>\n",
       "      <th>BTC</th>\n",
       "      <td>Bitcoin</td>\n",
       "    </tr>\n",
       "    <tr>\n",
       "      <th>ETH</th>\n",
       "      <td>Ethereum</td>\n",
       "    </tr>\n",
       "    <tr>\n",
       "      <th>...</th>\n",
       "      <td>...</td>\n",
       "    </tr>\n",
       "    <tr>\n",
       "      <th>ZEPH</th>\n",
       "      <td>ZEPHYR</td>\n",
       "    </tr>\n",
       "    <tr>\n",
       "      <th>GAP</th>\n",
       "      <td>Gapcoin</td>\n",
       "    </tr>\n",
       "    <tr>\n",
       "      <th>BDX</th>\n",
       "      <td>Beldex</td>\n",
       "    </tr>\n",
       "    <tr>\n",
       "      <th>ZEN</th>\n",
       "      <td>Horizen</td>\n",
       "    </tr>\n",
       "    <tr>\n",
       "      <th>XBC</th>\n",
       "      <td>BitcoinPlus</td>\n",
       "    </tr>\n",
       "  </tbody>\n",
       "</table>\n",
       "<p>532 rows × 1 columns</p>\n",
       "</div>"
      ],
      "text/plain": [
       "         CoinName\n",
       "42        42 Coin\n",
       "404       404Coin\n",
       "1337    EliteCoin\n",
       "BTC       Bitcoin\n",
       "ETH      Ethereum\n",
       "...           ...\n",
       "ZEPH       ZEPHYR\n",
       "GAP       Gapcoin\n",
       "BDX        Beldex\n",
       "ZEN       Horizen\n",
       "XBC   BitcoinPlus\n",
       "\n",
       "[532 rows x 1 columns]"
      ]
     },
     "execution_count": 167,
     "metadata": {},
     "output_type": "execute_result"
    }
   ],
   "source": [
    "# Create a new DataFrame that holds only the cryptocurrencies names.\n",
    "names = df_crypto.filter(['CoinName'], axis=1)\n",
    "names"
   ]
  },
  {
   "cell_type": "code",
   "execution_count": 168,
   "metadata": {},
   "outputs": [
    {
     "data": {
      "text/html": [
       "<div>\n",
       "<style scoped>\n",
       "    .dataframe tbody tr th:only-of-type {\n",
       "        vertical-align: middle;\n",
       "    }\n",
       "\n",
       "    .dataframe tbody tr th {\n",
       "        vertical-align: top;\n",
       "    }\n",
       "\n",
       "    .dataframe thead th {\n",
       "        text-align: right;\n",
       "    }\n",
       "</style>\n",
       "<table border=\"1\" class=\"dataframe\">\n",
       "  <thead>\n",
       "    <tr style=\"text-align: right;\">\n",
       "      <th></th>\n",
       "      <th>Algorithm</th>\n",
       "      <th>ProofType</th>\n",
       "      <th>TotalCoinsMined</th>\n",
       "      <th>TotalCoinSupply</th>\n",
       "    </tr>\n",
       "  </thead>\n",
       "  <tbody>\n",
       "    <tr>\n",
       "      <th>42</th>\n",
       "      <td>Scrypt</td>\n",
       "      <td>PoW/PoS</td>\n",
       "      <td>4.199995e+01</td>\n",
       "      <td>42</td>\n",
       "    </tr>\n",
       "    <tr>\n",
       "      <th>404</th>\n",
       "      <td>Scrypt</td>\n",
       "      <td>PoW/PoS</td>\n",
       "      <td>1.055185e+09</td>\n",
       "      <td>532000000</td>\n",
       "    </tr>\n",
       "    <tr>\n",
       "      <th>1337</th>\n",
       "      <td>X13</td>\n",
       "      <td>PoW/PoS</td>\n",
       "      <td>2.927942e+10</td>\n",
       "      <td>314159265359</td>\n",
       "    </tr>\n",
       "    <tr>\n",
       "      <th>BTC</th>\n",
       "      <td>SHA-256</td>\n",
       "      <td>PoW</td>\n",
       "      <td>1.792718e+07</td>\n",
       "      <td>21000000</td>\n",
       "    </tr>\n",
       "    <tr>\n",
       "      <th>ETH</th>\n",
       "      <td>Ethash</td>\n",
       "      <td>PoW</td>\n",
       "      <td>1.076842e+08</td>\n",
       "      <td>0</td>\n",
       "    </tr>\n",
       "    <tr>\n",
       "      <th>...</th>\n",
       "      <td>...</td>\n",
       "      <td>...</td>\n",
       "      <td>...</td>\n",
       "      <td>...</td>\n",
       "    </tr>\n",
       "    <tr>\n",
       "      <th>ZEPH</th>\n",
       "      <td>SHA-256</td>\n",
       "      <td>DPoS</td>\n",
       "      <td>2.000000e+09</td>\n",
       "      <td>2000000000</td>\n",
       "    </tr>\n",
       "    <tr>\n",
       "      <th>GAP</th>\n",
       "      <td>Scrypt</td>\n",
       "      <td>PoW/PoS</td>\n",
       "      <td>1.493105e+07</td>\n",
       "      <td>250000000</td>\n",
       "    </tr>\n",
       "    <tr>\n",
       "      <th>BDX</th>\n",
       "      <td>CryptoNight</td>\n",
       "      <td>PoW</td>\n",
       "      <td>9.802226e+08</td>\n",
       "      <td>1400222610</td>\n",
       "    </tr>\n",
       "    <tr>\n",
       "      <th>ZEN</th>\n",
       "      <td>Equihash</td>\n",
       "      <td>PoW</td>\n",
       "      <td>7.296538e+06</td>\n",
       "      <td>21000000</td>\n",
       "    </tr>\n",
       "    <tr>\n",
       "      <th>XBC</th>\n",
       "      <td>Scrypt</td>\n",
       "      <td>PoS</td>\n",
       "      <td>1.283270e+05</td>\n",
       "      <td>1000000</td>\n",
       "    </tr>\n",
       "  </tbody>\n",
       "</table>\n",
       "<p>532 rows × 4 columns</p>\n",
       "</div>"
      ],
      "text/plain": [
       "        Algorithm ProofType  TotalCoinsMined TotalCoinSupply\n",
       "42         Scrypt   PoW/PoS     4.199995e+01              42\n",
       "404        Scrypt   PoW/PoS     1.055185e+09       532000000\n",
       "1337          X13   PoW/PoS     2.927942e+10    314159265359\n",
       "BTC       SHA-256       PoW     1.792718e+07        21000000\n",
       "ETH        Ethash       PoW     1.076842e+08               0\n",
       "...           ...       ...              ...             ...\n",
       "ZEPH      SHA-256      DPoS     2.000000e+09      2000000000\n",
       "GAP        Scrypt   PoW/PoS     1.493105e+07       250000000\n",
       "BDX   CryptoNight       PoW     9.802226e+08      1400222610\n",
       "ZEN      Equihash       PoW     7.296538e+06        21000000\n",
       "XBC        Scrypt       PoS     1.283270e+05         1000000\n",
       "\n",
       "[532 rows x 4 columns]"
      ]
     },
     "execution_count": 168,
     "metadata": {},
     "output_type": "execute_result"
    }
   ],
   "source": [
    "# Drop the 'CoinName' column since it's not going to be used on the clustering algorithm.\n",
    "df_crypto = df_crypto.drop(['CoinName'],axis = 1)\n",
    "df_crypto"
   ]
  },
  {
   "cell_type": "code",
   "execution_count": 169,
   "metadata": {},
   "outputs": [
    {
     "data": {
      "text/html": [
       "<div>\n",
       "<style scoped>\n",
       "    .dataframe tbody tr th:only-of-type {\n",
       "        vertical-align: middle;\n",
       "    }\n",
       "\n",
       "    .dataframe tbody tr th {\n",
       "        vertical-align: top;\n",
       "    }\n",
       "\n",
       "    .dataframe thead th {\n",
       "        text-align: right;\n",
       "    }\n",
       "</style>\n",
       "<table border=\"1\" class=\"dataframe\">\n",
       "  <thead>\n",
       "    <tr style=\"text-align: right;\">\n",
       "      <th></th>\n",
       "      <th>TotalCoinsMined</th>\n",
       "      <th>TotalCoinSupply</th>\n",
       "      <th>1GB AES Pattern Search</th>\n",
       "      <th>536</th>\n",
       "      <th>Argon2d</th>\n",
       "      <th>BLAKE256</th>\n",
       "      <th>Blake</th>\n",
       "      <th>Blake2S</th>\n",
       "      <th>Blake2b</th>\n",
       "      <th>C11</th>\n",
       "      <th>...</th>\n",
       "      <th>PoW/PoS</th>\n",
       "      <th>PoW/PoS</th>\n",
       "      <th>PoW/PoW</th>\n",
       "      <th>PoW/nPoS</th>\n",
       "      <th>Pos</th>\n",
       "      <th>Proof of Authority</th>\n",
       "      <th>Proof of Trust</th>\n",
       "      <th>TPoS</th>\n",
       "      <th>Zero-Knowledge Proof</th>\n",
       "      <th>dPoW/PoW</th>\n",
       "    </tr>\n",
       "  </thead>\n",
       "  <tbody>\n",
       "    <tr>\n",
       "      <th>42</th>\n",
       "      <td>4.199995e+01</td>\n",
       "      <td>42</td>\n",
       "      <td>0</td>\n",
       "      <td>0</td>\n",
       "      <td>0</td>\n",
       "      <td>0</td>\n",
       "      <td>0</td>\n",
       "      <td>0</td>\n",
       "      <td>0</td>\n",
       "      <td>0</td>\n",
       "      <td>...</td>\n",
       "      <td>1</td>\n",
       "      <td>0</td>\n",
       "      <td>0</td>\n",
       "      <td>0</td>\n",
       "      <td>0</td>\n",
       "      <td>0</td>\n",
       "      <td>0</td>\n",
       "      <td>0</td>\n",
       "      <td>0</td>\n",
       "      <td>0</td>\n",
       "    </tr>\n",
       "    <tr>\n",
       "      <th>404</th>\n",
       "      <td>1.055185e+09</td>\n",
       "      <td>532000000</td>\n",
       "      <td>0</td>\n",
       "      <td>0</td>\n",
       "      <td>0</td>\n",
       "      <td>0</td>\n",
       "      <td>0</td>\n",
       "      <td>0</td>\n",
       "      <td>0</td>\n",
       "      <td>0</td>\n",
       "      <td>...</td>\n",
       "      <td>1</td>\n",
       "      <td>0</td>\n",
       "      <td>0</td>\n",
       "      <td>0</td>\n",
       "      <td>0</td>\n",
       "      <td>0</td>\n",
       "      <td>0</td>\n",
       "      <td>0</td>\n",
       "      <td>0</td>\n",
       "      <td>0</td>\n",
       "    </tr>\n",
       "    <tr>\n",
       "      <th>1337</th>\n",
       "      <td>2.927942e+10</td>\n",
       "      <td>314159265359</td>\n",
       "      <td>0</td>\n",
       "      <td>0</td>\n",
       "      <td>0</td>\n",
       "      <td>0</td>\n",
       "      <td>0</td>\n",
       "      <td>0</td>\n",
       "      <td>0</td>\n",
       "      <td>0</td>\n",
       "      <td>...</td>\n",
       "      <td>1</td>\n",
       "      <td>0</td>\n",
       "      <td>0</td>\n",
       "      <td>0</td>\n",
       "      <td>0</td>\n",
       "      <td>0</td>\n",
       "      <td>0</td>\n",
       "      <td>0</td>\n",
       "      <td>0</td>\n",
       "      <td>0</td>\n",
       "    </tr>\n",
       "    <tr>\n",
       "      <th>BTC</th>\n",
       "      <td>1.792718e+07</td>\n",
       "      <td>21000000</td>\n",
       "      <td>0</td>\n",
       "      <td>0</td>\n",
       "      <td>0</td>\n",
       "      <td>0</td>\n",
       "      <td>0</td>\n",
       "      <td>0</td>\n",
       "      <td>0</td>\n",
       "      <td>0</td>\n",
       "      <td>...</td>\n",
       "      <td>0</td>\n",
       "      <td>0</td>\n",
       "      <td>0</td>\n",
       "      <td>0</td>\n",
       "      <td>0</td>\n",
       "      <td>0</td>\n",
       "      <td>0</td>\n",
       "      <td>0</td>\n",
       "      <td>0</td>\n",
       "      <td>0</td>\n",
       "    </tr>\n",
       "    <tr>\n",
       "      <th>ETH</th>\n",
       "      <td>1.076842e+08</td>\n",
       "      <td>0</td>\n",
       "      <td>0</td>\n",
       "      <td>0</td>\n",
       "      <td>0</td>\n",
       "      <td>0</td>\n",
       "      <td>0</td>\n",
       "      <td>0</td>\n",
       "      <td>0</td>\n",
       "      <td>0</td>\n",
       "      <td>...</td>\n",
       "      <td>0</td>\n",
       "      <td>0</td>\n",
       "      <td>0</td>\n",
       "      <td>0</td>\n",
       "      <td>0</td>\n",
       "      <td>0</td>\n",
       "      <td>0</td>\n",
       "      <td>0</td>\n",
       "      <td>0</td>\n",
       "      <td>0</td>\n",
       "    </tr>\n",
       "    <tr>\n",
       "      <th>...</th>\n",
       "      <td>...</td>\n",
       "      <td>...</td>\n",
       "      <td>...</td>\n",
       "      <td>...</td>\n",
       "      <td>...</td>\n",
       "      <td>...</td>\n",
       "      <td>...</td>\n",
       "      <td>...</td>\n",
       "      <td>...</td>\n",
       "      <td>...</td>\n",
       "      <td>...</td>\n",
       "      <td>...</td>\n",
       "      <td>...</td>\n",
       "      <td>...</td>\n",
       "      <td>...</td>\n",
       "      <td>...</td>\n",
       "      <td>...</td>\n",
       "      <td>...</td>\n",
       "      <td>...</td>\n",
       "      <td>...</td>\n",
       "      <td>...</td>\n",
       "    </tr>\n",
       "    <tr>\n",
       "      <th>ZEPH</th>\n",
       "      <td>2.000000e+09</td>\n",
       "      <td>2000000000</td>\n",
       "      <td>0</td>\n",
       "      <td>0</td>\n",
       "      <td>0</td>\n",
       "      <td>0</td>\n",
       "      <td>0</td>\n",
       "      <td>0</td>\n",
       "      <td>0</td>\n",
       "      <td>0</td>\n",
       "      <td>...</td>\n",
       "      <td>0</td>\n",
       "      <td>0</td>\n",
       "      <td>0</td>\n",
       "      <td>0</td>\n",
       "      <td>0</td>\n",
       "      <td>0</td>\n",
       "      <td>0</td>\n",
       "      <td>0</td>\n",
       "      <td>0</td>\n",
       "      <td>0</td>\n",
       "    </tr>\n",
       "    <tr>\n",
       "      <th>GAP</th>\n",
       "      <td>1.493105e+07</td>\n",
       "      <td>250000000</td>\n",
       "      <td>0</td>\n",
       "      <td>0</td>\n",
       "      <td>0</td>\n",
       "      <td>0</td>\n",
       "      <td>0</td>\n",
       "      <td>0</td>\n",
       "      <td>0</td>\n",
       "      <td>0</td>\n",
       "      <td>...</td>\n",
       "      <td>1</td>\n",
       "      <td>0</td>\n",
       "      <td>0</td>\n",
       "      <td>0</td>\n",
       "      <td>0</td>\n",
       "      <td>0</td>\n",
       "      <td>0</td>\n",
       "      <td>0</td>\n",
       "      <td>0</td>\n",
       "      <td>0</td>\n",
       "    </tr>\n",
       "    <tr>\n",
       "      <th>BDX</th>\n",
       "      <td>9.802226e+08</td>\n",
       "      <td>1400222610</td>\n",
       "      <td>0</td>\n",
       "      <td>0</td>\n",
       "      <td>0</td>\n",
       "      <td>0</td>\n",
       "      <td>0</td>\n",
       "      <td>0</td>\n",
       "      <td>0</td>\n",
       "      <td>0</td>\n",
       "      <td>...</td>\n",
       "      <td>0</td>\n",
       "      <td>0</td>\n",
       "      <td>0</td>\n",
       "      <td>0</td>\n",
       "      <td>0</td>\n",
       "      <td>0</td>\n",
       "      <td>0</td>\n",
       "      <td>0</td>\n",
       "      <td>0</td>\n",
       "      <td>0</td>\n",
       "    </tr>\n",
       "    <tr>\n",
       "      <th>ZEN</th>\n",
       "      <td>7.296538e+06</td>\n",
       "      <td>21000000</td>\n",
       "      <td>0</td>\n",
       "      <td>0</td>\n",
       "      <td>0</td>\n",
       "      <td>0</td>\n",
       "      <td>0</td>\n",
       "      <td>0</td>\n",
       "      <td>0</td>\n",
       "      <td>0</td>\n",
       "      <td>...</td>\n",
       "      <td>0</td>\n",
       "      <td>0</td>\n",
       "      <td>0</td>\n",
       "      <td>0</td>\n",
       "      <td>0</td>\n",
       "      <td>0</td>\n",
       "      <td>0</td>\n",
       "      <td>0</td>\n",
       "      <td>0</td>\n",
       "      <td>0</td>\n",
       "    </tr>\n",
       "    <tr>\n",
       "      <th>XBC</th>\n",
       "      <td>1.283270e+05</td>\n",
       "      <td>1000000</td>\n",
       "      <td>0</td>\n",
       "      <td>0</td>\n",
       "      <td>0</td>\n",
       "      <td>0</td>\n",
       "      <td>0</td>\n",
       "      <td>0</td>\n",
       "      <td>0</td>\n",
       "      <td>0</td>\n",
       "      <td>...</td>\n",
       "      <td>0</td>\n",
       "      <td>0</td>\n",
       "      <td>0</td>\n",
       "      <td>0</td>\n",
       "      <td>0</td>\n",
       "      <td>0</td>\n",
       "      <td>0</td>\n",
       "      <td>0</td>\n",
       "      <td>0</td>\n",
       "      <td>0</td>\n",
       "    </tr>\n",
       "  </tbody>\n",
       "</table>\n",
       "<p>532 rows × 98 columns</p>\n",
       "</div>"
      ],
      "text/plain": [
       "      TotalCoinsMined TotalCoinSupply  1GB AES Pattern Search  536  Argon2d  \\\n",
       "42       4.199995e+01              42                       0    0        0   \n",
       "404      1.055185e+09       532000000                       0    0        0   \n",
       "1337     2.927942e+10    314159265359                       0    0        0   \n",
       "BTC      1.792718e+07        21000000                       0    0        0   \n",
       "ETH      1.076842e+08               0                       0    0        0   \n",
       "...               ...             ...                     ...  ...      ...   \n",
       "ZEPH     2.000000e+09      2000000000                       0    0        0   \n",
       "GAP      1.493105e+07       250000000                       0    0        0   \n",
       "BDX      9.802226e+08      1400222610                       0    0        0   \n",
       "ZEN      7.296538e+06        21000000                       0    0        0   \n",
       "XBC      1.283270e+05         1000000                       0    0        0   \n",
       "\n",
       "      BLAKE256  Blake  Blake2S  Blake2b  C11  ...  PoW/PoS  PoW/PoS   PoW/PoW  \\\n",
       "42           0      0        0        0    0  ...        1         0        0   \n",
       "404          0      0        0        0    0  ...        1         0        0   \n",
       "1337         0      0        0        0    0  ...        1         0        0   \n",
       "BTC          0      0        0        0    0  ...        0         0        0   \n",
       "ETH          0      0        0        0    0  ...        0         0        0   \n",
       "...        ...    ...      ...      ...  ...  ...      ...       ...      ...   \n",
       "ZEPH         0      0        0        0    0  ...        0         0        0   \n",
       "GAP          0      0        0        0    0  ...        1         0        0   \n",
       "BDX          0      0        0        0    0  ...        0         0        0   \n",
       "ZEN          0      0        0        0    0  ...        0         0        0   \n",
       "XBC          0      0        0        0    0  ...        0         0        0   \n",
       "\n",
       "      PoW/nPoS  Pos  Proof of Authority  Proof of Trust  TPoS  \\\n",
       "42           0    0                   0               0     0   \n",
       "404          0    0                   0               0     0   \n",
       "1337         0    0                   0               0     0   \n",
       "BTC          0    0                   0               0     0   \n",
       "ETH          0    0                   0               0     0   \n",
       "...        ...  ...                 ...             ...   ...   \n",
       "ZEPH         0    0                   0               0     0   \n",
       "GAP          0    0                   0               0     0   \n",
       "BDX          0    0                   0               0     0   \n",
       "ZEN          0    0                   0               0     0   \n",
       "XBC          0    0                   0               0     0   \n",
       "\n",
       "      Zero-Knowledge Proof  dPoW/PoW  \n",
       "42                       0         0  \n",
       "404                      0         0  \n",
       "1337                     0         0  \n",
       "BTC                      0         0  \n",
       "ETH                      0         0  \n",
       "...                    ...       ...  \n",
       "ZEPH                     0         0  \n",
       "GAP                      0         0  \n",
       "BDX                      0         0  \n",
       "ZEN                      0         0  \n",
       "XBC                      0         0  \n",
       "\n",
       "[532 rows x 98 columns]"
      ]
     },
     "execution_count": 169,
     "metadata": {},
     "output_type": "execute_result"
    }
   ],
   "source": [
    "# Use get_dummies() to create variables for text features.\n",
    "crypto = pd.get_dummies(df_crypto['Algorithm'])\n",
    "dummy = pd.get_dummies(df_crypto['ProofType'])\n",
    "combined = pd.concat([crypto,dummy],axis =1)\n",
    "df = df_crypto.merge(combined,left_index = True,right_index = True)\n",
    "df = df.drop(['Algorithm','ProofType'],axis = 1)\n",
    "df"
   ]
  },
  {
   "cell_type": "code",
   "execution_count": 170,
   "metadata": {},
   "outputs": [
    {
     "name": "stdout",
     "output_type": "stream",
     "text": [
      "[[-0.11710817 -0.1528703  -0.0433963  ... -0.0433963  -0.0433963\n",
      "  -0.0433963 ]\n",
      " [-0.09396955 -0.145009   -0.0433963  ... -0.0433963  -0.0433963\n",
      "  -0.0433963 ]\n",
      " [ 0.52494561  4.48942416 -0.0433963  ... -0.0433963  -0.0433963\n",
      "  -0.0433963 ]\n",
      " ...\n",
      " [-0.09561336 -0.13217937 -0.0433963  ... -0.0433963  -0.0433963\n",
      "  -0.0433963 ]\n",
      " [-0.11694817 -0.15255998 -0.0433963  ... -0.0433963  -0.0433963\n",
      "  -0.0433963 ]\n",
      " [-0.11710536 -0.15285552 -0.0433963  ... -0.0433963  -0.0433963\n",
      "  -0.0433963 ]]\n"
     ]
    }
   ],
   "source": [
    "# Standardize the data with StandardScaler().\n",
    "df_scaled = StandardScaler().fit_transform(df)\n",
    "print(df_scaled)"
   ]
  },
  {
   "cell_type": "markdown",
   "metadata": {},
   "source": [
    "### Deliverable 2: Reducing Data Dimensions Using PCA"
   ]
  },
  {
   "cell_type": "code",
   "execution_count": 171,
   "metadata": {},
   "outputs": [
    {
     "data": {
      "text/plain": [
       "array([[-0.33994342,  1.02874653, -0.49134816],\n",
       "       [-0.32321515,  1.0290103 , -0.49179857],\n",
       "       [ 2.33256304,  1.55137652, -0.66868375],\n",
       "       ...,\n",
       "       [ 0.31823919, -2.37784321,  0.38137722],\n",
       "       [-0.17549466, -1.89731037,  0.34403584],\n",
       "       [-0.30508179,  0.8656418 , -0.17667271]])"
      ]
     },
     "execution_count": 171,
     "metadata": {},
     "output_type": "execute_result"
    }
   ],
   "source": [
    "# Using PCA to reduce dimension to three principal components.\n",
    "pca = PCA(n_components=3)\n",
    "df_pca = pca.fit_transform(df_scaled)\n",
    "df_pca"
   ]
  },
  {
   "cell_type": "code",
   "execution_count": 172,
   "metadata": {},
   "outputs": [
    {
     "data": {
      "text/html": [
       "<div>\n",
       "<style scoped>\n",
       "    .dataframe tbody tr th:only-of-type {\n",
       "        vertical-align: middle;\n",
       "    }\n",
       "\n",
       "    .dataframe tbody tr th {\n",
       "        vertical-align: top;\n",
       "    }\n",
       "\n",
       "    .dataframe thead th {\n",
       "        text-align: right;\n",
       "    }\n",
       "</style>\n",
       "<table border=\"1\" class=\"dataframe\">\n",
       "  <thead>\n",
       "    <tr style=\"text-align: right;\">\n",
       "      <th></th>\n",
       "      <th>PC1</th>\n",
       "      <th>PC2</th>\n",
       "      <th>PC3</th>\n",
       "    </tr>\n",
       "  </thead>\n",
       "  <tbody>\n",
       "    <tr>\n",
       "      <th>42</th>\n",
       "      <td>-0.339943</td>\n",
       "      <td>1.028747</td>\n",
       "      <td>-0.491348</td>\n",
       "    </tr>\n",
       "    <tr>\n",
       "      <th>404</th>\n",
       "      <td>-0.323215</td>\n",
       "      <td>1.029010</td>\n",
       "      <td>-0.491799</td>\n",
       "    </tr>\n",
       "    <tr>\n",
       "      <th>1337</th>\n",
       "      <td>2.332563</td>\n",
       "      <td>1.551377</td>\n",
       "      <td>-0.668684</td>\n",
       "    </tr>\n",
       "    <tr>\n",
       "      <th>BTC</th>\n",
       "      <td>-0.123841</td>\n",
       "      <td>-1.292523</td>\n",
       "      <td>0.111217</td>\n",
       "    </tr>\n",
       "    <tr>\n",
       "      <th>ETH</th>\n",
       "      <td>-0.174331</td>\n",
       "      <td>-2.204829</td>\n",
       "      <td>0.355806</td>\n",
       "    </tr>\n",
       "    <tr>\n",
       "      <th>...</th>\n",
       "      <td>...</td>\n",
       "      <td>...</td>\n",
       "      <td>...</td>\n",
       "    </tr>\n",
       "    <tr>\n",
       "      <th>ZEPH</th>\n",
       "      <td>2.438012</td>\n",
       "      <td>0.845794</td>\n",
       "      <td>-0.068695</td>\n",
       "    </tr>\n",
       "    <tr>\n",
       "      <th>GAP</th>\n",
       "      <td>-0.337982</td>\n",
       "      <td>1.028626</td>\n",
       "      <td>-0.491379</td>\n",
       "    </tr>\n",
       "    <tr>\n",
       "      <th>BDX</th>\n",
       "      <td>0.318239</td>\n",
       "      <td>-2.377843</td>\n",
       "      <td>0.381377</td>\n",
       "    </tr>\n",
       "    <tr>\n",
       "      <th>ZEN</th>\n",
       "      <td>-0.175495</td>\n",
       "      <td>-1.897310</td>\n",
       "      <td>0.344036</td>\n",
       "    </tr>\n",
       "    <tr>\n",
       "      <th>XBC</th>\n",
       "      <td>-0.305082</td>\n",
       "      <td>0.865642</td>\n",
       "      <td>-0.176673</td>\n",
       "    </tr>\n",
       "  </tbody>\n",
       "</table>\n",
       "<p>532 rows × 3 columns</p>\n",
       "</div>"
      ],
      "text/plain": [
       "           PC1       PC2       PC3\n",
       "42   -0.339943  1.028747 -0.491348\n",
       "404  -0.323215  1.029010 -0.491799\n",
       "1337  2.332563  1.551377 -0.668684\n",
       "BTC  -0.123841 -1.292523  0.111217\n",
       "ETH  -0.174331 -2.204829  0.355806\n",
       "...        ...       ...       ...\n",
       "ZEPH  2.438012  0.845794 -0.068695\n",
       "GAP  -0.337982  1.028626 -0.491379\n",
       "BDX   0.318239 -2.377843  0.381377\n",
       "ZEN  -0.175495 -1.897310  0.344036\n",
       "XBC  -0.305082  0.865642 -0.176673\n",
       "\n",
       "[532 rows x 3 columns]"
      ]
     },
     "execution_count": 172,
     "metadata": {},
     "output_type": "execute_result"
    }
   ],
   "source": [
    "# Create a DataFrame with the three principal components.\n",
    "pcs_df = pd.DataFrame(\n",
    "    data = df_pca, columns = ['PC1','PC2','PC3'], index = df_crypto.index\n",
    ")\n",
    "pcs_df"
   ]
  },
  {
   "cell_type": "markdown",
   "metadata": {},
   "source": [
    "### Deliverable 3: Clustering Crytocurrencies Using K-Means\n",
    "\n",
    "#### Finding the Best Value for `k` Using the Elbow Curve"
   ]
  },
  {
   "cell_type": "code",
   "execution_count": 173,
   "metadata": {},
   "outputs": [
    {
     "name": "stderr",
     "output_type": "stream",
     "text": [
      "C:\\Users\\alexr\\anaconda3\\envs\\PythonData\\lib\\site-packages\\sklearn\\cluster\\_kmeans.py:881: UserWarning:\n",
      "\n",
      "KMeans is known to have a memory leak on Windows with MKL, when there are less chunks than available threads. You can avoid it by setting the environment variable OMP_NUM_THREADS=3.\n",
      "\n"
     ]
    },
    {
     "data": {},
     "metadata": {},
     "output_type": "display_data"
    },
    {
     "data": {
      "application/vnd.holoviews_exec.v0+json": "",
      "text/html": [
       "<div id='4963'>\n",
       "\n",
       "\n",
       "\n",
       "\n",
       "\n",
       "  <div class=\"bk-root\" id=\"f3331d42-7504-46db-98c2-76bea55d08aa\" data-root-id=\"4963\"></div>\n",
       "</div>\n",
       "<script type=\"application/javascript\">(function(root) {\n",
       "  function embed_document(root) {\n",
       "    var docs_json = {\"de1ac28e-b4a1-4e03-adc8-c37b73c067f0\":{\"defs\":[{\"extends\":null,\"module\":null,\"name\":\"ReactiveHTML1\",\"overrides\":[],\"properties\":[]},{\"extends\":null,\"module\":null,\"name\":\"FlexBox1\",\"overrides\":[],\"properties\":[{\"default\":\"flex-start\",\"kind\":null,\"name\":\"align_content\"},{\"default\":\"flex-start\",\"kind\":null,\"name\":\"align_items\"},{\"default\":\"row\",\"kind\":null,\"name\":\"flex_direction\"},{\"default\":\"wrap\",\"kind\":null,\"name\":\"flex_wrap\"},{\"default\":\"flex-start\",\"kind\":null,\"name\":\"justify_content\"}]},{\"extends\":null,\"module\":null,\"name\":\"TemplateActions1\",\"overrides\":[],\"properties\":[{\"default\":0,\"kind\":null,\"name\":\"open_modal\"},{\"default\":0,\"kind\":null,\"name\":\"close_modal\"}]},{\"extends\":null,\"module\":null,\"name\":\"MaterialTemplateActions1\",\"overrides\":[],\"properties\":[{\"default\":0,\"kind\":null,\"name\":\"open_modal\"},{\"default\":0,\"kind\":null,\"name\":\"close_modal\"}]}],\"roots\":{\"references\":[{\"attributes\":{\"margin\":[5,5,5,5],\"name\":\"HSpacer09391\",\"sizing_mode\":\"stretch_width\"},\"id\":\"5034\",\"type\":\"Spacer\"},{\"attributes\":{\"axis\":{\"id\":\"4981\"},\"coordinates\":null,\"dimension\":1,\"grid_line_color\":null,\"group\":null,\"ticker\":null},\"id\":\"4984\",\"type\":\"Grid\"},{\"attributes\":{},\"id\":\"4986\",\"type\":\"PanTool\"},{\"attributes\":{\"axis_label\":\"inertia\",\"coordinates\":null,\"formatter\":{\"id\":\"5014\"},\"group\":null,\"major_label_policy\":{\"id\":\"5015\"},\"ticker\":{\"id\":\"4982\"}},\"id\":\"4981\",\"type\":\"LinearAxis\"},{\"attributes\":{\"line_alpha\":0.1,\"line_color\":\"#30a2da\",\"line_width\":2,\"x\":{\"field\":\"k\"},\"y\":{\"field\":\"inertia\"}},\"id\":\"5002\",\"type\":\"Line\"},{\"attributes\":{\"margin\":[5,5,5,5],\"name\":\"HSpacer09390\",\"sizing_mode\":\"stretch_width\"},\"id\":\"4964\",\"type\":\"Spacer\"},{\"attributes\":{},\"id\":\"4982\",\"type\":\"BasicTicker\"},{\"attributes\":{\"coordinates\":null,\"data_source\":{\"id\":\"4998\"},\"glyph\":{\"id\":\"5001\"},\"group\":null,\"hover_glyph\":null,\"muted_glyph\":{\"id\":\"5003\"},\"nonselection_glyph\":{\"id\":\"5002\"},\"selection_glyph\":{\"id\":\"5006\"},\"view\":{\"id\":\"5005\"}},\"id\":\"5004\",\"type\":\"GlyphRenderer\"},{\"attributes\":{},\"id\":\"4987\",\"type\":\"WheelZoomTool\"},{\"attributes\":{\"line_color\":\"#30a2da\",\"line_width\":2,\"x\":{\"field\":\"k\"},\"y\":{\"field\":\"inertia\"}},\"id\":\"5001\",\"type\":\"Line\"},{\"attributes\":{\"data\":{\"inertia\":{\"__ndarray__\":\"H3zy5EJsrEBWROoc0kOjQJONrTIyKZdASGNeuGJ1hkBCDJ3ctNB7QKj8GfCDEnFAsftLfEVaakCVG6Y2c6lkQDGfoD4DuGBAOq5wTCBqW0A=\",\"dtype\":\"float64\",\"order\":\"little\",\"shape\":[10]},\"k\":[1,2,3,4,5,6,7,8,9,10]},\"selected\":{\"id\":\"4999\"},\"selection_policy\":{\"id\":\"5022\"}},\"id\":\"4998\",\"type\":\"ColumnDataSource\"},{\"attributes\":{},\"id\":\"4985\",\"type\":\"SaveTool\"},{\"attributes\":{\"line_alpha\":0.2,\"line_color\":\"#30a2da\",\"line_width\":2,\"x\":{\"field\":\"k\"},\"y\":{\"field\":\"inertia\"}},\"id\":\"5003\",\"type\":\"Line\"},{\"attributes\":{\"overlay\":{\"id\":\"4990\"}},\"id\":\"4988\",\"type\":\"BoxZoomTool\"},{\"attributes\":{\"source\":{\"id\":\"4998\"}},\"id\":\"5005\",\"type\":\"CDSView\"},{\"attributes\":{},\"id\":\"4989\",\"type\":\"ResetTool\"},{\"attributes\":{},\"id\":\"4973\",\"type\":\"LinearScale\"},{\"attributes\":{\"line_color\":\"#30a2da\",\"line_width\":2,\"x\":{\"field\":\"k\"},\"y\":{\"field\":\"inertia\"}},\"id\":\"5006\",\"type\":\"Line\"},{\"attributes\":{\"bottom_units\":\"screen\",\"coordinates\":null,\"fill_alpha\":0.5,\"fill_color\":\"lightgrey\",\"group\":null,\"left_units\":\"screen\",\"level\":\"overlay\",\"line_alpha\":1.0,\"line_color\":\"black\",\"line_dash\":[4,4],\"line_width\":2,\"right_units\":\"screen\",\"syncable\":false,\"top_units\":\"screen\"},\"id\":\"4990\",\"type\":\"BoxAnnotation\"},{\"attributes\":{},\"id\":\"5009\",\"type\":\"BasicTickFormatter\"},{\"attributes\":{\"end\":3990.977896141446,\"reset_end\":3990.977896141446,\"reset_start\":-243.18902181312714,\"start\":-243.18902181312714,\"tags\":[[[\"inertia\",\"inertia\",null]]]},\"id\":\"4966\",\"type\":\"Range1d\"},{\"attributes\":{\"tools\":[{\"id\":\"4967\"},{\"id\":\"4985\"},{\"id\":\"4986\"},{\"id\":\"4987\"},{\"id\":\"4988\"},{\"id\":\"4989\"}]},\"id\":\"4991\",\"type\":\"Toolbar\"},{\"attributes\":{\"ticks\":[1,2,3,4,5,6,7,8,9,10]},\"id\":\"5007\",\"type\":\"FixedTicker\"},{\"attributes\":{\"end\":10.0,\"reset_end\":10.0,\"reset_start\":1.0,\"start\":1.0,\"tags\":[[[\"k\",\"k\",null]]]},\"id\":\"4965\",\"type\":\"Range1d\"},{\"attributes\":{},\"id\":\"5010\",\"type\":\"AllLabels\"},{\"attributes\":{},\"id\":\"5015\",\"type\":\"AllLabels\"},{\"attributes\":{},\"id\":\"5022\",\"type\":\"UnionRenderers\"},{\"attributes\":{\"children\":[{\"id\":\"4964\"},{\"id\":\"4968\"},{\"id\":\"5034\"}],\"margin\":[0,0,0,0],\"name\":\"Row09386\",\"tags\":[\"embedded\"]},\"id\":\"4963\",\"type\":\"Row\"},{\"attributes\":{\"callback\":null,\"renderers\":[{\"id\":\"5004\"}],\"tags\":[\"hv_created\"],\"tooltips\":[[\"k\",\"@{k}\"],[\"inertia\",\"@{inertia}\"]]},\"id\":\"4967\",\"type\":\"HoverTool\"},{\"attributes\":{\"coordinates\":null,\"group\":null,\"text\":\"Elbow Curve\",\"text_color\":\"black\",\"text_font_size\":\"12pt\"},\"id\":\"4969\",\"type\":\"Title\"},{\"attributes\":{\"axis\":{\"id\":\"4977\"},\"coordinates\":null,\"grid_line_color\":null,\"group\":null,\"ticker\":null},\"id\":\"4980\",\"type\":\"Grid\"},{\"attributes\":{\"below\":[{\"id\":\"4977\"}],\"center\":[{\"id\":\"4980\"},{\"id\":\"4984\"}],\"height\":300,\"left\":[{\"id\":\"4981\"}],\"margin\":[5,5,5,5],\"min_border_bottom\":10,\"min_border_left\":10,\"min_border_right\":10,\"min_border_top\":10,\"renderers\":[{\"id\":\"5004\"}],\"sizing_mode\":\"fixed\",\"title\":{\"id\":\"4969\"},\"toolbar\":{\"id\":\"4991\"},\"width\":700,\"x_range\":{\"id\":\"4965\"},\"x_scale\":{\"id\":\"4973\"},\"y_range\":{\"id\":\"4966\"},\"y_scale\":{\"id\":\"4975\"}},\"id\":\"4968\",\"subtype\":\"Figure\",\"type\":\"Plot\"},{\"attributes\":{},\"id\":\"4975\",\"type\":\"LinearScale\"},{\"attributes\":{},\"id\":\"4999\",\"type\":\"Selection\"},{\"attributes\":{},\"id\":\"5014\",\"type\":\"BasicTickFormatter\"},{\"attributes\":{\"axis_label\":\"k\",\"coordinates\":null,\"formatter\":{\"id\":\"5009\"},\"group\":null,\"major_label_policy\":{\"id\":\"5010\"},\"ticker\":{\"id\":\"5007\"}},\"id\":\"4977\",\"type\":\"LinearAxis\"}],\"root_ids\":[\"4963\"]},\"title\":\"Bokeh Application\",\"version\":\"2.4.1\"}};\n",
       "    var render_items = [{\"docid\":\"de1ac28e-b4a1-4e03-adc8-c37b73c067f0\",\"root_ids\":[\"4963\"],\"roots\":{\"4963\":\"f3331d42-7504-46db-98c2-76bea55d08aa\"}}];\n",
       "    root.Bokeh.embed.embed_items_notebook(docs_json, render_items);\n",
       "  }\n",
       "  if (root.Bokeh !== undefined && root.Bokeh.Panel !== undefined) {\n",
       "    embed_document(root);\n",
       "  } else {\n",
       "    var attempts = 0;\n",
       "    var timer = setInterval(function(root) {\n",
       "      if (root.Bokeh !== undefined && root.Bokeh.Panel !== undefined) {\n",
       "        clearInterval(timer);\n",
       "        embed_document(root);\n",
       "      } else if (document.readyState == \"complete\") {\n",
       "        attempts++;\n",
       "        if (attempts > 200) {\n",
       "          clearInterval(timer);\n",
       "          console.log(\"Bokeh: ERROR: Unable to run BokehJS code because BokehJS library is missing\");\n",
       "        }\n",
       "      }\n",
       "    }, 25, root)\n",
       "  }\n",
       "})(window);</script>"
      ],
      "text/plain": [
       ":Curve   [k]   (inertia)"
      ]
     },
     "execution_count": 173,
     "metadata": {
      "application/vnd.holoviews_exec.v0+json": {
       "id": "4963"
      }
     },
     "output_type": "execute_result"
    }
   ],
   "source": [
    "# Create an elbow curve to find the best value for K.\n",
    "inertia = []\n",
    "k = list(range(1, 11))\n",
    "\n",
    "for i in k:\n",
    "   km = KMeans(n_clusters=i, random_state=0)\n",
    "   km.fit(pcs_df)\n",
    "   inertia.append(km.inertia_)\n",
    "\n",
    "elbow_data = {\"k\":k,\"inertia\":inertia}\n",
    "df_elbow = pd.DataFrame(elbow_data)\n",
    "df_elbow.hvplot.line(x=\"k\",y=\"inertia\",xticks=k,title=\"Elbow Curve\")"
   ]
  },
  {
   "cell_type": "markdown",
   "metadata": {},
   "source": [
    "Running K-Means with `k=4`"
   ]
  },
  {
   "cell_type": "code",
   "execution_count": 174,
   "metadata": {},
   "outputs": [],
   "source": [
    "# Initialize the K-Means model.\n",
    "model = KMeans(n_clusters=4, random_state=0)\n",
    "\n",
    "# Fit the model\n",
    "model.fit(pcs_df)\n",
    "\n",
    "# Predict clusters\n",
    "predictions = model.predict(pcs_df)"
   ]
  },
  {
   "cell_type": "code",
   "execution_count": 175,
   "metadata": {},
   "outputs": [
    {
     "name": "stdout",
     "output_type": "stream",
     "text": [
      "(532, 9)\n"
     ]
    },
    {
     "data": {
      "text/html": [
       "<div>\n",
       "<style scoped>\n",
       "    .dataframe tbody tr th:only-of-type {\n",
       "        vertical-align: middle;\n",
       "    }\n",
       "\n",
       "    .dataframe tbody tr th {\n",
       "        vertical-align: top;\n",
       "    }\n",
       "\n",
       "    .dataframe thead th {\n",
       "        text-align: right;\n",
       "    }\n",
       "</style>\n",
       "<table border=\"1\" class=\"dataframe\">\n",
       "  <thead>\n",
       "    <tr style=\"text-align: right;\">\n",
       "      <th></th>\n",
       "      <th>Algorithm</th>\n",
       "      <th>ProofType</th>\n",
       "      <th>TotalCoinsMined</th>\n",
       "      <th>TotalCoinSupply</th>\n",
       "      <th>PC1</th>\n",
       "      <th>PC2</th>\n",
       "      <th>PC3</th>\n",
       "      <th>CoinName</th>\n",
       "      <th>Class</th>\n",
       "    </tr>\n",
       "  </thead>\n",
       "  <tbody>\n",
       "    <tr>\n",
       "      <th>42</th>\n",
       "      <td>Scrypt</td>\n",
       "      <td>PoW/PoS</td>\n",
       "      <td>4.199995e+01</td>\n",
       "      <td>42</td>\n",
       "      <td>-0.339943</td>\n",
       "      <td>1.028747</td>\n",
       "      <td>-0.491348</td>\n",
       "      <td>42 Coin</td>\n",
       "      <td>0</td>\n",
       "    </tr>\n",
       "    <tr>\n",
       "      <th>404</th>\n",
       "      <td>Scrypt</td>\n",
       "      <td>PoW/PoS</td>\n",
       "      <td>1.055185e+09</td>\n",
       "      <td>532000000</td>\n",
       "      <td>-0.323215</td>\n",
       "      <td>1.029010</td>\n",
       "      <td>-0.491799</td>\n",
       "      <td>404Coin</td>\n",
       "      <td>0</td>\n",
       "    </tr>\n",
       "    <tr>\n",
       "      <th>1337</th>\n",
       "      <td>X13</td>\n",
       "      <td>PoW/PoS</td>\n",
       "      <td>2.927942e+10</td>\n",
       "      <td>314159265359</td>\n",
       "      <td>2.332563</td>\n",
       "      <td>1.551377</td>\n",
       "      <td>-0.668684</td>\n",
       "      <td>EliteCoin</td>\n",
       "      <td>0</td>\n",
       "    </tr>\n",
       "    <tr>\n",
       "      <th>BTC</th>\n",
       "      <td>SHA-256</td>\n",
       "      <td>PoW</td>\n",
       "      <td>1.792718e+07</td>\n",
       "      <td>21000000</td>\n",
       "      <td>-0.123841</td>\n",
       "      <td>-1.292523</td>\n",
       "      <td>0.111217</td>\n",
       "      <td>Bitcoin</td>\n",
       "      <td>1</td>\n",
       "    </tr>\n",
       "    <tr>\n",
       "      <th>ETH</th>\n",
       "      <td>Ethash</td>\n",
       "      <td>PoW</td>\n",
       "      <td>1.076842e+08</td>\n",
       "      <td>0</td>\n",
       "      <td>-0.174331</td>\n",
       "      <td>-2.204829</td>\n",
       "      <td>0.355806</td>\n",
       "      <td>Ethereum</td>\n",
       "      <td>1</td>\n",
       "    </tr>\n",
       "    <tr>\n",
       "      <th>LTC</th>\n",
       "      <td>Scrypt</td>\n",
       "      <td>PoW</td>\n",
       "      <td>6.303924e+07</td>\n",
       "      <td>84000000</td>\n",
       "      <td>-0.173526</td>\n",
       "      <td>-1.094320</td>\n",
       "      <td>0.036836</td>\n",
       "      <td>Litecoin</td>\n",
       "      <td>1</td>\n",
       "    </tr>\n",
       "    <tr>\n",
       "      <th>DASH</th>\n",
       "      <td>X11</td>\n",
       "      <td>PoW/PoS</td>\n",
       "      <td>9.031294e+06</td>\n",
       "      <td>22000000</td>\n",
       "      <td>-0.389170</td>\n",
       "      <td>1.145628</td>\n",
       "      <td>-0.517246</td>\n",
       "      <td>Dash</td>\n",
       "      <td>0</td>\n",
       "    </tr>\n",
       "    <tr>\n",
       "      <th>XMR</th>\n",
       "      <td>CryptoNight-V7</td>\n",
       "      <td>PoW</td>\n",
       "      <td>1.720114e+07</td>\n",
       "      <td>0</td>\n",
       "      <td>-0.127892</td>\n",
       "      <td>-2.242346</td>\n",
       "      <td>0.356028</td>\n",
       "      <td>Monero</td>\n",
       "      <td>1</td>\n",
       "    </tr>\n",
       "    <tr>\n",
       "      <th>ETC</th>\n",
       "      <td>Ethash</td>\n",
       "      <td>PoW</td>\n",
       "      <td>1.133597e+08</td>\n",
       "      <td>210000000</td>\n",
       "      <td>-0.172767</td>\n",
       "      <td>-2.204934</td>\n",
       "      <td>0.355783</td>\n",
       "      <td>Ethereum Classic</td>\n",
       "      <td>1</td>\n",
       "    </tr>\n",
       "    <tr>\n",
       "      <th>ZEC</th>\n",
       "      <td>Equihash</td>\n",
       "      <td>PoW</td>\n",
       "      <td>7.383056e+06</td>\n",
       "      <td>21000000</td>\n",
       "      <td>-0.175494</td>\n",
       "      <td>-1.897310</td>\n",
       "      <td>0.344036</td>\n",
       "      <td>ZCash</td>\n",
       "      <td>1</td>\n",
       "    </tr>\n",
       "  </tbody>\n",
       "</table>\n",
       "</div>"
      ],
      "text/plain": [
       "           Algorithm ProofType  TotalCoinsMined TotalCoinSupply       PC1  \\\n",
       "42            Scrypt   PoW/PoS     4.199995e+01              42 -0.339943   \n",
       "404           Scrypt   PoW/PoS     1.055185e+09       532000000 -0.323215   \n",
       "1337             X13   PoW/PoS     2.927942e+10    314159265359  2.332563   \n",
       "BTC          SHA-256       PoW     1.792718e+07        21000000 -0.123841   \n",
       "ETH           Ethash       PoW     1.076842e+08               0 -0.174331   \n",
       "LTC           Scrypt       PoW     6.303924e+07        84000000 -0.173526   \n",
       "DASH             X11   PoW/PoS     9.031294e+06        22000000 -0.389170   \n",
       "XMR   CryptoNight-V7       PoW     1.720114e+07               0 -0.127892   \n",
       "ETC           Ethash       PoW     1.133597e+08       210000000 -0.172767   \n",
       "ZEC         Equihash       PoW     7.383056e+06        21000000 -0.175494   \n",
       "\n",
       "           PC2       PC3          CoinName  Class  \n",
       "42    1.028747 -0.491348           42 Coin      0  \n",
       "404   1.029010 -0.491799           404Coin      0  \n",
       "1337  1.551377 -0.668684         EliteCoin      0  \n",
       "BTC  -1.292523  0.111217           Bitcoin      1  \n",
       "ETH  -2.204829  0.355806          Ethereum      1  \n",
       "LTC  -1.094320  0.036836          Litecoin      1  \n",
       "DASH  1.145628 -0.517246              Dash      0  \n",
       "XMR  -2.242346  0.356028            Monero      1  \n",
       "ETC  -2.204934  0.355783  Ethereum Classic      1  \n",
       "ZEC  -1.897310  0.344036             ZCash      1  "
      ]
     },
     "execution_count": 175,
     "metadata": {},
     "output_type": "execute_result"
    }
   ],
   "source": [
    "# Create a new DataFrame including predicted clusters and cryptocurrencies features.\n",
    "# Concatentate the crypto_df and pcs_df DataFrames on the same columns.\n",
    "clustered_df = pd.concat([df_crypto,pcs_df],axis =1)\n",
    "\n",
    "#  Add a new column, \"CoinName\" to the clustered_df DataFrame that holds the names of the cryptocurrencies. \n",
    "clustered_df['CoinName'] = names['CoinName']\n",
    "\n",
    "#  Add a new column, \"Class\" to the clustered_df DataFrame that holds the predictions.\n",
    "clustered_df[\"Class\"]= model.labels_\n",
    "\n",
    "# Print the shape of the clustered_df\n",
    "print(clustered_df.shape)\n",
    "clustered_df.head(10)"
   ]
  },
  {
   "cell_type": "markdown",
   "metadata": {},
   "source": [
    "### Deliverable 4: Visualizing Cryptocurrencies Results\n",
    "\n",
    "#### 3D-Scatter with Clusters"
   ]
  },
  {
   "cell_type": "code",
   "execution_count": 176,
   "metadata": {},
   "outputs": [
    {
     "data": {
      "application/vnd.plotly.v1+json": {
       "config": {
        "plotlyServerURL": "https://plot.ly"
       },
       "data": [
        {
         "customdata": [
          [
           "Scrypt"
          ],
          [
           "Scrypt"
          ],
          [
           "X13"
          ],
          [
           "X11"
          ],
          [
           "SHA-512"
          ],
          [
           "SHA-256"
          ],
          [
           "SHA-256"
          ],
          [
           "X15"
          ],
          [
           "Scrypt"
          ],
          [
           "Scrypt"
          ],
          [
           "Scrypt"
          ],
          [
           "Scrypt"
          ],
          [
           "Scrypt"
          ],
          [
           "Scrypt"
          ],
          [
           "Groestl"
          ],
          [
           "PoS"
          ],
          [
           "Scrypt"
          ],
          [
           "Scrypt"
          ],
          [
           "X11"
          ],
          [
           "X11"
          ],
          [
           "SHA3"
          ],
          [
           "Scrypt"
          ],
          [
           "SHA-256"
          ],
          [
           "Scrypt"
          ],
          [
           "X13"
          ],
          [
           "X13"
          ],
          [
           "NeoScrypt"
          ],
          [
           "Scrypt"
          ],
          [
           "Scrypt"
          ],
          [
           "Scrypt"
          ],
          [
           "X11"
          ],
          [
           "X11"
          ],
          [
           "Multiple"
          ],
          [
           "PHI1612"
          ],
          [
           "X11"
          ],
          [
           "Scrypt"
          ],
          [
           "Scrypt"
          ],
          [
           "Scrypt"
          ],
          [
           "X11"
          ],
          [
           "Multiple"
          ],
          [
           "X13"
          ],
          [
           "Scrypt"
          ],
          [
           "Shabal256"
          ],
          [
           "Counterparty"
          ],
          [
           "SHA-256"
          ],
          [
           "Groestl"
          ],
          [
           "Scrypt"
          ],
          [
           "X13"
          ],
          [
           "Scrypt"
          ],
          [
           "Scrypt"
          ],
          [
           "X13"
          ],
          [
           "X11"
          ],
          [
           "Scrypt"
          ],
          [
           "X11"
          ],
          [
           "SHA3"
          ],
          [
           "QUAIT"
          ],
          [
           "X11"
          ],
          [
           "Scrypt"
          ],
          [
           "X13"
          ],
          [
           "SHA-256"
          ],
          [
           "X15"
          ],
          [
           "BLAKE256"
          ],
          [
           "SHA-256"
          ],
          [
           "X11"
          ],
          [
           "SHA-256"
          ],
          [
           "NIST5"
          ],
          [
           "Scrypt"
          ],
          [
           "Scrypt"
          ],
          [
           "X11"
          ],
          [
           "Scrypt"
          ],
          [
           "SHA-256"
          ],
          [
           "Scrypt"
          ],
          [
           "PoS"
          ],
          [
           "X11"
          ],
          [
           "SHA-256"
          ],
          [
           "SHA-256"
          ],
          [
           "NIST5"
          ],
          [
           "X11"
          ],
          [
           "POS 3.0"
          ],
          [
           "Scrypt"
          ],
          [
           "Scrypt"
          ],
          [
           "Scrypt"
          ],
          [
           "X13"
          ],
          [
           "X11"
          ],
          [
           "X11"
          ],
          [
           "Scrypt"
          ],
          [
           "SHA-256"
          ],
          [
           "X11"
          ],
          [
           "Scrypt"
          ],
          [
           "Scrypt"
          ],
          [
           "Scrypt"
          ],
          [
           "Scrypt"
          ],
          [
           "SHA-256D"
          ],
          [
           "PoS"
          ],
          [
           "Scrypt"
          ],
          [
           "X11"
          ],
          [
           "PoS"
          ],
          [
           "X13"
          ],
          [
           "X14"
          ],
          [
           "PoS"
          ],
          [
           "SHA-256D"
          ],
          [
           "DPoS"
          ],
          [
           "X11"
          ],
          [
           "X13"
          ],
          [
           "X11"
          ],
          [
           "PoS"
          ],
          [
           "Scrypt"
          ],
          [
           "Scrypt"
          ],
          [
           "PoS"
          ],
          [
           "X11"
          ],
          [
           "SHA-256"
          ],
          [
           "Scrypt"
          ],
          [
           "X11"
          ],
          [
           "Scrypt"
          ],
          [
           "Scrypt"
          ],
          [
           "X11"
          ],
          [
           "Scrypt"
          ],
          [
           "Scrypt"
          ],
          [
           "Scrypt"
          ],
          [
           "Scrypt"
          ],
          [
           "Quark"
          ],
          [
           "QuBit"
          ],
          [
           "Scrypt"
          ],
          [
           "SHA-256"
          ],
          [
           "X11"
          ],
          [
           "Scrypt"
          ],
          [
           "Scrypt"
          ],
          [
           "Scrypt"
          ],
          [
           "Scrypt"
          ],
          [
           "X13"
          ],
          [
           "Scrypt"
          ],
          [
           "Scrypt"
          ],
          [
           "X11"
          ],
          [
           "Blake2S"
          ],
          [
           "X11"
          ],
          [
           "PoS"
          ],
          [
           "X11"
          ],
          [
           "PoS"
          ],
          [
           "X11"
          ],
          [
           "Scrypt"
          ],
          [
           "Scrypt"
          ],
          [
           "Scrypt"
          ],
          [
           "SHA-256"
          ],
          [
           "X11"
          ],
          [
           "Scrypt"
          ],
          [
           "PoS"
          ],
          [
           "Scrypt"
          ],
          [
           "X15"
          ],
          [
           "SHA-256"
          ],
          [
           "POS 3.0"
          ],
          [
           "536"
          ],
          [
           "NIST5"
          ],
          [
           "NIST5"
          ],
          [
           "Skein"
          ],
          [
           "X13"
          ],
          [
           "Scrypt"
          ],
          [
           "X13"
          ],
          [
           "SkunkHash v2 Raptor"
          ],
          [
           "Skein"
          ],
          [
           "X11"
          ],
          [
           "Scrypt"
          ],
          [
           "PoS"
          ],
          [
           "Scrypt"
          ],
          [
           "Scrypt"
          ],
          [
           "SHA-512"
          ],
          [
           "Ouroboros"
          ],
          [
           "X11"
          ],
          [
           "NeoScrypt"
          ],
          [
           "Scrypt"
          ],
          [
           "Lyra2REv2"
          ],
          [
           "Scrypt"
          ],
          [
           "SHA-256"
          ],
          [
           "NIST5"
          ],
          [
           "PHI1612"
          ],
          [
           "Scrypt"
          ],
          [
           "Quark"
          ],
          [
           "POS 2.0"
          ],
          [
           "Scrypt"
          ],
          [
           "SHA-256"
          ],
          [
           "X11"
          ],
          [
           "DPoS"
          ],
          [
           "NIST5"
          ],
          [
           "X13"
          ],
          [
           "Scrypt"
          ],
          [
           "NIST5"
          ],
          [
           "Quark"
          ],
          [
           "Scrypt"
          ],
          [
           "Scrypt"
          ],
          [
           "X11"
          ],
          [
           "Quark"
          ],
          [
           "Scrypt"
          ],
          [
           "Scrypt"
          ],
          [
           "X11"
          ],
          [
           "POS 3.0"
          ],
          [
           "Scrypt"
          ],
          [
           "Scrypt"
          ],
          [
           "X13"
          ],
          [
           "C11"
          ],
          [
           "X11"
          ],
          [
           "XEVAN"
          ],
          [
           "Scrypt"
          ],
          [
           "VBFT"
          ],
          [
           "NIST5"
          ],
          [
           "Scrypt"
          ],
          [
           "Scrypt"
          ],
          [
           "Scrypt"
          ],
          [
           "Green Protocol"
          ],
          [
           "PoS"
          ],
          [
           "Scrypt"
          ],
          [
           "Semux BFT consensus"
          ],
          [
           "Quark"
          ],
          [
           "PoS"
          ],
          [
           "X16R"
          ],
          [
           "Scrypt"
          ],
          [
           "XEVAN"
          ],
          [
           "Scrypt"
          ],
          [
           "Scrypt"
          ],
          [
           "Scrypt"
          ],
          [
           "SHA-256D"
          ],
          [
           "Scrypt"
          ],
          [
           "X15"
          ],
          [
           "Scrypt"
          ],
          [
           "Quark"
          ],
          [
           "SHA-256"
          ],
          [
           "DPoS"
          ],
          [
           "X16R"
          ],
          [
           "Quark"
          ],
          [
           "Quark"
          ],
          [
           "Scrypt"
          ],
          [
           "Lyra2REv2"
          ],
          [
           "Quark"
          ],
          [
           "Scrypt"
          ],
          [
           "X11"
          ],
          [
           "X11"
          ],
          [
           "Scrypt"
          ],
          [
           "PoS"
          ],
          [
           "Keccak"
          ],
          [
           "X11"
          ],
          [
           "Scrypt"
          ],
          [
           "SHA-512"
          ],
          [
           "XEVAN"
          ],
          [
           "XEVAN"
          ],
          [
           "X11"
          ],
          [
           "Quark"
          ],
          [
           "Equihash"
          ],
          [
           "Scrypt"
          ],
          [
           "Quark"
          ],
          [
           "Quark"
          ],
          [
           "Scrypt"
          ],
          [
           "X11"
          ],
          [
           "Scrypt"
          ],
          [
           "XEVAN"
          ],
          [
           "SHA-256D"
          ],
          [
           "X11"
          ],
          [
           "X11"
          ],
          [
           "DPoS"
          ],
          [
           "Scrypt"
          ],
          [
           "X11"
          ],
          [
           "Scrypt"
          ],
          [
           "Scrypt"
          ],
          [
           "SHA-256"
          ],
          [
           "Scrypt"
          ],
          [
           "X11"
          ],
          [
           "Scrypt"
          ],
          [
           "SHA-256"
          ],
          [
           "X11"
          ],
          [
           "Scrypt"
          ],
          [
           "Scrypt"
          ],
          [
           "X11"
          ],
          [
           "Scrypt"
          ],
          [
           "PoS"
          ],
          [
           "X11"
          ],
          [
           "SHA-256"
          ],
          [
           "DPoS"
          ],
          [
           "Scrypt"
          ],
          [
           "Scrypt"
          ],
          [
           "NeoScrypt"
          ],
          [
           "X13"
          ],
          [
           "DPoS"
          ],
          [
           "DPoS"
          ],
          [
           "SHA-256"
          ],
          [
           "PoS"
          ],
          [
           "PoS"
          ],
          [
           "SHA-256"
          ],
          [
           "Scrypt"
          ],
          [
           "Scrypt"
          ]
         ],
         "hovertemplate": "<b>%{hovertext}</b><br><br>Class=%{marker.color}<br>PC1=%{x}<br>PC2=%{y}<br>PC3=%{z}<br>Algorithm=%{customdata[0]}<extra></extra>",
         "hovertext": [
          "42 Coin",
          "404Coin",
          "EliteCoin",
          "Dash",
          "Bitshares",
          "BitcoinDark",
          "PayCoin",
          "KoboCoin",
          "Aurora Coin",
          "BlueCoin",
          "EnergyCoin",
          "BitBar",
          "CryptoBullion",
          "CasinoCoin",
          "Diamond",
          "Exclusive Coin",
          "FlutterCoin",
          "HoboNickels",
          "HyperStake",
          "IOCoin",
          "MaxCoin",
          "MintCoin",
          "MazaCoin",
          "Nautilus Coin",
          "NavCoin",
          "OpalCoin",
          "Orbitcoin",
          "PotCoin",
          "PhoenixCoin",
          "Reddcoin",
          "SuperCoin",
          "SyncCoin",
          "TeslaCoin",
          "TittieCoin",
          "TorCoin",
          "UnitaryStatus Dollar",
          "UltraCoin",
          "VeriCoin",
          "X11 Coin",
          "Crypti",
          "StealthCoin",
          "ZCC Coin",
          "BurstCoin",
          "StorjCoin",
          "Neutron",
          "FairCoin",
          "RubyCoin",
          "Kore",
          "Dnotes",
          "8BIT Coin",
          "Sativa Coin",
          "Ucoin",
          "Vtorrent",
          "IslaCoin",
          "Nexus",
          "Droidz",
          "Squall Coin",
          "Diggits",
          "Paycon",
          "Emercoin",
          "EverGreenCoin",
          "Decred",
          "EDRCoin",
          "Hitcoin",
          "DubaiCoin",
          "PWR Coin",
          "BillaryCoin",
          "GPU Coin",
          "EuropeCoin",
          "ZeitCoin",
          "SwingCoin",
          "SafeExchangeCoin",
          "Nebuchadnezzar",
          "Ratecoin",
          "Revenu",
          "Clockcoin",
          "VIP Tokens",
          "BitSend",
          "Let it Ride",
          "PutinCoin",
          "iBankCoin",
          "Frankywillcoin",
          "MudraCoin",
          "Lutetium Coin",
          "GoldBlocks",
          "CarterCoin",
          "BitTokens",
          "MustangCoin",
          "ZoneCoin",
          "RootCoin",
          "BitCurrency",
          "Swiscoin",
          "BuzzCoin",
          "Opair",
          "PesoBit",
          "Halloween Coin",
          "CoffeeCoin",
          "RoyalCoin",
          "GanjaCoin V2",
          "TeamUP",
          "LanaCoin",
          "ARK",
          "InsaneCoin",
          "EmberCoin",
          "XenixCoin",
          "FreeCoin",
          "PLNCoin",
          "AquariusCoin",
          "Creatio",
          "Eternity",
          "Eurocoin",
          "BitcoinFast",
          "Stakenet",
          "BitConnect Coin",
          "MoneyCoin",
          "Enigma",
          "Russiacoin",
          "PandaCoin",
          "GameUnits",
          "GAKHcoin",
          "Allsafe",
          "LiteCreed",
          "Klingon Empire Darsek",
          "Internet of People",
          "KushCoin",
          "Printerium",
          "Impeach",
          "Zilbercoin",
          "FirstCoin",
          "FindCoin",
          "OpenChat",
          "RenosCoin",
          "VirtacoinPlus",
          "TajCoin",
          "Impact",
          "Atmos",
          "HappyCoin",
          "MacronCoin",
          "Condensate",
          "Independent Money System",
          "ArgusCoin",
          "LomoCoin",
          "ProCurrency",
          "GoldReserve",
          "GrowthCoin",
          "Phreak",
          "Degas Coin",
          "HTML5 Coin",
          "Ultimate Secure Cash",
          "QTUM",
          "Espers",
          "Denarius",
          "Virta Unique Coin",
          "Bitcoin Planet",
          "BritCoin",
          "Linda",
          "DeepOnion",
          "Signatum",
          "Cream",
          "Monoeci",
          "Draftcoin",
          "Stakecoin",
          "CoinonatX",
          "Ethereum Dark",
          "Obsidian",
          "Cardano",
          "Regalcoin",
          "TrezarCoin",
          "TerraNovaCoin",
          "Rupee",
          "WomenCoin",
          "Theresa May Coin",
          "NamoCoin",
          "LUXCoin",
          "Xios",
          "Bitcloud 2.0",
          "KekCoin",
          "BlackholeCoin",
          "Infinity Economics",
          "Magnet",
          "Lamden Tau",
          "Electra",
          "Bitcoin Diamond",
          "Cash & Back Coin",
          "Bulwark",
          "Kalkulus",
          "GermanCoin",
          "LiteCoin Ultra",
          "PhantomX",
          "Digiwage",
          "Trollcoin",
          "Litecoin Plus",
          "Monkey Project",
          "TokenPay",
          "My Big Coin",
          "Unified Society USDEX",
          "Tokyo Coin",
          "Stipend",
          "Pushi",
          "Ellerium",
          "Velox",
          "Ontology",
          "Bitspace",
          "Briacoin",
          "Ignition",
          "MedicCoin",
          "Bitcoin Green",
          "Deviant Coin",
          "Abjcoin",
          "Semux",
          "Carebit",
          "Zealium",
          "Proton",
          "iDealCash",
          "Bitcoin Incognito",
          "HollyWoodCoin",
          "Swisscoin",
          "Xt3ch",
          "TheVig",
          "EmaratCoin",
          "Dekado",
          "Lynx",
          "Poseidon Quark",
          "BitcoinWSpectrum",
          "Muse",
          "Trivechain",
          "Dystem",
          "Giant",
          "Peony Coin",
          "Absolute Coin",
          "Vitae",
          "TPCash",
          "ARENON",
          "EUNO",
          "MMOCoin",
          "Ketan",
          "XDNA",
          "PAXEX",
          "ThunderStake",
          "Kcash",
          "Bettex coin",
          "BitMoney",
          "Junson Ming Chan Coin",
          "HerbCoin",
          "PirateCash",
          "Oduwa",
          "Galilel",
          "Crypto Sports",
          "Credit",
          "Dash Platinum",
          "Nasdacoin",
          "Beetle Coin",
          "Titan Coin",
          "Award",
          "Insane Coin",
          "ALAX",
          "LiteDoge",
          "TruckCoin",
          "OrangeCoin",
          "BitstarCoin",
          "NeosCoin",
          "HyperCoin",
          "PinkCoin",
          "AudioCoin",
          "IncaKoin",
          "Piggy Coin",
          "Genstake",
          "XiaoMiCoin",
          "CapriCoin",
          " ClubCoin",
          "Radium",
          "Creditbit ",
          "OKCash",
          "Lisk",
          "HiCoin",
          "WhiteCoin",
          "FriendshipCoin",
          "Triangles Coin",
          "EOS",
          "Oxycoin",
          "TigerCash",
          "Particl",
          "Nxt",
          "ZEPHYR",
          "Gapcoin",
          "BitcoinPlus"
         ],
         "legendgroup": "0",
         "marker": {
          "color": [
           0,
           0,
           0,
           0,
           0,
           0,
           0,
           0,
           0,
           0,
           0,
           0,
           0,
           0,
           0,
           0,
           0,
           0,
           0,
           0,
           0,
           0,
           0,
           0,
           0,
           0,
           0,
           0,
           0,
           0,
           0,
           0,
           0,
           0,
           0,
           0,
           0,
           0,
           0,
           0,
           0,
           0,
           0,
           0,
           0,
           0,
           0,
           0,
           0,
           0,
           0,
           0,
           0,
           0,
           0,
           0,
           0,
           0,
           0,
           0,
           0,
           0,
           0,
           0,
           0,
           0,
           0,
           0,
           0,
           0,
           0,
           0,
           0,
           0,
           0,
           0,
           0,
           0,
           0,
           0,
           0,
           0,
           0,
           0,
           0,
           0,
           0,
           0,
           0,
           0,
           0,
           0,
           0,
           0,
           0,
           0,
           0,
           0,
           0,
           0,
           0,
           0,
           0,
           0,
           0,
           0,
           0,
           0,
           0,
           0,
           0,
           0,
           0,
           0,
           0,
           0,
           0,
           0,
           0,
           0,
           0,
           0,
           0,
           0,
           0,
           0,
           0,
           0,
           0,
           0,
           0,
           0,
           0,
           0,
           0,
           0,
           0,
           0,
           0,
           0,
           0,
           0,
           0,
           0,
           0,
           0,
           0,
           0,
           0,
           0,
           0,
           0,
           0,
           0,
           0,
           0,
           0,
           0,
           0,
           0,
           0,
           0,
           0,
           0,
           0,
           0,
           0,
           0,
           0,
           0,
           0,
           0,
           0,
           0,
           0,
           0,
           0,
           0,
           0,
           0,
           0,
           0,
           0,
           0,
           0,
           0,
           0,
           0,
           0,
           0,
           0,
           0,
           0,
           0,
           0,
           0,
           0,
           0,
           0,
           0,
           0,
           0,
           0,
           0,
           0,
           0,
           0,
           0,
           0,
           0,
           0,
           0,
           0,
           0,
           0,
           0,
           0,
           0,
           0,
           0,
           0,
           0,
           0,
           0,
           0,
           0,
           0,
           0,
           0,
           0,
           0,
           0,
           0,
           0,
           0,
           0,
           0,
           0,
           0,
           0,
           0,
           0,
           0,
           0,
           0,
           0,
           0,
           0,
           0,
           0,
           0,
           0,
           0,
           0,
           0,
           0,
           0,
           0,
           0,
           0,
           0,
           0,
           0,
           0,
           0,
           0,
           0,
           0,
           0,
           0,
           0,
           0,
           0,
           0,
           0,
           0,
           0,
           0,
           0,
           0,
           0,
           0,
           0,
           0,
           0,
           0
          ],
          "coloraxis": "coloraxis",
          "symbol": "circle"
         },
         "mode": "markers",
         "name": "0",
         "scene": "scene",
         "showlegend": true,
         "type": "scatter3d",
         "x": [
          -0.33994342366348085,
          -0.3232151531596164,
          2.332563036876439,
          -0.38916971274240764,
          -0.2473414258518865,
          -0.2890849836819455,
          -0.25416826762086986,
          -0.21605925609025084,
          -0.33960168295249854,
          -0.3321485511193143,
          -0.33843378823321096,
          -0.33993934565679823,
          -0.3399235644443374,
          0.597161156256297,
          -0.3550227186625874,
          -0.34431674301788584,
          -0.3111844689081115,
          -0.3379948114613398,
          -0.33399329102960434,
          -0.38906397412733923,
          -0.36647134731249204,
          -0.04387358805618702,
          -0.25225230715281904,
          -0.304776902247197,
          -0.2604112010662717,
          -0.261035978643915,
          -0.3042683065220898,
          -0.33422434668775,
          -0.3383390791503952,
          0.019676560708819645,
          -0.35396199496886016,
          -0.3894369654463721,
          -0.25842769457872233,
          -0.3491758693133122,
          -0.38934829240020724,
          -0.31508158425624583,
          -0.3386158810717661,
          -0.3432671284490858,
          -0.3893125983628026,
          -0.2588968436207088,
          -0.26081593741158027,
          -0.33101501911503034,
          -0.1461330882532222,
          -0.3867783954492953,
          -0.28829368364445473,
          -0.35444187085855255,
          -0.3047569959439714,
          -0.2611117390913067,
          -0.2993915648087155,
          -0.3399254181753511,
          -0.26106371673863377,
          -0.35440878004866033,
          -0.33965880742385235,
          -0.3894184180850613,
          -0.3146335577083334,
          -0.42880929243545135,
          -0.4618755725347674,
          -0.3031524554550275,
          -0.2605835875878991,
          -0.28161607753864565,
          -0.21850909506313734,
          0.016759285113110648,
          -0.2890557775612305,
          -0.06569333311783541,
          -0.2891196750224856,
          -0.22653225981247563,
          -0.33953428994906953,
          -0.30302159075120094,
          -0.38657793489849823,
          0.85262809063322,
          -0.2889190662422167,
          -0.13642743821751893,
          -0.3439988134816598,
          -0.3872529009090943,
          -0.28765837591301685,
          -0.2853185596883778,
          -0.3483923543692596,
          -0.38814911374348904,
          -0.35470196225228523,
          -0.31574309806000583,
          -0.3395725570703504,
          -0.33800540635269594,
          -0.22488502207658087,
          -0.34185125702053887,
          -0.3888904128626267,
          -0.33877373643880376,
          -0.2891006031438672,
          -0.38940758070229087,
          -0.33976237836631923,
          -0.33991962746716564,
          -0.30300997309272915,
          -0.2757997340059596,
          0.04662637722082049,
          -0.34295186897950813,
          -0.33953219159117576,
          -0.37552065405487933,
          -0.3422775594359347,
          -0.22632050107332088,
          -0.40385035058661356,
          -0.34202682498905296,
          -0.2691327490705963,
          3.5977202839345055,
          -0.38899858262849146,
          0.8757721098752238,
          -0.3893623088265024,
          -0.3434174080442332,
          -0.3394596486826672,
          -0.3396146298894055,
          -0.3439988134816598,
          -0.3889357526821186,
          -0.28896270399444457,
          -0.33946035863541396,
          -0.429016807659355,
          -0.33960833159938036,
          -0.33518140523914197,
          -0.3893914283680295,
          -0.33881638240990924,
          0.3409801211123458,
          -0.3398083519635471,
          -0.3398791638856523,
          -0.3685996221812327,
          -0.3176183594157743,
          -0.3360929468102355,
          -0.28907691947669883,
          -0.3893010309045771,
          -0.3396561453674078,
          -0.33978363264166905,
          -0.30466340742703796,
          -0.3474655754022111,
          -0.2260874596752539,
          -0.3205632432299002,
          -0.30440336203773316,
          -0.3885642189740807,
          -0.41167091825334917,
          -0.38729743396549654,
          -0.34223860065142436,
          -0.3884616826713098,
          -0.3366169079943529,
          -0.3843880027149641,
          -0.3397266813036075,
          -0.3397259065494178,
          -0.33282431166226145,
          0.28030252697294245,
          -0.38894182301709485,
          -0.28724402875836047,
          -0.34403330152695316,
          -0.33893454938679174,
          0.9200784078349943,
          -0.25285425324502664,
          -0.3534756179105378,
          0.6211028811582854,
          -0.34993392447400895,
          -0.34843054479577734,
          -0.4154728092075744,
          -0.2607476154693973,
          0.12666153148989914,
          -0.2608186219231326,
          -0.3947913430146097,
          -0.414975650907342,
          -0.38921517229390284,
          -0.30473771939830446,
          -0.34389918902783834,
          -0.33936051293076375,
          -0.3398620277162112,
          -0.3056268743462874,
          0.6656834920325788,
          -0.38915584720596064,
          -0.29924897656677435,
          -0.33981751998116133,
          -0.30218596866861874,
          0.43234319490099743,
          -0.2874167762728531,
          -0.3346441081226747,
          -0.41976141184947585,
          -0.3397676812569485,
          -0.40188895077230924,
          -0.3508025183506306,
          -0.33963751313251633,
          -0.07998269795225164,
          -0.3879441281107849,
          3.602594379510318,
          0.21171126415106387,
          -0.2574767302289523,
          -0.3370883218409634,
          -0.3148436245419619,
          -0.36848508113461037,
          0.07595590232303571,
          -0.3387731950860531,
          -0.3885271768259794,
          -0.3676468923168707,
          -0.32629154772865737,
          -0.33988424952204904,
          -0.35438059888598594,
          -0.35498499804074934,
          -0.29636549999929507,
          -0.33541230671062894,
          -0.2178534471171994,
          -0.35387450460594544,
          -0.3892325693444847,
          -0.3781737472070089,
          -0.3038947916401043,
          -0.3332572903568265,
          -0.3495314380928685,
          -0.3399117119299035,
          -0.33989335786556113,
          -0.29825498937431816,
          -0.33175014268965247,
          -0.3434921104250366,
          -0.33960882898223976,
          3.8096880555541652,
          -0.40055148170500127,
          -0.343681516389947,
          -0.29871384185440375,
          -0.2862860078130059,
          -0.45076514724676536,
          -0.30443071186842063,
          -0.14226557575243348,
          -0.30468390374265514,
          -0.3346788412989162,
          -0.3390809707599067,
          -0.18299751287749347,
          2.185191850143935,
          -0.36417858305241047,
          -0.2529819868483742,
          0.9421994266829269,
          -0.3329008037467357,
          -0.36859908681250114,
          -0.40357903687739394,
          -0.18501060186727078,
          -0.33696705858956383,
          -0.3673137463292392,
          -0.3327641557263124,
          -0.353956439271882,
          -0.3887038624179963,
          -0.3019191378444532,
          -0.34277827366394104,
          -0.31856797906379414,
          -0.3538174788620618,
          -0.19890712777154693,
          -0.2345004351329112,
          -0.343313806966649,
          0.3480133892302273,
          -0.14346642474577417,
          -0.40287100881592264,
          -0.30501499349984823,
          -0.339612772729978,
          -0.4033288281619098,
          -0.3687165066041599,
          0.5702526331353598,
          -0.35443513127069354,
          -0.33909388581087296,
          -0.37260876527951603,
          -0.289237139121686,
          -0.38626037259540436,
          -0.3889319331126307,
          3.6148840059554246,
          0.09693073076790788,
          -0.38646128144100134,
          -0.3384774377009441,
          -0.33930508535557197,
          -0.254201075774746,
          -0.33982527660131184,
          -0.3805276593211422,
          -0.2532262986549355,
          -0.06783558235015114,
          -0.37626105768039164,
          -0.3391006976672356,
          -0.3321384009008423,
          -0.3854873104344318,
          -0.3375341973131645,
          -0.3442755243001529,
          -0.39250697328178374,
          -0.2875943507619309,
          3.598113534130875,
          -0.1112228119053948,
          -0.3347181275437135,
          -0.30389291165034416,
          -0.26121932432060285,
          3.608023050556457,
          3.6092723149366557,
          -0.2350241478099853,
          -0.3442111245243572,
          -0.2678033856905314,
          2.4380122478710526,
          -0.3379820175141588,
          -0.30508178638737793
         ],
         "y": [
          1.0287465345485958,
          1.0290103028507,
          1.5513765176190282,
          1.1456278159274744,
          1.5294238940668612,
          0.8305229160366738,
          0.6674289544743078,
          1.7993975999452265,
          1.0287471545680278,
          1.029069784797533,
          1.0288091385538845,
          1.0287462996109127,
          1.0287465499665007,
          0.8081005511071239,
          0.8769974066462103,
          1.592530363245817,
          0.3457605275331727,
          1.0287303623633708,
          0.9833841182957307,
          1.1456322008651203,
          2.0134334373977407,
          0.8764748097589655,
          0.8301130075285014,
          0.8656421785460275,
          1.6977409644417707,
          1.6977150551680578,
          0.5671030187799321,
          1.0286442710644228,
          1.0287338654577134,
          1.043659830034874,
          0.9825560242114543,
          1.1456345119939646,
          0.07986539051536726,
          1.5264816714033698,
          1.1456301083392078,
          1.028484473285919,
          1.0287207702542078,
          0.5180084067393232,
          1.1456352253207625,
          0.079926752077384,
          1.6977241801890586,
          1.0283086220794195,
          1.7067290221616875,
          1.3958906323821287,
          0.8305185551172273,
          0.8770250339538255,
          0.8656560802402672,
          1.697702215374927,
          0.8654744975854449,
          1.028747281262857,
          1.6977058231821542,
          0.9825213328180655,
          1.0287421741063543,
          1.1456352819537134,
          2.284903666999876,
          1.8472594956109067,
          0.6245915461228962,
          0.8656418029028163,
          1.697693407150752,
          0.8300422584606953,
          1.799557612303913,
          0.9450259309915173,
          0.8305241272026999,
          1.137603121381868,
          0.8305307713538705,
          1.5086232332412601,
          1.028729558059413,
          0.8655493987239018,
          1.1454427384281822,
          0.8336435587529206,
          0.8305152495088809,
          0.8082701902855867,
          1.592527384258583,
          1.1456644723386271,
          0.8304198569948532,
          0.8302725986922467,
          1.5034970090709998,
          1.145575583885218,
          1.7097953401071926,
          1.028133772642816,
          1.028726085408015,
          1.0287460863941533,
          1.534502965480932,
          0.9825272840411428,
          1.1456167696253376,
          1.0287223057542392,
          0.8305230764737315,
          1.1456333068661013,
          1.0287370708913843,
          1.0287475214011856,
          0.865728528572047,
          0.17324387853236226,
          1.8249764831173945,
          1.592527159453137,
          1.0287635882104251,
          1.1449993618643275,
          1.5925826006541945,
          1.534603050188598,
          1.9397777886968985,
          1.5923820661017272,
          1.8219793536135778,
          1.8365553570856186,
          1.1456284472654985,
          1.7441710829295447,
          1.1456344946395405,
          1.5925272498121934,
          1.0287354496701921,
          1.028726226394547,
          1.592527384258583,
          1.1456068077030188,
          0.8305296032655741,
          1.02873989748961,
          0.192563281607279,
          1.0287378019597428,
          1.0284181699144197,
          1.1456323603572123,
          1.0286768960721013,
          0.8661569626451605,
          1.028741629743541,
          1.0287465196889223,
          1.5344611114251134,
          0.5697042021453984,
          1.0285021273857387,
          0.8305240586258399,
          1.1456325903320477,
          1.0287422845007597,
          1.0287354351935991,
          0.8656155119774722,
          0.48495256563773687,
          1.5346029962992247,
          1.0287420530024778,
          0.8656429228989736,
          1.1455898882624838,
          2.0079325051471995,
          1.1456343396266397,
          1.592527409895055,
          1.1455941404015317,
          1.5925264043602918,
          1.1454398063304685,
          1.0287383798043588,
          1.0287324412721692,
          1.0282335914485061,
          0.6289906070776244,
          1.1456227193653263,
          0.8647659962488913,
          1.5925178723549545,
          1.028703514358775,
          1.774060344357642,
          0.6673318462280997,
          1.7097924528177064,
          2.0894316839111373,
          1.5034977343681941,
          1.503471180234473,
          1.902783035760375,
          1.697702768377426,
          1.007687961930199,
          1.697708795918328,
          1.568216103966747,
          1.9028036527142158,
          1.1456360269849442,
          0.8656428127146568,
          1.5924978958076905,
          1.0287317118443573,
          1.0287465157262896,
          1.5298428347370163,
          1.791649695981339,
          1.1456243500765082,
          0.5669909472325179,
          1.0287390405522827,
          0.6324352606382927,
          1.0405687028138904,
          0.8305290586769899,
          1.5031700747741532,
          1.6899144391811765,
          1.0287368509826524,
          1.6974807262827611,
          1.6749329143449836,
          1.0287472691301307,
          0.6673889333029642,
          1.1455800437074226,
          1.8364544201727064,
          1.5025519201433848,
          1.6976929400969694,
          1.0286952188367617,
          1.340388976010877,
          1.5344618205468765,
          1.0055852199755722,
          1.0286738380139788,
          1.1456318328770165,
          1.5344157629152555,
          1.0285853195125922,
          1.0287457558309465,
          0.9825216933096634,
          1.7097904721709765,
          0.44458486183473594,
          1.028746942770734,
          1.5343096601540795,
          0.7392570539580658,
          1.145622784780087,
          1.2088289036706774,
          0.865591622445176,
          1.7543500574747097,
          1.5034820985225072,
          1.0287454251458212,
          1.028744569941789,
          0.8655216309094915,
          1.6224140916944114,
          1.5924934414810148,
          1.0287361649938114,
          2.0375950041984403,
          1.6975361905845965,
          1.592492052250836,
          0.7139489846737971,
          1.026832279479571,
          0.6878111193529429,
          0.8656485986934086,
          1.028700822776457,
          0.8656235518717009,
          1.825246489430212,
          1.0287144138900708,
          1.6364291599513168,
          0.47072721394993977,
          1.5341312622879872,
          0.6674072222921416,
          1.658191031914374,
          0.8770505424597687,
          1.5344562846076446,
          1.6975681101785025,
          0.8569800080507735,
          0.7955194913350785,
          1.5344457417414061,
          1.028236086090865,
          0.9825118052631845,
          1.1456245057969032,
          0.8655636409126467,
          1.5924244472835347,
          1.0366653210042407,
          0.9824812002527791,
          1.020048195807203,
          1.5588669007778369,
          1.0457329917228797,
          0.33490166007097166,
          0.9912851904607213,
          1.6975579935280025,
          0.06260063009200066,
          1.0287432749766774,
          1.6975672647955269,
          1.5344575815921473,
          1.0060408938463596,
          0.9825204824944845,
          1.0287138783081258,
          1.2087040864965248,
          1.8231709062809174,
          1.1454268134946204,
          1.1456312111939924,
          1.836559981099757,
          1.0185775851217271,
          1.1457579132155522,
          1.0286456944616253,
          1.0287291580556606,
          0.6674207244898469,
          1.0287514340934714,
          1.1455998932112914,
          1.023856875480165,
          0.839562266785246,
          1.1453727425412994,
          1.0287693595416258,
          1.028746937790055,
          1.145630204074547,
          1.0287171370526966,
          1.592524799040896,
          0.4622091848569131,
          0.8305176538855127,
          1.8365434450149005,
          0.8655930256403964,
          1.0287207745517126,
          0.5670730069742013,
          1.697707354916545,
          1.83708362988378,
          1.8371354363728778,
          0.6674247856785044,
          1.5925277653505947,
          1.6460606861098865,
          0.8457937113780767,
          1.028625830844986,
          0.8656418031419738
         ],
         "z": [
          -0.4913481588707406,
          -0.49179857262487847,
          -0.6686837502968822,
          -0.5172461786947667,
          0.06041397697630297,
          -0.4169934989418261,
          -0.10232099622991736,
          -0.6367989649579903,
          -0.4913566551867261,
          -0.4915876644607479,
          -0.49139454399813304,
          -0.49134822442131404,
          -0.49134864956006646,
          -0.33165317362238467,
          -0.4348882406129827,
          -0.08836587920320409,
          -0.22273597303946144,
          -0.4913936907085483,
          -0.2031976704458324,
          -0.5172494276239458,
          -0.5382192560237321,
          -0.18469872265756615,
          -0.4178387297858028,
          -0.17668026265378448,
          -0.6265573716193219,
          -0.6265381746769252,
          -0.37476035801376517,
          -0.49147368889806353,
          -0.49138574196480395,
          -0.502397857795469,
          -0.20258411120014477,
          -0.517240596197215,
          0.14416548403445498,
          -0.18631878367110968,
          -0.5172421257794659,
          -0.4919208473626926,
          -0.4913769979153984,
          -0.153922542639169,
          -0.5172437603150458,
          0.14416794803741254,
          -0.626544935673179,
          -0.49150298250886915,
          -0.44673845077952634,
          -0.038599170557720865,
          -0.41701231495879676,
          -0.43490661122505025,
          -0.17668280798213637,
          -0.6265344127273466,
          -0.17678791099496732,
          -0.4913487121131528,
          -0.626536127286004,
          -0.20256799304471146,
          -0.4913545137883435,
          -0.5172411662037375,
          -0.2757493953759451,
          -0.5814336483213448,
          -0.09303504107350813,
          -0.1767201580709344,
          -0.6265460993185137,
          -0.4171061072048229,
          -0.6367623770203966,
          -0.5033276853328595,
          -0.4169943963303319,
          -0.524014942407234,
          -0.41699380738962316,
          -0.5523207901689288,
          -0.49135571047766735,
          -0.1767097119158536,
          -0.5172825508235256,
          -0.20041309179231417,
          -0.41699644573184935,
          -0.31363668776250747,
          -0.08837325770155427,
          -0.5172987406586665,
          -0.4170133441264624,
          -0.417049112260568,
          -0.5485657557444698,
          -0.5172635548871558,
          0.01590388472753553,
          -0.49185271729968894,
          -0.4913542558217358,
          -0.4913957553875547,
          -0.3118785577567805,
          -0.20287770758472368,
          -0.5172514141694164,
          -0.49137334275372735,
          -0.41699313852847975,
          -0.5172411406609077,
          -0.49135121195226034,
          -0.491348890038699,
          -0.17673648708049303,
          -0.15965474657792866,
          -0.7142544799873402,
          -0.08839897257397299,
          -0.4913607944098861,
          -0.517488923135223,
          -0.08842375482060011,
          -0.3118580545569356,
          -0.7457910415956766,
          -0.0884002665396282,
          -0.7060456208962637,
          0.041270427386641995,
          -0.5172504807586824,
          -0.6613662040378352,
          -0.517242429704632,
          -0.08838753666259581,
          -0.49135841741611963,
          -0.49135324194924707,
          -0.08837325770155427,
          -0.5172488259471523,
          -0.41699749513450834,
          -0.4913590576924916,
          -0.31753271690142304,
          -0.4913551086234355,
          -0.4914167159110973,
          -0.517241397936408,
          -0.4913655788229698,
          -0.1926378669523834,
          -0.4913507554527935,
          -0.4913497370514814,
          -0.15823348092936093,
          -0.3774548692190973,
          -0.49140671333895297,
          -0.4169938662338434,
          -0.5172436551422329,
          -0.4913545955828028,
          -0.4913504473490218,
          -0.17667911048714185,
          -0.08761301981846188,
          -0.31186377791077763,
          -0.4918241242188008,
          -0.1766895594196167,
          -0.5172554612714753,
          -0.7313173752862099,
          -0.517293189452429,
          -0.0884165514326221,
          -0.5172586118062705,
          -0.08855466029953384,
          -0.5173359755079339,
          -0.49135228343095355,
          -0.4913514243039826,
          -0.49144739010918786,
          -0.10978134462964872,
          -0.5172510296478698,
          -0.17698189034717937,
          -0.08837100291136525,
          -0.491366608944689,
          -0.6609938265131708,
          -0.10233895233406681,
          0.01587415149432689,
          -0.6874706449764604,
          -0.5485279502682836,
          -0.5485609969766694,
          -0.7208926426648722,
          -0.6265434496089457,
          -0.4997095373331161,
          -0.6265425946492685,
          -0.03194718815026187,
          -0.7209079183719289,
          -0.5172462749199966,
          -0.17668132008029863,
          -0.08837134711731529,
          -0.4913603027755411,
          -0.49135015790529524,
          0.0617854726817508,
          -0.03850322065372884,
          -0.5172460071733059,
          -0.37486722835358605,
          -0.4913501470927959,
          -0.0872977945161461,
          -0.5120896977213146,
          -0.41703543450301467,
          -0.5488555278389015,
          -0.5001641642846719,
          -0.4913510490154173,
          -0.4729350126540958,
          -0.01672414047815834,
          -0.49135579093549353,
          -0.10659892519118176,
          -0.5172692557298939,
          0.04116548230803576,
          -0.5622009521745998,
          -0.6266224390050268,
          -0.4914107875657436,
          -0.23385752847853514,
          -0.15823640276790438,
          -0.4981515540169046,
          -0.4913661887330908,
          -0.5172625749753118,
          -0.15825020590269168,
          -0.49166006718182287,
          -0.491349499019326,
          -0.20256873942940862,
          0.01591156545450983,
          -0.09136628071821326,
          -0.49145965563795374,
          -0.3120229036851041,
          -0.4687253580001713,
          -0.5172438888274269,
          -0.30625306533865054,
          -0.17669448075606486,
          -0.02740421210825326,
          -0.5485355366457556,
          -0.4913487747191198,
          -0.49134909964507184,
          -0.17682283346005662,
          -0.08632612858968083,
          -0.08838069993970168,
          -0.4913548543190201,
          0.027719796433435237,
          -0.47297610778548554,
          -0.08837583633121146,
          -0.07742282584467965,
          -0.49238470989240907,
          0.11795252370201205,
          -0.17668972611699066,
          -0.4962030056048724,
          -0.17667979533642583,
          -0.7049167466394939,
          -0.4913646197243498,
          -0.3220994037530822,
          -0.2490189874510781,
          -0.1582934325411814,
          -0.10234695740284469,
          0.006743252378234322,
          -0.3921143991439542,
          -0.1582327803136972,
          -0.4729063695768332,
          -0.17834479670808134,
          -0.40197219377541493,
          -0.15826283237855093,
          -0.4914492384630317,
          -0.20257770880498402,
          -0.5172571461263042,
          -0.17673893129553458,
          -0.08838805298801646,
          -0.3934877011212001,
          -0.2025766005177423,
          -0.4935304498165319,
          0.31694985261287817,
          0.008421122114085265,
          0.28409172030014923,
          -0.20905180703456133,
          -0.4729222864889642,
          0.13048405497287152,
          -0.49135580874139895,
          -0.4729123980916681,
          -0.15823008433639013,
          -0.5103754659407612,
          -0.20256721922921495,
          -0.4913642228959447,
          -0.3063714704118669,
          -0.7057273868797779,
          -0.5172880058637848,
          -0.5172525286345383,
          0.04084762617591227,
          -0.500588691052977,
          -0.5173320273099085,
          -0.4913693006418518,
          -0.4913612882878797,
          -0.10231897232250003,
          -0.49135178906741167,
          -0.5174545885830746,
          -0.4927577684470409,
          -0.42377153961586794,
          -0.5175259289141694,
          -0.49137225984696087,
          -0.49154017197502975,
          -0.5173370953163232,
          -0.4914030631222604,
          -0.0883660700931366,
          -0.35811110180727135,
          -0.4170293807871961,
          0.04126251749396357,
          -0.18143318254519483,
          -0.49147285827503173,
          -0.374765152219229,
          -0.6265325268485643,
          0.04093892527861013,
          0.04090054032818385,
          -0.10279120225054078,
          -0.08836809256764393,
          -0.13879028679715652,
          -0.06869547740579235,
          -0.4913785473983407,
          -0.1766727089462676
         ]
        },
        {
         "customdata": [
          [
           "SHA-256"
          ],
          [
           "Ethash"
          ],
          [
           "Scrypt"
          ],
          [
           "CryptoNight-V7"
          ],
          [
           "Ethash"
          ],
          [
           "Equihash"
          ],
          [
           "Multiple"
          ],
          [
           "Scrypt"
          ],
          [
           "X11"
          ],
          [
           "Scrypt"
          ],
          [
           "Multiple"
          ],
          [
           "Scrypt"
          ],
          [
           "SHA-256"
          ],
          [
           "Scrypt"
          ],
          [
           "Scrypt"
          ],
          [
           "Quark"
          ],
          [
           "Groestl"
          ],
          [
           "Scrypt"
          ],
          [
           "Scrypt"
          ],
          [
           "Scrypt"
          ],
          [
           "X11"
          ],
          [
           "Multiple"
          ],
          [
           "SHA-256"
          ],
          [
           "Scrypt"
          ],
          [
           "Scrypt"
          ],
          [
           "Scrypt"
          ],
          [
           "Scrypt"
          ],
          [
           "Scrypt"
          ],
          [
           "NeoScrypt"
          ],
          [
           "Scrypt"
          ],
          [
           "Scrypt"
          ],
          [
           "Scrypt"
          ],
          [
           "Scrypt"
          ],
          [
           "SHA-256"
          ],
          [
           "Scrypt"
          ],
          [
           "Scrypt"
          ],
          [
           "Scrypt"
          ],
          [
           "Scrypt"
          ],
          [
           "HybridScryptHash256"
          ],
          [
           "Scrypt"
          ],
          [
           "Scrypt"
          ],
          [
           "SHA-256"
          ],
          [
           "Scrypt"
          ],
          [
           "Scrypt"
          ],
          [
           "Scrypt"
          ],
          [
           "Scrypt"
          ],
          [
           "SHA-256"
          ],
          [
           "SHA-256"
          ],
          [
           "SHA-256"
          ],
          [
           "SHA-256"
          ],
          [
           "SHA-256"
          ],
          [
           "X11"
          ],
          [
           "Scrypt"
          ],
          [
           "Lyra2REv2"
          ],
          [
           "Scrypt"
          ],
          [
           "SHA-256"
          ],
          [
           "CryptoNight"
          ],
          [
           "CryptoNight"
          ],
          [
           "Scrypt"
          ],
          [
           "Scrypt"
          ],
          [
           "Scrypt"
          ],
          [
           "Scrypt"
          ],
          [
           "Scrypt"
          ],
          [
           "Scrypt"
          ],
          [
           "Stanford Folding"
          ],
          [
           "Multiple"
          ],
          [
           "QuBit"
          ],
          [
           "Scrypt"
          ],
          [
           "Scrypt"
          ],
          [
           "M7 POW"
          ],
          [
           "Scrypt"
          ],
          [
           "SHA-256"
          ],
          [
           "Scrypt"
          ],
          [
           "X11"
          ],
          [
           "Lyra2RE"
          ],
          [
           "SHA-256"
          ],
          [
           "X11"
          ],
          [
           "Scrypt"
          ],
          [
           "Scrypt"
          ],
          [
           "Ethash"
          ],
          [
           "Blake2b"
          ],
          [
           "X11"
          ],
          [
           "SHA-256"
          ],
          [
           "Scrypt"
          ],
          [
           "1GB AES Pattern Search"
          ],
          [
           "Scrypt"
          ],
          [
           "SHA-256"
          ],
          [
           "X11"
          ],
          [
           "Dagger"
          ],
          [
           "Scrypt"
          ],
          [
           "X11GOST"
          ],
          [
           "Scrypt"
          ],
          [
           "X11"
          ],
          [
           "Scrypt"
          ],
          [
           "X11"
          ],
          [
           "Equihash"
          ],
          [
           "CryptoNight"
          ],
          [
           "SHA-256"
          ],
          [
           "Multiple"
          ],
          [
           "Scrypt"
          ],
          [
           "SHA-256"
          ],
          [
           "Scrypt"
          ],
          [
           "Lyra2Z"
          ],
          [
           "Ethash"
          ],
          [
           "Equihash"
          ],
          [
           "Scrypt"
          ],
          [
           "X11"
          ],
          [
           "X11"
          ],
          [
           "CryptoNight"
          ],
          [
           "Scrypt"
          ],
          [
           "CryptoNight"
          ],
          [
           "Lyra2RE"
          ],
          [
           "X11"
          ],
          [
           "CryptoNight-V7"
          ],
          [
           "Scrypt"
          ],
          [
           "X11"
          ],
          [
           "Equihash"
          ],
          [
           "Scrypt"
          ],
          [
           "Lyra2RE"
          ],
          [
           "Dagger-Hashimoto"
          ],
          [
           "Scrypt"
          ],
          [
           "NIST5"
          ],
          [
           "Scrypt"
          ],
          [
           "SHA-256"
          ],
          [
           "Scrypt"
          ],
          [
           "CryptoNight-V7"
          ],
          [
           "Argon2d"
          ],
          [
           "Blake2b"
          ],
          [
           "Cloverhash"
          ],
          [
           "CryptoNight"
          ],
          [
           "X11"
          ],
          [
           "Scrypt"
          ],
          [
           "Scrypt"
          ],
          [
           "X11"
          ],
          [
           "X11"
          ],
          [
           "CryptoNight"
          ],
          [
           "Time Travel"
          ],
          [
           "Scrypt"
          ],
          [
           "Keccak"
          ],
          [
           "X11"
          ],
          [
           "SHA-256"
          ],
          [
           "VeChainThor Authority"
          ],
          [
           "Scrypt"
          ],
          [
           "Scrypt"
          ],
          [
           "Scrypt"
          ],
          [
           "Scrypt"
          ],
          [
           "Scrypt"
          ],
          [
           "Scrypt"
          ],
          [
           "CryptoNight"
          ],
          [
           "Equihash"
          ],
          [
           "X11"
          ],
          [
           "NeoScrypt"
          ],
          [
           "Equihash"
          ],
          [
           "Dagger"
          ],
          [
           "Scrypt"
          ],
          [
           "X11"
          ],
          [
           "NeoScrypt"
          ],
          [
           "Ethash"
          ],
          [
           "NeoScrypt"
          ],
          [
           "Multiple"
          ],
          [
           "CryptoNight"
          ],
          [
           "CryptoNight"
          ],
          [
           "Ethash"
          ],
          [
           "X11"
          ],
          [
           "CryptoNight-V7"
          ],
          [
           "Scrypt"
          ],
          [
           "BLAKE256"
          ],
          [
           "X11"
          ],
          [
           "NeoScrypt"
          ],
          [
           "NeoScrypt"
          ],
          [
           "Scrypt"
          ],
          [
           "X11"
          ],
          [
           "SHA-256"
          ],
          [
           "C11"
          ],
          [
           "Ethash"
          ],
          [
           "CryptoNight"
          ],
          [
           "SkunkHash"
          ],
          [
           "CryptoNight"
          ],
          [
           "Scrypt"
          ],
          [
           "Dagger"
          ],
          [
           "Lyra2REv2"
          ],
          [
           "Scrypt"
          ],
          [
           "Scrypt"
          ],
          [
           "X11"
          ],
          [
           "Ethash"
          ],
          [
           "CryptoNight"
          ],
          [
           "Scrypt"
          ],
          [
           "IMesh"
          ],
          [
           "Equihash"
          ],
          [
           "Lyra2Z"
          ],
          [
           "X11"
          ],
          [
           "CryptoNight"
          ],
          [
           "NIST5"
          ],
          [
           "Lyra2RE"
          ],
          [
           "Tribus"
          ],
          [
           "Lyra2Z"
          ],
          [
           "CryptoNight"
          ],
          [
           "CryptoNight Heavy"
          ],
          [
           "CryptoNight"
          ],
          [
           "Jump Consistent Hash"
          ],
          [
           "CryptoNight"
          ],
          [
           "X16R"
          ],
          [
           "HMQ1725"
          ],
          [
           "X11"
          ],
          [
           "Scrypt"
          ],
          [
           "CryptoNight-V7"
          ],
          [
           "Cryptonight-GPU"
          ],
          [
           "XEVAN"
          ],
          [
           "CryptoNight Heavy"
          ],
          [
           "SHA-256"
          ],
          [
           "X11"
          ],
          [
           "X16R"
          ],
          [
           "Equihash"
          ],
          [
           "Lyra2Z"
          ],
          [
           "SHA-256"
          ],
          [
           "CryptoNight"
          ],
          [
           "Blake"
          ],
          [
           "Blake"
          ],
          [
           "Exosis"
          ],
          [
           "Scrypt"
          ],
          [
           "Equihash"
          ],
          [
           "Equihash"
          ],
          [
           "QuBit"
          ],
          [
           "SHA-256"
          ],
          [
           "X13"
          ],
          [
           "SHA-256"
          ],
          [
           "Scrypt"
          ],
          [
           "NeoScrypt"
          ],
          [
           "Blake"
          ],
          [
           "Scrypt"
          ],
          [
           "SHA-256"
          ],
          [
           "Scrypt"
          ],
          [
           "Groestl"
          ],
          [
           "Scrypt"
          ],
          [
           "Scrypt"
          ],
          [
           "Multiple"
          ],
          [
           "Equihash+Scrypt"
          ],
          [
           "Ethash"
          ],
          [
           "CryptoNight"
          ],
          [
           "Equihash"
          ]
         ],
         "hovertemplate": "<b>%{hovertext}</b><br><br>Class=%{marker.color}<br>PC1=%{x}<br>PC2=%{y}<br>PC3=%{z}<br>Algorithm=%{customdata[0]}<extra></extra>",
         "hovertext": [
          "Bitcoin",
          "Ethereum",
          "Litecoin",
          "Monero",
          "Ethereum Classic",
          "ZCash",
          "DigiByte",
          "ProsperCoin",
          "Spreadcoin",
          "Argentum",
          "MyriadCoin",
          "MoonCoin",
          "ZetaCoin",
          "SexCoin",
          "Quatloo",
          "QuarkCoin",
          "Riecoin",
          "Digitalcoin ",
          "Catcoin",
          "CannaCoin",
          "CryptCoin",
          "Verge",
          "DevCoin",
          "EarthCoin",
          "E-Gulden",
          "Einsteinium",
          "Emerald",
          "Franko",
          "FeatherCoin",
          "GrandCoin",
          "GlobalCoin",
          "GoldCoin",
          "Infinite Coin",
          "IXcoin",
          "KrugerCoin",
          "LuckyCoin",
          "Litebar ",
          "MegaCoin",
          "MediterraneanCoin",
          "MinCoin",
          "NobleCoin",
          "Namecoin",
          "NyanCoin",
          "RonPaulCoin",
          "StableCoin",
          "SmartCoin",
          "SysCoin",
          "TigerCoin",
          "TerraCoin",
          "UnbreakableCoin",
          "Unobtanium",
          "UroCoin",
          "ViaCoin",
          "Vertcoin",
          "WorldCoin",
          "JouleCoin",
          "ByteCoin",
          "DigitalNote ",
          "MonaCoin",
          "Gulden",
          "PesetaCoin",
          "Wild Beast Coin",
          "Flo",
          "ArtByte",
          "Folding Coin",
          "Unitus",
          "CypherPunkCoin",
          "OmniCron",
          "GreenCoin",
          "Cryptonite",
          "MasterCoin",
          "SoonCoin",
          "1Credit",
          "MarsCoin ",
          "Crypto",
          "Anarchists Prime",
          "BowsCoin",
          "Song Coin",
          "BitZeny",
          "Expanse",
          "Siacoin",
          "MindCoin",
          "I0coin",
          "Revolution VR",
          "HOdlcoin",
          "Gamecredits",
          "CarpeDiemCoin",
          "Adzcoin",
          "SoilCoin",
          "YoCoin",
          "SibCoin",
          "Francs",
          "BolivarCoin",
          "Omni",
          "PizzaCoin",
          "Komodo",
          "Karbo",
          "ZayedCoin",
          "Circuits of Value",
          "DopeCoin",
          "DollarCoin",
          "Shilling",
          "ZCoin",
          "Elementrem",
          "ZClassic",
          "KiloCoin",
          "ArtexCoin",
          "Kurrent",
          "Cannabis Industry Coin",
          "OsmiumCoin",
          "Bikercoins",
          "HexxCoin",
          "PacCoin",
          "Citadel",
          "BeaverCoin",
          "VaultCoin",
          "Zero",
          "Canada eCoin",
          "Zoin",
          "DubaiCoin",
          "EB3coin",
          "Coinonat",
          "BenjiRolls",
          "ILCoin",
          "EquiTrader",
          "Quantum Resistant Ledger",
          "Dynamic",
          "Nano",
          "ChanCoin",
          "Dinastycoin",
          "DigitalPrice",
          "Unify",
          "SocialCoin",
          "ArcticCoin",
          "DAS",
          "LeviarCoin",
          "Bitcore",
          "gCn Coin",
          "SmartCash",
          "Onix",
          "Bitcoin Cash",
          "Vechain",
          "Sojourn Coin",
          "NewYorkCoin",
          "FrazCoin",
          "Kronecoin",
          "AdCoin",
          "Linx",
          "Sumokoin",
          "BitcoinZ",
          "Elements",
          "VIVO Coin",
          "Bitcoin Gold",
          "Pirl",
          "eBoost",
          "Pura",
          "Innova",
          "Ellaism",
          "GoByte",
          "SHIELD",
          "UltraNote",
          "BitCoal",
          "DaxxCoin",
          "AC3",
          "Lethean",
          "PopularCoin",
          "Photon",
          "Sucre",
          "SparksPay",
          "GunCoin",
          "IrishCoin",
          "Pioneer Coin",
          "UnitedBitcoin",
          "Interzone",
          "1717 Masonic Commemorative Token",
          "TurtleCoin",
          "MUNcoin",
          "Niobio Cash",
          "ShareChain",
          "Travelflex",
          "KREDS",
          "BitFlip",
          "LottoCoin",
          "Crypto Improvement Fund",
          "Callisto Network",
          "BitTube",
          "Poseidon",
          "Aidos Kuneen",
          "Bitrolium",
          "Alpenschillling",
          "FuturoCoin",
          "Monero Classic",
          "Jumpcoin",
          "Infinex",
          "KEYCO",
          "GINcoin",
          "PlatinCoin",
          "Loki",
          "Newton Coin",
          "MassGrid",
          "PluraCoin",
          "Motion",
          "PlusOneCoin",
          "Axe",
          "HexCoin",
          "Webchain",
          "Ryo",
          "Urals Coin",
          "Qwertycoin",
          "Project Pai",
          "Azart",
          "Xchange",
          "CrypticCoin",
          "Actinium",
          "Bitcoin SV",
          "FREDEnergy",
          "Universal Molecule",
          "Lithium",
          "Exosis",
          "Block-Logic",
          "Beam",
          "Bithereum",
          "SLICE",
          "BLAST",
          "Bitcoin Rhodium",
          "GlobalToken",
          "SolarCoin",
          "UFO Coin",
          "BlakeCoin",
          "Crypto Escudo",
          "Crown Coin",
          "SmileyCoin",
          "Groestlcoin",
          "Bata",
          "Pakcoin",
          "JoinCoin",
          "Vollar",
          "Reality Clash",
          "Beldex",
          "Horizen"
         ],
         "legendgroup": "1",
         "marker": {
          "color": [
           1,
           1,
           1,
           1,
           1,
           1,
           1,
           1,
           1,
           1,
           1,
           1,
           1,
           1,
           1,
           1,
           1,
           1,
           1,
           1,
           1,
           1,
           1,
           1,
           1,
           1,
           1,
           1,
           1,
           1,
           1,
           1,
           1,
           1,
           1,
           1,
           1,
           1,
           1,
           1,
           1,
           1,
           1,
           1,
           1,
           1,
           1,
           1,
           1,
           1,
           1,
           1,
           1,
           1,
           1,
           1,
           1,
           1,
           1,
           1,
           1,
           1,
           1,
           1,
           1,
           1,
           1,
           1,
           1,
           1,
           1,
           1,
           1,
           1,
           1,
           1,
           1,
           1,
           1,
           1,
           1,
           1,
           1,
           1,
           1,
           1,
           1,
           1,
           1,
           1,
           1,
           1,
           1,
           1,
           1,
           1,
           1,
           1,
           1,
           1,
           1,
           1,
           1,
           1,
           1,
           1,
           1,
           1,
           1,
           1,
           1,
           1,
           1,
           1,
           1,
           1,
           1,
           1,
           1,
           1,
           1,
           1,
           1,
           1,
           1,
           1,
           1,
           1,
           1,
           1,
           1,
           1,
           1,
           1,
           1,
           1,
           1,
           1,
           1,
           1,
           1,
           1,
           1,
           1,
           1,
           1,
           1,
           1,
           1,
           1,
           1,
           1,
           1,
           1,
           1,
           1,
           1,
           1,
           1,
           1,
           1,
           1,
           1,
           1,
           1,
           1,
           1,
           1,
           1,
           1,
           1,
           1,
           1,
           1,
           1,
           1,
           1,
           1,
           1,
           1,
           1,
           1,
           1,
           1,
           1,
           1,
           1,
           1,
           1,
           1,
           1,
           1,
           1,
           1,
           1,
           1,
           1,
           1,
           1,
           1,
           1,
           1,
           1,
           1,
           1,
           1,
           1,
           1,
           1,
           1,
           1,
           1,
           1,
           1,
           1,
           1,
           1,
           1,
           1,
           1,
           1,
           1,
           1,
           1,
           1,
           1,
           1,
           1,
           1,
           1,
           1,
           1,
           1,
           1,
           1,
           1,
           1,
           1,
           1,
           1
          ],
          "coloraxis": "coloraxis",
          "symbol": "diamond"
         },
         "mode": "markers",
         "name": "1",
         "scene": "scene",
         "showlegend": true,
         "type": "scatter3d",
         "x": [
          -0.12384141759044641,
          -0.17433073613738295,
          -0.17352604556622073,
          -0.12789189833095926,
          -0.17276738823876303,
          -0.17549360351844254,
          0.1593650169391916,
          -0.1746767173661442,
          -0.2241113778503494,
          -0.1742918893253946,
          -0.09499382680126274,
          2.556487168368099,
          -0.12091502230736371,
          -0.17153686145172153,
          -0.174095293477146,
          -0.23370077183947735,
          -0.1888425240483242,
          -0.17414399530235708,
          -0.17465890972345333,
          -0.17474568296653786,
          -0.22420108080900092,
          0.18323620070755567,
          0.25546455996441997,
          0.07494700103386921,
          -0.17449096532217448,
          -0.1700794876576892,
          -0.17443006460228008,
          -0.17480291272333626,
          -0.13433830994263904,
          -0.15394633446191072,
          -0.17359332187871324,
          -0.17387193373993673,
          1.5808954714958126,
          -0.12380262656313566,
          -0.17115107940281704,
          -0.1745175115080216,
          -0.17487370121808768,
          -0.17413008753491502,
          -0.1144232141471198,
          -0.1747545198076578,
          -0.03917714934402475,
          -0.12388055947201419,
          -0.16839383129172397,
          -0.17473393346813668,
          -0.17282155362376436,
          -0.174218702873807,
          -0.11098381772446007,
          -0.12334223655886836,
          -0.12363060816811382,
          -0.12361372156811032,
          -0.12420646356121547,
          -0.22437560315851324,
          -0.17444925576039963,
          -0.17123222172973102,
          -0.17154167581055257,
          -0.12340980031331636,
          3.866352897439508,
          0.4521091468147945,
          -0.173312576724564,
          -0.15785575932745088,
          -0.17202639394442137,
          -0.17487592640431324,
          -0.17189083926993307,
          -0.15806165717490253,
          -0.12633411574705972,
          -0.12913118316737282,
          -0.15342526471024098,
          -0.17474848072998797,
          -0.047211078727583886,
          -0.10070530715700117,
          -0.17488484535788415,
          -0.12390845239065364,
          0.479498318876796,
          -0.22376041659196969,
          -0.11541144224912672,
          -0.12364740578717348,
          -0.22404643601106514,
          -0.17300193308943768,
          -0.172191027802107,
          -0.175402717706814,
          0.380912387855556,
          -0.22408195358640437,
          -0.12380375357716429,
          -0.17082701289181748,
          -0.12596619023532207,
          -0.1734426671518893,
          0.29630520154133216,
          -0.22323954576191038,
          -0.12433794462069495,
          -0.17369156404141584,
          -0.12467938959564309,
          -0.1746739859444714,
          -0.22404509160525257,
          -0.17488490407983337,
          -0.22419568580762153,
          -0.38901026632040614,
          0.2964219382500386,
          -0.12406486001918317,
          -0.10912716410768197,
          -0.17204089109245632,
          -0.12402332253851012,
          -0.1745470601045283,
          -0.13734665825456746,
          -0.17514385215737419,
          -0.1755153104091105,
          -0.10135903194307488,
          -0.2107257493916104,
          -0.22201587965455727,
          0.29641622076110474,
          -0.1748665770963386,
          0.2965474588645686,
          -0.11595383884098716,
          0.4934947755331493,
          -0.12665244422801125,
          -0.1748347358443714,
          -0.21690468870195384,
          -0.17552771555114766,
          -0.1729607537708743,
          -0.11567110657587135,
          -0.16408532358749314,
          -0.14565865487768573,
          -0.18454225311558836,
          -0.17439546408224482,
          -0.09026318358464565,
          -0.17421698201119018,
          -0.12650916664555217,
          -0.19817634176939997,
          -0.021056097455279334,
          -0.18842985268426013,
          0.33267790653955986,
          -0.22324805864721198,
          -0.17453729190951153,
          -0.17429998337275207,
          -0.22364416777615256,
          -0.22422380269457964,
          0.2968126756713973,
          -0.10982472571704982,
          3.2479288154853956,
          -0.09312626654083989,
          -0.21506370293831592,
          -0.12384057833415048,
          4.525962410357172,
          -0.10020461698682014,
          1.5793948588880122,
          -0.17463554992576513,
          -0.17408525202963054,
          -0.17378506898670604,
          -0.1737719455960801,
          0.2969968643078627,
          0.03757019469682803,
          -0.17843057433181003,
          -0.13904490167595882,
          -0.1753731481221553,
          -0.1230925504809743,
          -0.17295895548274767,
          -0.2197514624074348,
          -0.13888976622535196,
          -0.17350360114171476,
          -0.13899031805488143,
          -0.1193258887309924,
          1.1373920811507927,
          0.29639896374460156,
          -0.09813204340836919,
          -0.21949301976858135,
          -0.11558071122075411,
          -0.0907022972691791,
          1.1908135450069681,
          -0.2241976979914904,
          -0.13904241846327994,
          -0.1320538852149179,
          -0.1738836705287503,
          -0.22412281233347894,
          -0.12381988569651835,
          -0.18879374109754254,
          -0.30581398510605873,
          8.061111157855892,
          -0.22643193689505278,
          0.3002877867522501,
          0.018904961521704264,
          -0.12259340352887414,
          -0.15673561874186528,
          -0.17445965296197435,
          0.13379581561481516,
          -0.21824189304645258,
          -0.12637984337382904,
          0.3043498065820379,
          -0.17469754827555117,
          -0.08847223211672743,
          -0.17436030492704352,
          -0.1351224324231801,
          -0.22328900060344786,
          0.2965822100194441,
          -0.1846018174375697,
          -0.11579852021014966,
          -0.15931974629209447,
          -0.137431327786477,
          0.30052367443343253,
          0.5811494416590615,
          2.1116112444229906,
          -0.12188134134620263,
          0.3102385158436516,
          -0.16863761997423007,
          -0.1718564492245571,
          -0.22417979039437905,
          -0.17472223818551633,
          -0.11546406915167974,
          -0.11295030634399224,
          -0.2118844760977817,
          3.1132169288500005,
          -0.08351232581169998,
          -0.2241510581636658,
          -0.1680633764097785,
          -0.06972193504341828,
          -0.13682696593124935,
          -0.12384061605579649,
          0.37663126048376805,
          -0.14147461277858878,
          -0.14186784339844472,
          -0.08634149667018627,
          -0.17361044869383896,
          -0.17342646856918792,
          -0.17520532425701266,
          -0.15263348774336255,
          -0.12311397670283576,
          -0.09614603783271736,
          -0.12197775993120506,
          0.5235680379745893,
          -0.06391795626772097,
          -0.09216431329673795,
          -0.1582128694541271,
          -0.12362997600134348,
          0.5436648837324098,
          -0.18840181011345294,
          -0.17479930533347884,
          -0.17274745544337106,
          -0.12986913922259843,
          -0.10207566854576698,
          -0.17517713945860858,
          0.3182391920259659,
          -0.17549466486142856
         ],
         "y": [
          -1.2925233546699442,
          -2.204828817994765,
          -1.094319753050216,
          -2.242346092860388,
          -2.2049337022538538,
          -1.8973103254455643,
          -1.8850497055520827,
          -1.0943165562454122,
          -0.9774253280723187,
          -1.0943353488848377,
          -1.8802426372172405,
          -1.2913765374469313,
          -1.2925222503453409,
          -1.0943714185808637,
          -1.0943562902484067,
          -0.4254822246710187,
          -1.2460751771058927,
          -1.0943164192183312,
          -1.0943158177696648,
          -1.0943130640061138,
          -0.9774274316781063,
          -1.8804674623012734,
          -1.2937482839469137,
          -1.0948580826705938,
          -1.0943088531831993,
          -1.0943512226408911,
          -1.0943152175231072,
          -1.0943138983945166,
          -1.5560182139810792,
          -1.0945879979092958,
          -1.0943112285940646,
          -1.0943245974223725,
          -1.0947169021322478,
          -1.2925217460217227,
          -1.0943678829805163,
          -1.0943091458729686,
          -1.0943088445489582,
          -1.0943108592936484,
          -2.260134288424558,
          -1.0943108928130711,
          -1.1008030198249619,
          -1.2925249778679662,
          -1.0943113891654415,
          -1.094318928974045,
          -1.094424694246176,
          -1.094321969298406,
          -1.2926908384430897,
          -1.2925236759220777,
          -1.2925315840548621,
          -1.2925615942280115,
          -1.292521723454847,
          -0.9774201219924449,
          -1.0943087398441897,
          -1.3275326720908283,
          -1.0943840808557304,
          -1.2925248517518353,
          -2.37865377015731,
          -2.3792417566886948,
          -1.094327969130465,
          -1.0949597516636849,
          -1.0943241449831855,
          -1.0943099696675775,
          -1.0943133626130543,
          -1.094418734678235,
          -1.913688640583269,
          -1.8800419599283213,
          -1.5533227271246408,
          -1.0943052852894946,
          -1.0970953344687844,
          -2.0355712530821353,
          -1.0943087163060903,
          -1.2925261345760324,
          -1.1415228348120354,
          -0.9774212800585554,
          -2.1721477970779928,
          -1.2925417847225664,
          -0.9774234431303152,
          -1.0944000416772037,
          -1.0943985465951074,
          -2.2048869358773615,
          -2.0361794302496072,
          -0.9774208751806521,
          -1.2925217927585397,
          -1.0943096546545956,
          -2.203274037091052,
          -1.0943162953810661,
          -1.292560779644427,
          -0.9774408964171335,
          -2.121336061753718,
          -1.0943947872104898,
          -1.9447488474838026,
          -1.0943156348046266,
          -0.9774266200576784,
          -1.0943087162925114,
          -0.9774328651384051,
          -0.8046752083762964,
          -2.3776244256994636,
          -1.2925235175122018,
          -1.88018220513908,
          -1.0943519119948018,
          -1.2925225241796843,
          -1.0943184529396504,
          -2.1413163998282934,
          -2.2048837161136494,
          -1.8973112256215499,
          -1.0993408282108839,
          -0.9772581529879414,
          -0.9775065279339243,
          -2.3776335526695753,
          -1.0943096516892954,
          -2.377631342957779,
          -2.172125202977107,
          -1.0284673106681814,
          -2.242444204618507,
          -1.0943088530920166,
          -0.9779184760207962,
          -1.8973085073784486,
          -1.0943092413451834,
          -2.1721223680532713,
          -2.2723566844736545,
          -1.0963288966812623,
          -0.6195741167551123,
          -1.094316627734599,
          -1.29313433188694,
          -1.094338707867442,
          -2.2423736093684643,
          -2.439235258750682,
          -2.0531239068690126,
          -2.123298520538905,
          -2.3777291633095916,
          -0.9774541801603647,
          -1.0943093816898037,
          -1.094344574409867,
          -0.9774382798526059,
          -0.9774291012983695,
          -2.377643781449095,
          -1.924661053040806,
          -1.113999482557542,
          -1.0876304240650279,
          -0.9779229480682374,
          -1.2925233198663326,
          0.6830855312814182,
          -1.0996970400052446,
          -1.021558945120537,
          -1.0943140408784604,
          -1.0943429431163176,
          -1.0943434253641304,
          -1.0943428811424236,
          -2.377664339367526,
          -1.9054292507318373,
          -0.976969505908685,
          -1.5559636699604307,
          -1.8973053302089486,
          -2.121386493052926,
          -1.0943091667709013,
          -0.9775112201851394,
          -1.555971783612957,
          -2.2050208045937465,
          -1.5559652856149138,
          -1.8801687304190875,
          -2.4114360877067775,
          -2.3776273988675025,
          -2.209750587317773,
          -0.9776621366397947,
          -2.242643303714312,
          -1.0948580485671444,
          -1.2089044893536245,
          -0.9774287460997289,
          -1.5559587179636105,
          -1.5560560196631155,
          -1.094318420216276,
          -0.9774282267652115,
          -1.2925217877373705,
          -1.3837997336972696,
          -0.24493264133628398,
          -2.8637876516243623,
          -2.17379279013827,
          -2.377727573889364,
          -1.0943535289929374,
          -2.1213202882277615,
          -1.3277526043717376,
          -1.0943229098990876,
          -1.096383319181591,
          -0.9775698444285115,
          -2.208093417756,
          -2.378095748336902,
          -1.0943174200948091,
          -2.0644257719720174,
          -1.8973029283326575,
          -2.1414493181970253,
          -0.9774558780067478,
          -2.3776245679205332,
          -0.6195545626192076,
          -2.1721319189819184,
          -2.150658215140362,
          -2.1413111019884,
          -2.3779311489769035,
          -2.4040668061050483,
          -2.4510444260278703,
          -2.3082119765534346,
          -2.377851545943076,
          -1.245988321747328,
          -2.4296768029627134,
          -0.977428973282711,
          -1.0943193372156128,
          -2.2432450130122197,
          -2.094968315491721,
          -0.9142960357160517,
          -2.4480248539562326,
          -1.2925311086097515,
          -0.9774310144480417,
          -1.2460274841671921,
          -1.8990491362488409,
          -2.141345439829125,
          -1.292523321430634,
          -2.380820108060927,
          -2.1360668831928318,
          -2.136018624648884,
          -2.051199121010176,
          -1.0943523473277847,
          -1.8974200176598774,
          -1.8973063601880313,
          -1.5533707094369655,
          -1.2925279392930469,
          -0.42534838556254523,
          -1.2925648705051638,
          -1.1446251173441142,
          -1.556059044632274,
          -2.139594239008938,
          -1.094425005390359,
          -1.2925315578391614,
          -1.104918740334709,
          -1.246073872443557,
          -1.0943087092015702,
          -1.0943666658759743,
          -1.880074825543301,
          -1.9971942810230694,
          -2.204883708416118,
          -2.377843208973985,
          -1.8973103694590294
         ],
         "z": [
          0.1112170578457011,
          0.3558062324608979,
          0.036836489741081856,
          0.35602814739073174,
          0.35578329425686034,
          0.34403580288952035,
          0.3513676118952548,
          0.03686431614471486,
          0.010969950003559078,
          0.036857630870873175,
          0.356912345351775,
          -0.0011638638901592144,
          0.1111449239951852,
          0.036795208795587814,
          0.0368558926510454,
          0.05519080435756457,
          0.09330317225586901,
          0.03685119433717721,
          0.036863768986328996,
          0.03686549582897422,
          0.010972467198669183,
          0.35010291891844525,
          0.10206970552653917,
          0.030805254647375237,
          0.036858608719519466,
          0.036756380208158086,
          0.03685805210136068,
          0.036867026701802565,
          0.1533460279301405,
          0.03639462212956971,
          0.03683688372325152,
          0.03684571274877548,
          -0.00625229131261937,
          0.11121586595094615,
          0.03678519819371624,
          0.036859304867849274,
          0.036868020289647675,
          0.036850030102287205,
          0.32368852369995754,
          0.03686539208588996,
          0.03449110449751267,
          0.11121826052081563,
          0.03670903336603077,
          0.03686607416909582,
          0.03683468230185122,
          0.036853852401275713,
          0.11092561064003012,
          0.1112048287019345,
          0.11121309023542436,
          0.11121711279140253,
          0.11122579441244126,
          0.010975678383516327,
          0.036857566171560885,
          0.12622715231000195,
          0.03679719967553633,
          0.11120666421660903,
          0.2942362610540118,
          0.3782916979719571,
          0.0368324547586792,
          0.036545743263720634,
          0.0368002574069973,
          0.03686824139574998,
          0.036795329151673696,
          0.036470802274734426,
          0.5418114604499842,
          0.3577222294051314,
          0.1507786622417201,
          0.03686441433142291,
          0.03414040083107985,
          0.4861786368216079,
          0.03686827539961567,
          0.11121911755981888,
          0.027756599662160396,
          0.01096071999477941,
          0.33692388209707325,
          0.11121501180801704,
          0.010968074108750291,
          0.036835472895418525,
          0.03681530873866454,
          0.3558411907109378,
          0.3360358419350292,
          0.010968567868757174,
          0.11121590057962695,
          0.03676861752239906,
          0.39190894523646225,
          0.03683392785237565,
          0.10088968152738052,
          0.010950810751648313,
          0.30598291987680654,
          0.036851656368929404,
          0.4536074618836937,
          0.03686411270803204,
          0.010968510844097785,
          0.036868276841790754,
          0.01097313800795831,
          0.37136766098653096,
          0.3818814358223014,
          0.11122257717643146,
          0.3572509981508392,
          0.03680472008652448,
          0.11122140872848545,
          0.036861407888324996,
          0.32739046836196,
          0.3558343481459373,
          0.3440364698563647,
          0.0358041531422704,
          0.010616027848908605,
          0.010930421905075876,
          0.38188292611805796,
          0.036867964440633776,
          0.3818793717341322,
          0.3369338803918843,
          0.0008694530667655749,
          0.3560121733886175,
          0.03686706325483714,
          0.010865637652897563,
          0.3440363729736686,
          0.03682103273582501,
          0.33692650776836125,
          0.41492854240954674,
          0.036448239812374474,
          -0.020317253127462843,
          0.03685740969049989,
          0.11048159913295261,
          0.03685628535278951,
          0.35599821016317856,
          0.33639082441459567,
          0.34842741014735396,
          0.4941337724845172,
          0.38100526009992447,
          0.010952984493394316,
          0.036859826211019776,
          0.036859194188864686,
          0.01096037492314413,
          0.010973272912104847,
          0.38187468848748485,
          0.23261411549412703,
          -0.04439913572867139,
          0.13342713790323205,
          0.010821022536542955,
          0.11121703205867485,
          5.258191075986932,
          0.03582843799147721,
          -0.017033871364973502,
          0.03686293172128819,
          0.03685367194263194,
          0.036846360680171004,
          0.036845957450313035,
          0.3818731987021732,
          0.3399964148362087,
          0.009779089103558718,
          0.15345371399825575,
          0.34403210177189586,
          0.30595974887541244,
          0.036820977481547716,
          0.01087542565486546,
          0.1534510984960881,
          0.3558142809291046,
          0.15345261051193657,
          0.35749982870856944,
          0.36619898324495875,
          0.3818824405151929,
          0.35466005723454697,
          0.01089138691624405,
          0.35576932227240793,
          0.034879159337741536,
          0.004639702391928234,
          0.010972578377702595,
          0.15345292063353108,
          0.15329543638721618,
          0.03684508792278275,
          0.010970659872686729,
          0.11121629658371741,
          0.0594907579162646,
          0.14230491916346127,
          0.26281297424301897,
          0.4360938304673249,
          0.38180161415180264,
          0.03210891656917735,
          0.3059376827964035,
          0.12590315214952644,
          0.03685991732179318,
          0.02958350106871108,
          0.010846969198200562,
          0.35510971217108783,
          0.38175615959844644,
          0.03686495619612226,
          0.34675498522924453,
          0.34400683714316377,
          0.32735542244252663,
          0.010954242477681144,
          0.38187751519670193,
          -0.020318679862741613,
          0.3369310537026772,
          0.4208236726011766,
          0.32739176725273694,
          0.3818259171975575,
          0.3430348567680245,
          0.34809666337678336,
          0.24040437503733192,
          0.381575222867469,
          0.13611917349561778,
          0.4892465478453334,
          0.010972171561198068,
          0.036865846910325725,
          0.35585543346603304,
          0.2501819289766076,
          0.22194340721863437,
          0.2872626934715792,
          0.11022636762842186,
          0.010971766777074007,
          0.13611084206702556,
          0.34169163125431223,
          0.3273819816561683,
          0.11121703321771177,
          0.3803813737778847,
          0.3792929426207874,
          0.37929547717178314,
          0.3644999202428129,
          0.036843385507721066,
          0.3440011857499238,
          0.34402812669348554,
          0.15076628515943435,
          0.11119984543496803,
          -0.09831638190020822,
          0.11117736312422422,
          0.027131528117555356,
          0.15162017710477624,
          0.3786018456081563,
          0.036475448429650656,
          0.11121307081144122,
          0.020765557079021335,
          0.09329214058977313,
          0.036866170613337315,
          0.036824278816512526,
          0.3577452385047715,
          0.42266630340756517,
          0.3558351656616375,
          0.381377224717235,
          0.34403583550038974
         ]
        },
        {
         "customdata": [
          [
           "Proof-of-BibleHash"
          ],
          [
           "SHA-256 + Hive"
          ],
          [
           "Proof-of-Authority"
          ],
          [
           "ECC 256K1"
          ],
          [
           "Leased POS"
          ]
         ],
         "hovertemplate": "<b>%{hovertext}</b><br><br>Class=%{marker.color}<br>PC1=%{x}<br>PC2=%{y}<br>PC3=%{z}<br>Algorithm=%{customdata[0]}<extra></extra>",
         "hovertext": [
          "BiblePay",
          "LitecoinCash",
          "Poa Network",
          "Acute Angle Cloud",
          "Waves"
         ],
         "legendgroup": "3",
         "marker": {
          "color": [
           3,
           3,
           3,
           3,
           3
          ],
          "coloraxis": "coloraxis",
          "symbol": "square"
         },
         "mode": "markers",
         "name": "3",
         "scene": "scene",
         "showlegend": true,
         "type": "scatter3d",
         "x": [
          -0.3798726448366155,
          -0.4930154063316069,
          0.055957254623105364,
          -0.019923114693550473,
          -0.44352063995603114
         ],
         "y": [
          5.064035911460858,
          2.3704271618732546,
          4.506366106189893,
          2.792404852945464,
          3.61296105975017
         ],
         "z": [
          8.912118471575784,
          26.210698573086226,
          7.744038250620134,
          6.110048337858525,
          10.662756228060964
         ]
        },
        {
         "customdata": [
          [
           "TRC10"
          ]
         ],
         "hovertemplate": "<b>%{hovertext}</b><br><br>Class=%{marker.color}<br>PC1=%{x}<br>PC2=%{y}<br>PC3=%{z}<br>Algorithm=%{customdata[0]}<extra></extra>",
         "hovertext": [
          "BitTorrent"
         ],
         "legendgroup": "2",
         "marker": {
          "color": [
           2
          ],
          "coloraxis": "coloraxis",
          "symbol": "x"
         },
         "mode": "markers",
         "name": "2",
         "scene": "scene",
         "showlegend": true,
         "type": "scatter3d",
         "x": [
          34.1341977582192
         ],
         "y": [
          1.9790579582136698
         ],
         "z": [
          -0.9781245079108724
         ]
        }
       ],
       "layout": {
        "coloraxis": {
         "colorbar": {
          "title": {
           "text": "Class"
          }
         },
         "colorscale": [
          [
           0,
           "#0d0887"
          ],
          [
           0.1111111111111111,
           "#46039f"
          ],
          [
           0.2222222222222222,
           "#7201a8"
          ],
          [
           0.3333333333333333,
           "#9c179e"
          ],
          [
           0.4444444444444444,
           "#bd3786"
          ],
          [
           0.5555555555555556,
           "#d8576b"
          ],
          [
           0.6666666666666666,
           "#ed7953"
          ],
          [
           0.7777777777777778,
           "#fb9f3a"
          ],
          [
           0.8888888888888888,
           "#fdca26"
          ],
          [
           1,
           "#f0f921"
          ]
         ]
        },
        "legend": {
         "title": {
          "text": "Class"
         },
         "tracegroupgap": 0,
         "x": 0,
         "y": 1
        },
        "margin": {
         "t": 60
        },
        "scene": {
         "domain": {
          "x": [
           0,
           1
          ],
          "y": [
           0,
           1
          ]
         },
         "xaxis": {
          "title": {
           "text": "PC1"
          }
         },
         "yaxis": {
          "title": {
           "text": "PC2"
          }
         },
         "zaxis": {
          "title": {
           "text": "PC3"
          }
         }
        },
        "template": {
         "data": {
          "bar": [
           {
            "error_x": {
             "color": "#2a3f5f"
            },
            "error_y": {
             "color": "#2a3f5f"
            },
            "marker": {
             "line": {
              "color": "#E5ECF6",
              "width": 0.5
             },
             "pattern": {
              "fillmode": "overlay",
              "size": 10,
              "solidity": 0.2
             }
            },
            "type": "bar"
           }
          ],
          "barpolar": [
           {
            "marker": {
             "line": {
              "color": "#E5ECF6",
              "width": 0.5
             },
             "pattern": {
              "fillmode": "overlay",
              "size": 10,
              "solidity": 0.2
             }
            },
            "type": "barpolar"
           }
          ],
          "carpet": [
           {
            "aaxis": {
             "endlinecolor": "#2a3f5f",
             "gridcolor": "white",
             "linecolor": "white",
             "minorgridcolor": "white",
             "startlinecolor": "#2a3f5f"
            },
            "baxis": {
             "endlinecolor": "#2a3f5f",
             "gridcolor": "white",
             "linecolor": "white",
             "minorgridcolor": "white",
             "startlinecolor": "#2a3f5f"
            },
            "type": "carpet"
           }
          ],
          "choropleth": [
           {
            "colorbar": {
             "outlinewidth": 0,
             "ticks": ""
            },
            "type": "choropleth"
           }
          ],
          "contour": [
           {
            "colorbar": {
             "outlinewidth": 0,
             "ticks": ""
            },
            "colorscale": [
             [
              0,
              "#0d0887"
             ],
             [
              0.1111111111111111,
              "#46039f"
             ],
             [
              0.2222222222222222,
              "#7201a8"
             ],
             [
              0.3333333333333333,
              "#9c179e"
             ],
             [
              0.4444444444444444,
              "#bd3786"
             ],
             [
              0.5555555555555556,
              "#d8576b"
             ],
             [
              0.6666666666666666,
              "#ed7953"
             ],
             [
              0.7777777777777778,
              "#fb9f3a"
             ],
             [
              0.8888888888888888,
              "#fdca26"
             ],
             [
              1,
              "#f0f921"
             ]
            ],
            "type": "contour"
           }
          ],
          "contourcarpet": [
           {
            "colorbar": {
             "outlinewidth": 0,
             "ticks": ""
            },
            "type": "contourcarpet"
           }
          ],
          "heatmap": [
           {
            "colorbar": {
             "outlinewidth": 0,
             "ticks": ""
            },
            "colorscale": [
             [
              0,
              "#0d0887"
             ],
             [
              0.1111111111111111,
              "#46039f"
             ],
             [
              0.2222222222222222,
              "#7201a8"
             ],
             [
              0.3333333333333333,
              "#9c179e"
             ],
             [
              0.4444444444444444,
              "#bd3786"
             ],
             [
              0.5555555555555556,
              "#d8576b"
             ],
             [
              0.6666666666666666,
              "#ed7953"
             ],
             [
              0.7777777777777778,
              "#fb9f3a"
             ],
             [
              0.8888888888888888,
              "#fdca26"
             ],
             [
              1,
              "#f0f921"
             ]
            ],
            "type": "heatmap"
           }
          ],
          "heatmapgl": [
           {
            "colorbar": {
             "outlinewidth": 0,
             "ticks": ""
            },
            "colorscale": [
             [
              0,
              "#0d0887"
             ],
             [
              0.1111111111111111,
              "#46039f"
             ],
             [
              0.2222222222222222,
              "#7201a8"
             ],
             [
              0.3333333333333333,
              "#9c179e"
             ],
             [
              0.4444444444444444,
              "#bd3786"
             ],
             [
              0.5555555555555556,
              "#d8576b"
             ],
             [
              0.6666666666666666,
              "#ed7953"
             ],
             [
              0.7777777777777778,
              "#fb9f3a"
             ],
             [
              0.8888888888888888,
              "#fdca26"
             ],
             [
              1,
              "#f0f921"
             ]
            ],
            "type": "heatmapgl"
           }
          ],
          "histogram": [
           {
            "marker": {
             "pattern": {
              "fillmode": "overlay",
              "size": 10,
              "solidity": 0.2
             }
            },
            "type": "histogram"
           }
          ],
          "histogram2d": [
           {
            "colorbar": {
             "outlinewidth": 0,
             "ticks": ""
            },
            "colorscale": [
             [
              0,
              "#0d0887"
             ],
             [
              0.1111111111111111,
              "#46039f"
             ],
             [
              0.2222222222222222,
              "#7201a8"
             ],
             [
              0.3333333333333333,
              "#9c179e"
             ],
             [
              0.4444444444444444,
              "#bd3786"
             ],
             [
              0.5555555555555556,
              "#d8576b"
             ],
             [
              0.6666666666666666,
              "#ed7953"
             ],
             [
              0.7777777777777778,
              "#fb9f3a"
             ],
             [
              0.8888888888888888,
              "#fdca26"
             ],
             [
              1,
              "#f0f921"
             ]
            ],
            "type": "histogram2d"
           }
          ],
          "histogram2dcontour": [
           {
            "colorbar": {
             "outlinewidth": 0,
             "ticks": ""
            },
            "colorscale": [
             [
              0,
              "#0d0887"
             ],
             [
              0.1111111111111111,
              "#46039f"
             ],
             [
              0.2222222222222222,
              "#7201a8"
             ],
             [
              0.3333333333333333,
              "#9c179e"
             ],
             [
              0.4444444444444444,
              "#bd3786"
             ],
             [
              0.5555555555555556,
              "#d8576b"
             ],
             [
              0.6666666666666666,
              "#ed7953"
             ],
             [
              0.7777777777777778,
              "#fb9f3a"
             ],
             [
              0.8888888888888888,
              "#fdca26"
             ],
             [
              1,
              "#f0f921"
             ]
            ],
            "type": "histogram2dcontour"
           }
          ],
          "mesh3d": [
           {
            "colorbar": {
             "outlinewidth": 0,
             "ticks": ""
            },
            "type": "mesh3d"
           }
          ],
          "parcoords": [
           {
            "line": {
             "colorbar": {
              "outlinewidth": 0,
              "ticks": ""
             }
            },
            "type": "parcoords"
           }
          ],
          "pie": [
           {
            "automargin": true,
            "type": "pie"
           }
          ],
          "scatter": [
           {
            "marker": {
             "colorbar": {
              "outlinewidth": 0,
              "ticks": ""
             }
            },
            "type": "scatter"
           }
          ],
          "scatter3d": [
           {
            "line": {
             "colorbar": {
              "outlinewidth": 0,
              "ticks": ""
             }
            },
            "marker": {
             "colorbar": {
              "outlinewidth": 0,
              "ticks": ""
             }
            },
            "type": "scatter3d"
           }
          ],
          "scattercarpet": [
           {
            "marker": {
             "colorbar": {
              "outlinewidth": 0,
              "ticks": ""
             }
            },
            "type": "scattercarpet"
           }
          ],
          "scattergeo": [
           {
            "marker": {
             "colorbar": {
              "outlinewidth": 0,
              "ticks": ""
             }
            },
            "type": "scattergeo"
           }
          ],
          "scattergl": [
           {
            "marker": {
             "colorbar": {
              "outlinewidth": 0,
              "ticks": ""
             }
            },
            "type": "scattergl"
           }
          ],
          "scattermapbox": [
           {
            "marker": {
             "colorbar": {
              "outlinewidth": 0,
              "ticks": ""
             }
            },
            "type": "scattermapbox"
           }
          ],
          "scatterpolar": [
           {
            "marker": {
             "colorbar": {
              "outlinewidth": 0,
              "ticks": ""
             }
            },
            "type": "scatterpolar"
           }
          ],
          "scatterpolargl": [
           {
            "marker": {
             "colorbar": {
              "outlinewidth": 0,
              "ticks": ""
             }
            },
            "type": "scatterpolargl"
           }
          ],
          "scatterternary": [
           {
            "marker": {
             "colorbar": {
              "outlinewidth": 0,
              "ticks": ""
             }
            },
            "type": "scatterternary"
           }
          ],
          "surface": [
           {
            "colorbar": {
             "outlinewidth": 0,
             "ticks": ""
            },
            "colorscale": [
             [
              0,
              "#0d0887"
             ],
             [
              0.1111111111111111,
              "#46039f"
             ],
             [
              0.2222222222222222,
              "#7201a8"
             ],
             [
              0.3333333333333333,
              "#9c179e"
             ],
             [
              0.4444444444444444,
              "#bd3786"
             ],
             [
              0.5555555555555556,
              "#d8576b"
             ],
             [
              0.6666666666666666,
              "#ed7953"
             ],
             [
              0.7777777777777778,
              "#fb9f3a"
             ],
             [
              0.8888888888888888,
              "#fdca26"
             ],
             [
              1,
              "#f0f921"
             ]
            ],
            "type": "surface"
           }
          ],
          "table": [
           {
            "cells": {
             "fill": {
              "color": "#EBF0F8"
             },
             "line": {
              "color": "white"
             }
            },
            "header": {
             "fill": {
              "color": "#C8D4E3"
             },
             "line": {
              "color": "white"
             }
            },
            "type": "table"
           }
          ]
         },
         "layout": {
          "annotationdefaults": {
           "arrowcolor": "#2a3f5f",
           "arrowhead": 0,
           "arrowwidth": 1
          },
          "autotypenumbers": "strict",
          "coloraxis": {
           "colorbar": {
            "outlinewidth": 0,
            "ticks": ""
           }
          },
          "colorscale": {
           "diverging": [
            [
             0,
             "#8e0152"
            ],
            [
             0.1,
             "#c51b7d"
            ],
            [
             0.2,
             "#de77ae"
            ],
            [
             0.3,
             "#f1b6da"
            ],
            [
             0.4,
             "#fde0ef"
            ],
            [
             0.5,
             "#f7f7f7"
            ],
            [
             0.6,
             "#e6f5d0"
            ],
            [
             0.7,
             "#b8e186"
            ],
            [
             0.8,
             "#7fbc41"
            ],
            [
             0.9,
             "#4d9221"
            ],
            [
             1,
             "#276419"
            ]
           ],
           "sequential": [
            [
             0,
             "#0d0887"
            ],
            [
             0.1111111111111111,
             "#46039f"
            ],
            [
             0.2222222222222222,
             "#7201a8"
            ],
            [
             0.3333333333333333,
             "#9c179e"
            ],
            [
             0.4444444444444444,
             "#bd3786"
            ],
            [
             0.5555555555555556,
             "#d8576b"
            ],
            [
             0.6666666666666666,
             "#ed7953"
            ],
            [
             0.7777777777777778,
             "#fb9f3a"
            ],
            [
             0.8888888888888888,
             "#fdca26"
            ],
            [
             1,
             "#f0f921"
            ]
           ],
           "sequentialminus": [
            [
             0,
             "#0d0887"
            ],
            [
             0.1111111111111111,
             "#46039f"
            ],
            [
             0.2222222222222222,
             "#7201a8"
            ],
            [
             0.3333333333333333,
             "#9c179e"
            ],
            [
             0.4444444444444444,
             "#bd3786"
            ],
            [
             0.5555555555555556,
             "#d8576b"
            ],
            [
             0.6666666666666666,
             "#ed7953"
            ],
            [
             0.7777777777777778,
             "#fb9f3a"
            ],
            [
             0.8888888888888888,
             "#fdca26"
            ],
            [
             1,
             "#f0f921"
            ]
           ]
          },
          "colorway": [
           "#636efa",
           "#EF553B",
           "#00cc96",
           "#ab63fa",
           "#FFA15A",
           "#19d3f3",
           "#FF6692",
           "#B6E880",
           "#FF97FF",
           "#FECB52"
          ],
          "font": {
           "color": "#2a3f5f"
          },
          "geo": {
           "bgcolor": "white",
           "lakecolor": "white",
           "landcolor": "#E5ECF6",
           "showlakes": true,
           "showland": true,
           "subunitcolor": "white"
          },
          "hoverlabel": {
           "align": "left"
          },
          "hovermode": "closest",
          "mapbox": {
           "style": "light"
          },
          "paper_bgcolor": "white",
          "plot_bgcolor": "#E5ECF6",
          "polar": {
           "angularaxis": {
            "gridcolor": "white",
            "linecolor": "white",
            "ticks": ""
           },
           "bgcolor": "#E5ECF6",
           "radialaxis": {
            "gridcolor": "white",
            "linecolor": "white",
            "ticks": ""
           }
          },
          "scene": {
           "xaxis": {
            "backgroundcolor": "#E5ECF6",
            "gridcolor": "white",
            "gridwidth": 2,
            "linecolor": "white",
            "showbackground": true,
            "ticks": "",
            "zerolinecolor": "white"
           },
           "yaxis": {
            "backgroundcolor": "#E5ECF6",
            "gridcolor": "white",
            "gridwidth": 2,
            "linecolor": "white",
            "showbackground": true,
            "ticks": "",
            "zerolinecolor": "white"
           },
           "zaxis": {
            "backgroundcolor": "#E5ECF6",
            "gridcolor": "white",
            "gridwidth": 2,
            "linecolor": "white",
            "showbackground": true,
            "ticks": "",
            "zerolinecolor": "white"
           }
          },
          "shapedefaults": {
           "line": {
            "color": "#2a3f5f"
           }
          },
          "ternary": {
           "aaxis": {
            "gridcolor": "white",
            "linecolor": "white",
            "ticks": ""
           },
           "baxis": {
            "gridcolor": "white",
            "linecolor": "white",
            "ticks": ""
           },
           "bgcolor": "#E5ECF6",
           "caxis": {
            "gridcolor": "white",
            "linecolor": "white",
            "ticks": ""
           }
          },
          "title": {
           "x": 0.05
          },
          "xaxis": {
           "automargin": true,
           "gridcolor": "white",
           "linecolor": "white",
           "ticks": "",
           "title": {
            "standoff": 15
           },
           "zerolinecolor": "white",
           "zerolinewidth": 2
          },
          "yaxis": {
           "automargin": true,
           "gridcolor": "white",
           "linecolor": "white",
           "ticks": "",
           "title": {
            "standoff": 15
           },
           "zerolinecolor": "white",
           "zerolinewidth": 2
          }
         }
        },
        "width": 800
       }
      },
      "text/html": [
       "<div>                            <div id=\"d324d6bb-2495-4043-ac5a-810305842901\" class=\"plotly-graph-div\" style=\"height:525px; width:800px;\"></div>            <script type=\"text/javascript\">                require([\"plotly\"], function(Plotly) {                    window.PLOTLYENV=window.PLOTLYENV || {};                                    if (document.getElementById(\"d324d6bb-2495-4043-ac5a-810305842901\")) {                    Plotly.newPlot(                        \"d324d6bb-2495-4043-ac5a-810305842901\",                        [{\"customdata\":[[\"Scrypt\"],[\"Scrypt\"],[\"X13\"],[\"X11\"],[\"SHA-512\"],[\"SHA-256\"],[\"SHA-256\"],[\"X15\"],[\"Scrypt\"],[\"Scrypt\"],[\"Scrypt\"],[\"Scrypt\"],[\"Scrypt\"],[\"Scrypt\"],[\"Groestl\"],[\"PoS\"],[\"Scrypt\"],[\"Scrypt\"],[\"X11\"],[\"X11\"],[\"SHA3\"],[\"Scrypt\"],[\"SHA-256\"],[\"Scrypt\"],[\"X13\"],[\"X13\"],[\"NeoScrypt\"],[\"Scrypt\"],[\"Scrypt\"],[\"Scrypt\"],[\"X11\"],[\"X11\"],[\"Multiple\"],[\"PHI1612\"],[\"X11\"],[\"Scrypt\"],[\"Scrypt\"],[\"Scrypt\"],[\"X11\"],[\"Multiple\"],[\"X13\"],[\"Scrypt\"],[\"Shabal256\"],[\"Counterparty\"],[\"SHA-256\"],[\"Groestl\"],[\"Scrypt\"],[\"X13\"],[\"Scrypt\"],[\"Scrypt\"],[\"X13\"],[\"X11\"],[\"Scrypt\"],[\"X11\"],[\"SHA3\"],[\"QUAIT\"],[\"X11\"],[\"Scrypt\"],[\"X13\"],[\"SHA-256\"],[\"X15\"],[\"BLAKE256\"],[\"SHA-256\"],[\"X11\"],[\"SHA-256\"],[\"NIST5\"],[\"Scrypt\"],[\"Scrypt\"],[\"X11\"],[\"Scrypt\"],[\"SHA-256\"],[\"Scrypt\"],[\"PoS\"],[\"X11\"],[\"SHA-256\"],[\"SHA-256\"],[\"NIST5\"],[\"X11\"],[\"POS 3.0\"],[\"Scrypt\"],[\"Scrypt\"],[\"Scrypt\"],[\"X13\"],[\"X11\"],[\"X11\"],[\"Scrypt\"],[\"SHA-256\"],[\"X11\"],[\"Scrypt\"],[\"Scrypt\"],[\"Scrypt\"],[\"Scrypt\"],[\"SHA-256D\"],[\"PoS\"],[\"Scrypt\"],[\"X11\"],[\"PoS\"],[\"X13\"],[\"X14\"],[\"PoS\"],[\"SHA-256D\"],[\"DPoS\"],[\"X11\"],[\"X13\"],[\"X11\"],[\"PoS\"],[\"Scrypt\"],[\"Scrypt\"],[\"PoS\"],[\"X11\"],[\"SHA-256\"],[\"Scrypt\"],[\"X11\"],[\"Scrypt\"],[\"Scrypt\"],[\"X11\"],[\"Scrypt\"],[\"Scrypt\"],[\"Scrypt\"],[\"Scrypt\"],[\"Quark\"],[\"QuBit\"],[\"Scrypt\"],[\"SHA-256\"],[\"X11\"],[\"Scrypt\"],[\"Scrypt\"],[\"Scrypt\"],[\"Scrypt\"],[\"X13\"],[\"Scrypt\"],[\"Scrypt\"],[\"X11\"],[\"Blake2S\"],[\"X11\"],[\"PoS\"],[\"X11\"],[\"PoS\"],[\"X11\"],[\"Scrypt\"],[\"Scrypt\"],[\"Scrypt\"],[\"SHA-256\"],[\"X11\"],[\"Scrypt\"],[\"PoS\"],[\"Scrypt\"],[\"X15\"],[\"SHA-256\"],[\"POS 3.0\"],[\"536\"],[\"NIST5\"],[\"NIST5\"],[\"Skein\"],[\"X13\"],[\"Scrypt\"],[\"X13\"],[\"SkunkHash v2 Raptor\"],[\"Skein\"],[\"X11\"],[\"Scrypt\"],[\"PoS\"],[\"Scrypt\"],[\"Scrypt\"],[\"SHA-512\"],[\"Ouroboros\"],[\"X11\"],[\"NeoScrypt\"],[\"Scrypt\"],[\"Lyra2REv2\"],[\"Scrypt\"],[\"SHA-256\"],[\"NIST5\"],[\"PHI1612\"],[\"Scrypt\"],[\"Quark\"],[\"POS 2.0\"],[\"Scrypt\"],[\"SHA-256\"],[\"X11\"],[\"DPoS\"],[\"NIST5\"],[\"X13\"],[\"Scrypt\"],[\"NIST5\"],[\"Quark\"],[\"Scrypt\"],[\"Scrypt\"],[\"X11\"],[\"Quark\"],[\"Scrypt\"],[\"Scrypt\"],[\"X11\"],[\"POS 3.0\"],[\"Scrypt\"],[\"Scrypt\"],[\"X13\"],[\"C11\"],[\"X11\"],[\"XEVAN\"],[\"Scrypt\"],[\"VBFT\"],[\"NIST5\"],[\"Scrypt\"],[\"Scrypt\"],[\"Scrypt\"],[\"Green Protocol\"],[\"PoS\"],[\"Scrypt\"],[\"Semux BFT consensus\"],[\"Quark\"],[\"PoS\"],[\"X16R\"],[\"Scrypt\"],[\"XEVAN\"],[\"Scrypt\"],[\"Scrypt\"],[\"Scrypt\"],[\"SHA-256D\"],[\"Scrypt\"],[\"X15\"],[\"Scrypt\"],[\"Quark\"],[\"SHA-256\"],[\"DPoS\"],[\"X16R\"],[\"Quark\"],[\"Quark\"],[\"Scrypt\"],[\"Lyra2REv2\"],[\"Quark\"],[\"Scrypt\"],[\"X11\"],[\"X11\"],[\"Scrypt\"],[\"PoS\"],[\"Keccak\"],[\"X11\"],[\"Scrypt\"],[\"SHA-512\"],[\"XEVAN\"],[\"XEVAN\"],[\"X11\"],[\"Quark\"],[\"Equihash\"],[\"Scrypt\"],[\"Quark\"],[\"Quark\"],[\"Scrypt\"],[\"X11\"],[\"Scrypt\"],[\"XEVAN\"],[\"SHA-256D\"],[\"X11\"],[\"X11\"],[\"DPoS\"],[\"Scrypt\"],[\"X11\"],[\"Scrypt\"],[\"Scrypt\"],[\"SHA-256\"],[\"Scrypt\"],[\"X11\"],[\"Scrypt\"],[\"SHA-256\"],[\"X11\"],[\"Scrypt\"],[\"Scrypt\"],[\"X11\"],[\"Scrypt\"],[\"PoS\"],[\"X11\"],[\"SHA-256\"],[\"DPoS\"],[\"Scrypt\"],[\"Scrypt\"],[\"NeoScrypt\"],[\"X13\"],[\"DPoS\"],[\"DPoS\"],[\"SHA-256\"],[\"PoS\"],[\"PoS\"],[\"SHA-256\"],[\"Scrypt\"],[\"Scrypt\"]],\"hovertemplate\":\"<b>%{hovertext}</b><br><br>Class=%{marker.color}<br>PC1=%{x}<br>PC2=%{y}<br>PC3=%{z}<br>Algorithm=%{customdata[0]}<extra></extra>\",\"hovertext\":[\"42 Coin\",\"404Coin\",\"EliteCoin\",\"Dash\",\"Bitshares\",\"BitcoinDark\",\"PayCoin\",\"KoboCoin\",\"Aurora Coin\",\"BlueCoin\",\"EnergyCoin\",\"BitBar\",\"CryptoBullion\",\"CasinoCoin\",\"Diamond\",\"Exclusive Coin\",\"FlutterCoin\",\"HoboNickels\",\"HyperStake\",\"IOCoin\",\"MaxCoin\",\"MintCoin\",\"MazaCoin\",\"Nautilus Coin\",\"NavCoin\",\"OpalCoin\",\"Orbitcoin\",\"PotCoin\",\"PhoenixCoin\",\"Reddcoin\",\"SuperCoin\",\"SyncCoin\",\"TeslaCoin\",\"TittieCoin\",\"TorCoin\",\"UnitaryStatus Dollar\",\"UltraCoin\",\"VeriCoin\",\"X11 Coin\",\"Crypti\",\"StealthCoin\",\"ZCC Coin\",\"BurstCoin\",\"StorjCoin\",\"Neutron\",\"FairCoin\",\"RubyCoin\",\"Kore\",\"Dnotes\",\"8BIT Coin\",\"Sativa Coin\",\"Ucoin\",\"Vtorrent\",\"IslaCoin\",\"Nexus\",\"Droidz\",\"Squall Coin\",\"Diggits\",\"Paycon\",\"Emercoin\",\"EverGreenCoin\",\"Decred\",\"EDRCoin\",\"Hitcoin\",\"DubaiCoin\",\"PWR Coin\",\"BillaryCoin\",\"GPU Coin\",\"EuropeCoin\",\"ZeitCoin\",\"SwingCoin\",\"SafeExchangeCoin\",\"Nebuchadnezzar\",\"Ratecoin\",\"Revenu\",\"Clockcoin\",\"VIP Tokens\",\"BitSend\",\"Let it Ride\",\"PutinCoin\",\"iBankCoin\",\"Frankywillcoin\",\"MudraCoin\",\"Lutetium Coin\",\"GoldBlocks\",\"CarterCoin\",\"BitTokens\",\"MustangCoin\",\"ZoneCoin\",\"RootCoin\",\"BitCurrency\",\"Swiscoin\",\"BuzzCoin\",\"Opair\",\"PesoBit\",\"Halloween Coin\",\"CoffeeCoin\",\"RoyalCoin\",\"GanjaCoin V2\",\"TeamUP\",\"LanaCoin\",\"ARK\",\"InsaneCoin\",\"EmberCoin\",\"XenixCoin\",\"FreeCoin\",\"PLNCoin\",\"AquariusCoin\",\"Creatio\",\"Eternity\",\"Eurocoin\",\"BitcoinFast\",\"Stakenet\",\"BitConnect Coin\",\"MoneyCoin\",\"Enigma\",\"Russiacoin\",\"PandaCoin\",\"GameUnits\",\"GAKHcoin\",\"Allsafe\",\"LiteCreed\",\"Klingon Empire Darsek\",\"Internet of People\",\"KushCoin\",\"Printerium\",\"Impeach\",\"Zilbercoin\",\"FirstCoin\",\"FindCoin\",\"OpenChat\",\"RenosCoin\",\"VirtacoinPlus\",\"TajCoin\",\"Impact\",\"Atmos\",\"HappyCoin\",\"MacronCoin\",\"Condensate\",\"Independent Money System\",\"ArgusCoin\",\"LomoCoin\",\"ProCurrency\",\"GoldReserve\",\"GrowthCoin\",\"Phreak\",\"Degas Coin\",\"HTML5 Coin\",\"Ultimate Secure Cash\",\"QTUM\",\"Espers\",\"Denarius\",\"Virta Unique Coin\",\"Bitcoin Planet\",\"BritCoin\",\"Linda\",\"DeepOnion\",\"Signatum\",\"Cream\",\"Monoeci\",\"Draftcoin\",\"Stakecoin\",\"CoinonatX\",\"Ethereum Dark\",\"Obsidian\",\"Cardano\",\"Regalcoin\",\"TrezarCoin\",\"TerraNovaCoin\",\"Rupee\",\"WomenCoin\",\"Theresa May Coin\",\"NamoCoin\",\"LUXCoin\",\"Xios\",\"Bitcloud 2.0\",\"KekCoin\",\"BlackholeCoin\",\"Infinity Economics\",\"Magnet\",\"Lamden Tau\",\"Electra\",\"Bitcoin Diamond\",\"Cash & Back Coin\",\"Bulwark\",\"Kalkulus\",\"GermanCoin\",\"LiteCoin Ultra\",\"PhantomX\",\"Digiwage\",\"Trollcoin\",\"Litecoin Plus\",\"Monkey Project\",\"TokenPay\",\"My Big Coin\",\"Unified Society USDEX\",\"Tokyo Coin\",\"Stipend\",\"Pushi\",\"Ellerium\",\"Velox\",\"Ontology\",\"Bitspace\",\"Briacoin\",\"Ignition\",\"MedicCoin\",\"Bitcoin Green\",\"Deviant Coin\",\"Abjcoin\",\"Semux\",\"Carebit\",\"Zealium\",\"Proton\",\"iDealCash\",\"Bitcoin Incognito\",\"HollyWoodCoin\",\"Swisscoin\",\"Xt3ch\",\"TheVig\",\"EmaratCoin\",\"Dekado\",\"Lynx\",\"Poseidon Quark\",\"BitcoinWSpectrum\",\"Muse\",\"Trivechain\",\"Dystem\",\"Giant\",\"Peony Coin\",\"Absolute Coin\",\"Vitae\",\"TPCash\",\"ARENON\",\"EUNO\",\"MMOCoin\",\"Ketan\",\"XDNA\",\"PAXEX\",\"ThunderStake\",\"Kcash\",\"Bettex coin\",\"BitMoney\",\"Junson Ming Chan Coin\",\"HerbCoin\",\"PirateCash\",\"Oduwa\",\"Galilel\",\"Crypto Sports\",\"Credit\",\"Dash Platinum\",\"Nasdacoin\",\"Beetle Coin\",\"Titan Coin\",\"Award\",\"Insane Coin\",\"ALAX\",\"LiteDoge\",\"TruckCoin\",\"OrangeCoin\",\"BitstarCoin\",\"NeosCoin\",\"HyperCoin\",\"PinkCoin\",\"AudioCoin\",\"IncaKoin\",\"Piggy Coin\",\"Genstake\",\"XiaoMiCoin\",\"CapriCoin\",\" ClubCoin\",\"Radium\",\"Creditbit \",\"OKCash\",\"Lisk\",\"HiCoin\",\"WhiteCoin\",\"FriendshipCoin\",\"Triangles Coin\",\"EOS\",\"Oxycoin\",\"TigerCash\",\"Particl\",\"Nxt\",\"ZEPHYR\",\"Gapcoin\",\"BitcoinPlus\"],\"legendgroup\":\"0\",\"marker\":{\"color\":[0,0,0,0,0,0,0,0,0,0,0,0,0,0,0,0,0,0,0,0,0,0,0,0,0,0,0,0,0,0,0,0,0,0,0,0,0,0,0,0,0,0,0,0,0,0,0,0,0,0,0,0,0,0,0,0,0,0,0,0,0,0,0,0,0,0,0,0,0,0,0,0,0,0,0,0,0,0,0,0,0,0,0,0,0,0,0,0,0,0,0,0,0,0,0,0,0,0,0,0,0,0,0,0,0,0,0,0,0,0,0,0,0,0,0,0,0,0,0,0,0,0,0,0,0,0,0,0,0,0,0,0,0,0,0,0,0,0,0,0,0,0,0,0,0,0,0,0,0,0,0,0,0,0,0,0,0,0,0,0,0,0,0,0,0,0,0,0,0,0,0,0,0,0,0,0,0,0,0,0,0,0,0,0,0,0,0,0,0,0,0,0,0,0,0,0,0,0,0,0,0,0,0,0,0,0,0,0,0,0,0,0,0,0,0,0,0,0,0,0,0,0,0,0,0,0,0,0,0,0,0,0,0,0,0,0,0,0,0,0,0,0,0,0,0,0,0,0,0,0,0,0,0,0,0,0,0,0,0,0,0,0,0,0,0,0,0,0,0,0,0,0,0,0,0,0,0,0,0,0,0,0,0,0,0,0],\"coloraxis\":\"coloraxis\",\"symbol\":\"circle\"},\"mode\":\"markers\",\"name\":\"0\",\"scene\":\"scene\",\"showlegend\":true,\"type\":\"scatter3d\",\"x\":[-0.33994342366348085,-0.3232151531596164,2.332563036876439,-0.38916971274240764,-0.2473414258518865,-0.2890849836819455,-0.25416826762086986,-0.21605925609025084,-0.33960168295249854,-0.3321485511193143,-0.33843378823321096,-0.33993934565679823,-0.3399235644443374,0.597161156256297,-0.3550227186625874,-0.34431674301788584,-0.3111844689081115,-0.3379948114613398,-0.33399329102960434,-0.38906397412733923,-0.36647134731249204,-0.04387358805618702,-0.25225230715281904,-0.304776902247197,-0.2604112010662717,-0.261035978643915,-0.3042683065220898,-0.33422434668775,-0.3383390791503952,0.019676560708819645,-0.35396199496886016,-0.3894369654463721,-0.25842769457872233,-0.3491758693133122,-0.38934829240020724,-0.31508158425624583,-0.3386158810717661,-0.3432671284490858,-0.3893125983628026,-0.2588968436207088,-0.26081593741158027,-0.33101501911503034,-0.1461330882532222,-0.3867783954492953,-0.28829368364445473,-0.35444187085855255,-0.3047569959439714,-0.2611117390913067,-0.2993915648087155,-0.3399254181753511,-0.26106371673863377,-0.35440878004866033,-0.33965880742385235,-0.3894184180850613,-0.3146335577083334,-0.42880929243545135,-0.4618755725347674,-0.3031524554550275,-0.2605835875878991,-0.28161607753864565,-0.21850909506313734,0.016759285113110648,-0.2890557775612305,-0.06569333311783541,-0.2891196750224856,-0.22653225981247563,-0.33953428994906953,-0.30302159075120094,-0.38657793489849823,0.85262809063322,-0.2889190662422167,-0.13642743821751893,-0.3439988134816598,-0.3872529009090943,-0.28765837591301685,-0.2853185596883778,-0.3483923543692596,-0.38814911374348904,-0.35470196225228523,-0.31574309806000583,-0.3395725570703504,-0.33800540635269594,-0.22488502207658087,-0.34185125702053887,-0.3888904128626267,-0.33877373643880376,-0.2891006031438672,-0.38940758070229087,-0.33976237836631923,-0.33991962746716564,-0.30300997309272915,-0.2757997340059596,0.04662637722082049,-0.34295186897950813,-0.33953219159117576,-0.37552065405487933,-0.3422775594359347,-0.22632050107332088,-0.40385035058661356,-0.34202682498905296,-0.2691327490705963,3.5977202839345055,-0.38899858262849146,0.8757721098752238,-0.3893623088265024,-0.3434174080442332,-0.3394596486826672,-0.3396146298894055,-0.3439988134816598,-0.3889357526821186,-0.28896270399444457,-0.33946035863541396,-0.429016807659355,-0.33960833159938036,-0.33518140523914197,-0.3893914283680295,-0.33881638240990924,0.3409801211123458,-0.3398083519635471,-0.3398791638856523,-0.3685996221812327,-0.3176183594157743,-0.3360929468102355,-0.28907691947669883,-0.3893010309045771,-0.3396561453674078,-0.33978363264166905,-0.30466340742703796,-0.3474655754022111,-0.2260874596752539,-0.3205632432299002,-0.30440336203773316,-0.3885642189740807,-0.41167091825334917,-0.38729743396549654,-0.34223860065142436,-0.3884616826713098,-0.3366169079943529,-0.3843880027149641,-0.3397266813036075,-0.3397259065494178,-0.33282431166226145,0.28030252697294245,-0.38894182301709485,-0.28724402875836047,-0.34403330152695316,-0.33893454938679174,0.9200784078349943,-0.25285425324502664,-0.3534756179105378,0.6211028811582854,-0.34993392447400895,-0.34843054479577734,-0.4154728092075744,-0.2607476154693973,0.12666153148989914,-0.2608186219231326,-0.3947913430146097,-0.414975650907342,-0.38921517229390284,-0.30473771939830446,-0.34389918902783834,-0.33936051293076375,-0.3398620277162112,-0.3056268743462874,0.6656834920325788,-0.38915584720596064,-0.29924897656677435,-0.33981751998116133,-0.30218596866861874,0.43234319490099743,-0.2874167762728531,-0.3346441081226747,-0.41976141184947585,-0.3397676812569485,-0.40188895077230924,-0.3508025183506306,-0.33963751313251633,-0.07998269795225164,-0.3879441281107849,3.602594379510318,0.21171126415106387,-0.2574767302289523,-0.3370883218409634,-0.3148436245419619,-0.36848508113461037,0.07595590232303571,-0.3387731950860531,-0.3885271768259794,-0.3676468923168707,-0.32629154772865737,-0.33988424952204904,-0.35438059888598594,-0.35498499804074934,-0.29636549999929507,-0.33541230671062894,-0.2178534471171994,-0.35387450460594544,-0.3892325693444847,-0.3781737472070089,-0.3038947916401043,-0.3332572903568265,-0.3495314380928685,-0.3399117119299035,-0.33989335786556113,-0.29825498937431816,-0.33175014268965247,-0.3434921104250366,-0.33960882898223976,3.8096880555541652,-0.40055148170500127,-0.343681516389947,-0.29871384185440375,-0.2862860078130059,-0.45076514724676536,-0.30443071186842063,-0.14226557575243348,-0.30468390374265514,-0.3346788412989162,-0.3390809707599067,-0.18299751287749347,2.185191850143935,-0.36417858305241047,-0.2529819868483742,0.9421994266829269,-0.3329008037467357,-0.36859908681250114,-0.40357903687739394,-0.18501060186727078,-0.33696705858956383,-0.3673137463292392,-0.3327641557263124,-0.353956439271882,-0.3887038624179963,-0.3019191378444532,-0.34277827366394104,-0.31856797906379414,-0.3538174788620618,-0.19890712777154693,-0.2345004351329112,-0.343313806966649,0.3480133892302273,-0.14346642474577417,-0.40287100881592264,-0.30501499349984823,-0.339612772729978,-0.4033288281619098,-0.3687165066041599,0.5702526331353598,-0.35443513127069354,-0.33909388581087296,-0.37260876527951603,-0.289237139121686,-0.38626037259540436,-0.3889319331126307,3.6148840059554246,0.09693073076790788,-0.38646128144100134,-0.3384774377009441,-0.33930508535557197,-0.254201075774746,-0.33982527660131184,-0.3805276593211422,-0.2532262986549355,-0.06783558235015114,-0.37626105768039164,-0.3391006976672356,-0.3321384009008423,-0.3854873104344318,-0.3375341973131645,-0.3442755243001529,-0.39250697328178374,-0.2875943507619309,3.598113534130875,-0.1112228119053948,-0.3347181275437135,-0.30389291165034416,-0.26121932432060285,3.608023050556457,3.6092723149366557,-0.2350241478099853,-0.3442111245243572,-0.2678033856905314,2.4380122478710526,-0.3379820175141588,-0.30508178638737793],\"y\":[1.0287465345485958,1.0290103028507,1.5513765176190282,1.1456278159274744,1.5294238940668612,0.8305229160366738,0.6674289544743078,1.7993975999452265,1.0287471545680278,1.029069784797533,1.0288091385538845,1.0287462996109127,1.0287465499665007,0.8081005511071239,0.8769974066462103,1.592530363245817,0.3457605275331727,1.0287303623633708,0.9833841182957307,1.1456322008651203,2.0134334373977407,0.8764748097589655,0.8301130075285014,0.8656421785460275,1.6977409644417707,1.6977150551680578,0.5671030187799321,1.0286442710644228,1.0287338654577134,1.043659830034874,0.9825560242114543,1.1456345119939646,0.07986539051536726,1.5264816714033698,1.1456301083392078,1.028484473285919,1.0287207702542078,0.5180084067393232,1.1456352253207625,0.079926752077384,1.6977241801890586,1.0283086220794195,1.7067290221616875,1.3958906323821287,0.8305185551172273,0.8770250339538255,0.8656560802402672,1.697702215374927,0.8654744975854449,1.028747281262857,1.6977058231821542,0.9825213328180655,1.0287421741063543,1.1456352819537134,2.284903666999876,1.8472594956109067,0.6245915461228962,0.8656418029028163,1.697693407150752,0.8300422584606953,1.799557612303913,0.9450259309915173,0.8305241272026999,1.137603121381868,0.8305307713538705,1.5086232332412601,1.028729558059413,0.8655493987239018,1.1454427384281822,0.8336435587529206,0.8305152495088809,0.8082701902855867,1.592527384258583,1.1456644723386271,0.8304198569948532,0.8302725986922467,1.5034970090709998,1.145575583885218,1.7097953401071926,1.028133772642816,1.028726085408015,1.0287460863941533,1.534502965480932,0.9825272840411428,1.1456167696253376,1.0287223057542392,0.8305230764737315,1.1456333068661013,1.0287370708913843,1.0287475214011856,0.865728528572047,0.17324387853236226,1.8249764831173945,1.592527159453137,1.0287635882104251,1.1449993618643275,1.5925826006541945,1.534603050188598,1.9397777886968985,1.5923820661017272,1.8219793536135778,1.8365553570856186,1.1456284472654985,1.7441710829295447,1.1456344946395405,1.5925272498121934,1.0287354496701921,1.028726226394547,1.592527384258583,1.1456068077030188,0.8305296032655741,1.02873989748961,0.192563281607279,1.0287378019597428,1.0284181699144197,1.1456323603572123,1.0286768960721013,0.8661569626451605,1.028741629743541,1.0287465196889223,1.5344611114251134,0.5697042021453984,1.0285021273857387,0.8305240586258399,1.1456325903320477,1.0287422845007597,1.0287354351935991,0.8656155119774722,0.48495256563773687,1.5346029962992247,1.0287420530024778,0.8656429228989736,1.1455898882624838,2.0079325051471995,1.1456343396266397,1.592527409895055,1.1455941404015317,1.5925264043602918,1.1454398063304685,1.0287383798043588,1.0287324412721692,1.0282335914485061,0.6289906070776244,1.1456227193653263,0.8647659962488913,1.5925178723549545,1.028703514358775,1.774060344357642,0.6673318462280997,1.7097924528177064,2.0894316839111373,1.5034977343681941,1.503471180234473,1.902783035760375,1.697702768377426,1.007687961930199,1.697708795918328,1.568216103966747,1.9028036527142158,1.1456360269849442,0.8656428127146568,1.5924978958076905,1.0287317118443573,1.0287465157262896,1.5298428347370163,1.791649695981339,1.1456243500765082,0.5669909472325179,1.0287390405522827,0.6324352606382927,1.0405687028138904,0.8305290586769899,1.5031700747741532,1.6899144391811765,1.0287368509826524,1.6974807262827611,1.6749329143449836,1.0287472691301307,0.6673889333029642,1.1455800437074226,1.8364544201727064,1.5025519201433848,1.6976929400969694,1.0286952188367617,1.340388976010877,1.5344618205468765,1.0055852199755722,1.0286738380139788,1.1456318328770165,1.5344157629152555,1.0285853195125922,1.0287457558309465,0.9825216933096634,1.7097904721709765,0.44458486183473594,1.028746942770734,1.5343096601540795,0.7392570539580658,1.145622784780087,1.2088289036706774,0.865591622445176,1.7543500574747097,1.5034820985225072,1.0287454251458212,1.028744569941789,0.8655216309094915,1.6224140916944114,1.5924934414810148,1.0287361649938114,2.0375950041984403,1.6975361905845965,1.592492052250836,0.7139489846737971,1.026832279479571,0.6878111193529429,0.8656485986934086,1.028700822776457,0.8656235518717009,1.825246489430212,1.0287144138900708,1.6364291599513168,0.47072721394993977,1.5341312622879872,0.6674072222921416,1.658191031914374,0.8770505424597687,1.5344562846076446,1.6975681101785025,0.8569800080507735,0.7955194913350785,1.5344457417414061,1.028236086090865,0.9825118052631845,1.1456245057969032,0.8655636409126467,1.5924244472835347,1.0366653210042407,0.9824812002527791,1.020048195807203,1.5588669007778369,1.0457329917228797,0.33490166007097166,0.9912851904607213,1.6975579935280025,0.06260063009200066,1.0287432749766774,1.6975672647955269,1.5344575815921473,1.0060408938463596,0.9825204824944845,1.0287138783081258,1.2087040864965248,1.8231709062809174,1.1454268134946204,1.1456312111939924,1.836559981099757,1.0185775851217271,1.1457579132155522,1.0286456944616253,1.0287291580556606,0.6674207244898469,1.0287514340934714,1.1455998932112914,1.023856875480165,0.839562266785246,1.1453727425412994,1.0287693595416258,1.028746937790055,1.145630204074547,1.0287171370526966,1.592524799040896,0.4622091848569131,0.8305176538855127,1.8365434450149005,0.8655930256403964,1.0287207745517126,0.5670730069742013,1.697707354916545,1.83708362988378,1.8371354363728778,0.6674247856785044,1.5925277653505947,1.6460606861098865,0.8457937113780767,1.028625830844986,0.8656418031419738],\"z\":[-0.4913481588707406,-0.49179857262487847,-0.6686837502968822,-0.5172461786947667,0.06041397697630297,-0.4169934989418261,-0.10232099622991736,-0.6367989649579903,-0.4913566551867261,-0.4915876644607479,-0.49139454399813304,-0.49134822442131404,-0.49134864956006646,-0.33165317362238467,-0.4348882406129827,-0.08836587920320409,-0.22273597303946144,-0.4913936907085483,-0.2031976704458324,-0.5172494276239458,-0.5382192560237321,-0.18469872265756615,-0.4178387297858028,-0.17668026265378448,-0.6265573716193219,-0.6265381746769252,-0.37476035801376517,-0.49147368889806353,-0.49138574196480395,-0.502397857795469,-0.20258411120014477,-0.517240596197215,0.14416548403445498,-0.18631878367110968,-0.5172421257794659,-0.4919208473626926,-0.4913769979153984,-0.153922542639169,-0.5172437603150458,0.14416794803741254,-0.626544935673179,-0.49150298250886915,-0.44673845077952634,-0.038599170557720865,-0.41701231495879676,-0.43490661122505025,-0.17668280798213637,-0.6265344127273466,-0.17678791099496732,-0.4913487121131528,-0.626536127286004,-0.20256799304471146,-0.4913545137883435,-0.5172411662037375,-0.2757493953759451,-0.5814336483213448,-0.09303504107350813,-0.1767201580709344,-0.6265460993185137,-0.4171061072048229,-0.6367623770203966,-0.5033276853328595,-0.4169943963303319,-0.524014942407234,-0.41699380738962316,-0.5523207901689288,-0.49135571047766735,-0.1767097119158536,-0.5172825508235256,-0.20041309179231417,-0.41699644573184935,-0.31363668776250747,-0.08837325770155427,-0.5172987406586665,-0.4170133441264624,-0.417049112260568,-0.5485657557444698,-0.5172635548871558,0.01590388472753553,-0.49185271729968894,-0.4913542558217358,-0.4913957553875547,-0.3118785577567805,-0.20287770758472368,-0.5172514141694164,-0.49137334275372735,-0.41699313852847975,-0.5172411406609077,-0.49135121195226034,-0.491348890038699,-0.17673648708049303,-0.15965474657792866,-0.7142544799873402,-0.08839897257397299,-0.4913607944098861,-0.517488923135223,-0.08842375482060011,-0.3118580545569356,-0.7457910415956766,-0.0884002665396282,-0.7060456208962637,0.041270427386641995,-0.5172504807586824,-0.6613662040378352,-0.517242429704632,-0.08838753666259581,-0.49135841741611963,-0.49135324194924707,-0.08837325770155427,-0.5172488259471523,-0.41699749513450834,-0.4913590576924916,-0.31753271690142304,-0.4913551086234355,-0.4914167159110973,-0.517241397936408,-0.4913655788229698,-0.1926378669523834,-0.4913507554527935,-0.4913497370514814,-0.15823348092936093,-0.3774548692190973,-0.49140671333895297,-0.4169938662338434,-0.5172436551422329,-0.4913545955828028,-0.4913504473490218,-0.17667911048714185,-0.08761301981846188,-0.31186377791077763,-0.4918241242188008,-0.1766895594196167,-0.5172554612714753,-0.7313173752862099,-0.517293189452429,-0.0884165514326221,-0.5172586118062705,-0.08855466029953384,-0.5173359755079339,-0.49135228343095355,-0.4913514243039826,-0.49144739010918786,-0.10978134462964872,-0.5172510296478698,-0.17698189034717937,-0.08837100291136525,-0.491366608944689,-0.6609938265131708,-0.10233895233406681,0.01587415149432689,-0.6874706449764604,-0.5485279502682836,-0.5485609969766694,-0.7208926426648722,-0.6265434496089457,-0.4997095373331161,-0.6265425946492685,-0.03194718815026187,-0.7209079183719289,-0.5172462749199966,-0.17668132008029863,-0.08837134711731529,-0.4913603027755411,-0.49135015790529524,0.0617854726817508,-0.03850322065372884,-0.5172460071733059,-0.37486722835358605,-0.4913501470927959,-0.0872977945161461,-0.5120896977213146,-0.41703543450301467,-0.5488555278389015,-0.5001641642846719,-0.4913510490154173,-0.4729350126540958,-0.01672414047815834,-0.49135579093549353,-0.10659892519118176,-0.5172692557298939,0.04116548230803576,-0.5622009521745998,-0.6266224390050268,-0.4914107875657436,-0.23385752847853514,-0.15823640276790438,-0.4981515540169046,-0.4913661887330908,-0.5172625749753118,-0.15825020590269168,-0.49166006718182287,-0.491349499019326,-0.20256873942940862,0.01591156545450983,-0.09136628071821326,-0.49145965563795374,-0.3120229036851041,-0.4687253580001713,-0.5172438888274269,-0.30625306533865054,-0.17669448075606486,-0.02740421210825326,-0.5485355366457556,-0.4913487747191198,-0.49134909964507184,-0.17682283346005662,-0.08632612858968083,-0.08838069993970168,-0.4913548543190201,0.027719796433435237,-0.47297610778548554,-0.08837583633121146,-0.07742282584467965,-0.49238470989240907,0.11795252370201205,-0.17668972611699066,-0.4962030056048724,-0.17667979533642583,-0.7049167466394939,-0.4913646197243498,-0.3220994037530822,-0.2490189874510781,-0.1582934325411814,-0.10234695740284469,0.006743252378234322,-0.3921143991439542,-0.1582327803136972,-0.4729063695768332,-0.17834479670808134,-0.40197219377541493,-0.15826283237855093,-0.4914492384630317,-0.20257770880498402,-0.5172571461263042,-0.17673893129553458,-0.08838805298801646,-0.3934877011212001,-0.2025766005177423,-0.4935304498165319,0.31694985261287817,0.008421122114085265,0.28409172030014923,-0.20905180703456133,-0.4729222864889642,0.13048405497287152,-0.49135580874139895,-0.4729123980916681,-0.15823008433639013,-0.5103754659407612,-0.20256721922921495,-0.4913642228959447,-0.3063714704118669,-0.7057273868797779,-0.5172880058637848,-0.5172525286345383,0.04084762617591227,-0.500588691052977,-0.5173320273099085,-0.4913693006418518,-0.4913612882878797,-0.10231897232250003,-0.49135178906741167,-0.5174545885830746,-0.4927577684470409,-0.42377153961586794,-0.5175259289141694,-0.49137225984696087,-0.49154017197502975,-0.5173370953163232,-0.4914030631222604,-0.0883660700931366,-0.35811110180727135,-0.4170293807871961,0.04126251749396357,-0.18143318254519483,-0.49147285827503173,-0.374765152219229,-0.6265325268485643,0.04093892527861013,0.04090054032818385,-0.10279120225054078,-0.08836809256764393,-0.13879028679715652,-0.06869547740579235,-0.4913785473983407,-0.1766727089462676]},{\"customdata\":[[\"SHA-256\"],[\"Ethash\"],[\"Scrypt\"],[\"CryptoNight-V7\"],[\"Ethash\"],[\"Equihash\"],[\"Multiple\"],[\"Scrypt\"],[\"X11\"],[\"Scrypt\"],[\"Multiple\"],[\"Scrypt\"],[\"SHA-256\"],[\"Scrypt\"],[\"Scrypt\"],[\"Quark\"],[\"Groestl\"],[\"Scrypt\"],[\"Scrypt\"],[\"Scrypt\"],[\"X11\"],[\"Multiple\"],[\"SHA-256\"],[\"Scrypt\"],[\"Scrypt\"],[\"Scrypt\"],[\"Scrypt\"],[\"Scrypt\"],[\"NeoScrypt\"],[\"Scrypt\"],[\"Scrypt\"],[\"Scrypt\"],[\"Scrypt\"],[\"SHA-256\"],[\"Scrypt\"],[\"Scrypt\"],[\"Scrypt\"],[\"Scrypt\"],[\"HybridScryptHash256\"],[\"Scrypt\"],[\"Scrypt\"],[\"SHA-256\"],[\"Scrypt\"],[\"Scrypt\"],[\"Scrypt\"],[\"Scrypt\"],[\"SHA-256\"],[\"SHA-256\"],[\"SHA-256\"],[\"SHA-256\"],[\"SHA-256\"],[\"X11\"],[\"Scrypt\"],[\"Lyra2REv2\"],[\"Scrypt\"],[\"SHA-256\"],[\"CryptoNight\"],[\"CryptoNight\"],[\"Scrypt\"],[\"Scrypt\"],[\"Scrypt\"],[\"Scrypt\"],[\"Scrypt\"],[\"Scrypt\"],[\"Stanford Folding\"],[\"Multiple\"],[\"QuBit\"],[\"Scrypt\"],[\"Scrypt\"],[\"M7 POW\"],[\"Scrypt\"],[\"SHA-256\"],[\"Scrypt\"],[\"X11\"],[\"Lyra2RE\"],[\"SHA-256\"],[\"X11\"],[\"Scrypt\"],[\"Scrypt\"],[\"Ethash\"],[\"Blake2b\"],[\"X11\"],[\"SHA-256\"],[\"Scrypt\"],[\"1GB AES Pattern Search\"],[\"Scrypt\"],[\"SHA-256\"],[\"X11\"],[\"Dagger\"],[\"Scrypt\"],[\"X11GOST\"],[\"Scrypt\"],[\"X11\"],[\"Scrypt\"],[\"X11\"],[\"Equihash\"],[\"CryptoNight\"],[\"SHA-256\"],[\"Multiple\"],[\"Scrypt\"],[\"SHA-256\"],[\"Scrypt\"],[\"Lyra2Z\"],[\"Ethash\"],[\"Equihash\"],[\"Scrypt\"],[\"X11\"],[\"X11\"],[\"CryptoNight\"],[\"Scrypt\"],[\"CryptoNight\"],[\"Lyra2RE\"],[\"X11\"],[\"CryptoNight-V7\"],[\"Scrypt\"],[\"X11\"],[\"Equihash\"],[\"Scrypt\"],[\"Lyra2RE\"],[\"Dagger-Hashimoto\"],[\"Scrypt\"],[\"NIST5\"],[\"Scrypt\"],[\"SHA-256\"],[\"Scrypt\"],[\"CryptoNight-V7\"],[\"Argon2d\"],[\"Blake2b\"],[\"Cloverhash\"],[\"CryptoNight\"],[\"X11\"],[\"Scrypt\"],[\"Scrypt\"],[\"X11\"],[\"X11\"],[\"CryptoNight\"],[\"Time Travel\"],[\"Scrypt\"],[\"Keccak\"],[\"X11\"],[\"SHA-256\"],[\"VeChainThor Authority\"],[\"Scrypt\"],[\"Scrypt\"],[\"Scrypt\"],[\"Scrypt\"],[\"Scrypt\"],[\"Scrypt\"],[\"CryptoNight\"],[\"Equihash\"],[\"X11\"],[\"NeoScrypt\"],[\"Equihash\"],[\"Dagger\"],[\"Scrypt\"],[\"X11\"],[\"NeoScrypt\"],[\"Ethash\"],[\"NeoScrypt\"],[\"Multiple\"],[\"CryptoNight\"],[\"CryptoNight\"],[\"Ethash\"],[\"X11\"],[\"CryptoNight-V7\"],[\"Scrypt\"],[\"BLAKE256\"],[\"X11\"],[\"NeoScrypt\"],[\"NeoScrypt\"],[\"Scrypt\"],[\"X11\"],[\"SHA-256\"],[\"C11\"],[\"Ethash\"],[\"CryptoNight\"],[\"SkunkHash\"],[\"CryptoNight\"],[\"Scrypt\"],[\"Dagger\"],[\"Lyra2REv2\"],[\"Scrypt\"],[\"Scrypt\"],[\"X11\"],[\"Ethash\"],[\"CryptoNight\"],[\"Scrypt\"],[\"IMesh\"],[\"Equihash\"],[\"Lyra2Z\"],[\"X11\"],[\"CryptoNight\"],[\"NIST5\"],[\"Lyra2RE\"],[\"Tribus\"],[\"Lyra2Z\"],[\"CryptoNight\"],[\"CryptoNight Heavy\"],[\"CryptoNight\"],[\"Jump Consistent Hash\"],[\"CryptoNight\"],[\"X16R\"],[\"HMQ1725\"],[\"X11\"],[\"Scrypt\"],[\"CryptoNight-V7\"],[\"Cryptonight-GPU\"],[\"XEVAN\"],[\"CryptoNight Heavy\"],[\"SHA-256\"],[\"X11\"],[\"X16R\"],[\"Equihash\"],[\"Lyra2Z\"],[\"SHA-256\"],[\"CryptoNight\"],[\"Blake\"],[\"Blake\"],[\"Exosis\"],[\"Scrypt\"],[\"Equihash\"],[\"Equihash\"],[\"QuBit\"],[\"SHA-256\"],[\"X13\"],[\"SHA-256\"],[\"Scrypt\"],[\"NeoScrypt\"],[\"Blake\"],[\"Scrypt\"],[\"SHA-256\"],[\"Scrypt\"],[\"Groestl\"],[\"Scrypt\"],[\"Scrypt\"],[\"Multiple\"],[\"Equihash+Scrypt\"],[\"Ethash\"],[\"CryptoNight\"],[\"Equihash\"]],\"hovertemplate\":\"<b>%{hovertext}</b><br><br>Class=%{marker.color}<br>PC1=%{x}<br>PC2=%{y}<br>PC3=%{z}<br>Algorithm=%{customdata[0]}<extra></extra>\",\"hovertext\":[\"Bitcoin\",\"Ethereum\",\"Litecoin\",\"Monero\",\"Ethereum Classic\",\"ZCash\",\"DigiByte\",\"ProsperCoin\",\"Spreadcoin\",\"Argentum\",\"MyriadCoin\",\"MoonCoin\",\"ZetaCoin\",\"SexCoin\",\"Quatloo\",\"QuarkCoin\",\"Riecoin\",\"Digitalcoin \",\"Catcoin\",\"CannaCoin\",\"CryptCoin\",\"Verge\",\"DevCoin\",\"EarthCoin\",\"E-Gulden\",\"Einsteinium\",\"Emerald\",\"Franko\",\"FeatherCoin\",\"GrandCoin\",\"GlobalCoin\",\"GoldCoin\",\"Infinite Coin\",\"IXcoin\",\"KrugerCoin\",\"LuckyCoin\",\"Litebar \",\"MegaCoin\",\"MediterraneanCoin\",\"MinCoin\",\"NobleCoin\",\"Namecoin\",\"NyanCoin\",\"RonPaulCoin\",\"StableCoin\",\"SmartCoin\",\"SysCoin\",\"TigerCoin\",\"TerraCoin\",\"UnbreakableCoin\",\"Unobtanium\",\"UroCoin\",\"ViaCoin\",\"Vertcoin\",\"WorldCoin\",\"JouleCoin\",\"ByteCoin\",\"DigitalNote \",\"MonaCoin\",\"Gulden\",\"PesetaCoin\",\"Wild Beast Coin\",\"Flo\",\"ArtByte\",\"Folding Coin\",\"Unitus\",\"CypherPunkCoin\",\"OmniCron\",\"GreenCoin\",\"Cryptonite\",\"MasterCoin\",\"SoonCoin\",\"1Credit\",\"MarsCoin \",\"Crypto\",\"Anarchists Prime\",\"BowsCoin\",\"Song Coin\",\"BitZeny\",\"Expanse\",\"Siacoin\",\"MindCoin\",\"I0coin\",\"Revolution VR\",\"HOdlcoin\",\"Gamecredits\",\"CarpeDiemCoin\",\"Adzcoin\",\"SoilCoin\",\"YoCoin\",\"SibCoin\",\"Francs\",\"BolivarCoin\",\"Omni\",\"PizzaCoin\",\"Komodo\",\"Karbo\",\"ZayedCoin\",\"Circuits of Value\",\"DopeCoin\",\"DollarCoin\",\"Shilling\",\"ZCoin\",\"Elementrem\",\"ZClassic\",\"KiloCoin\",\"ArtexCoin\",\"Kurrent\",\"Cannabis Industry Coin\",\"OsmiumCoin\",\"Bikercoins\",\"HexxCoin\",\"PacCoin\",\"Citadel\",\"BeaverCoin\",\"VaultCoin\",\"Zero\",\"Canada eCoin\",\"Zoin\",\"DubaiCoin\",\"EB3coin\",\"Coinonat\",\"BenjiRolls\",\"ILCoin\",\"EquiTrader\",\"Quantum Resistant Ledger\",\"Dynamic\",\"Nano\",\"ChanCoin\",\"Dinastycoin\",\"DigitalPrice\",\"Unify\",\"SocialCoin\",\"ArcticCoin\",\"DAS\",\"LeviarCoin\",\"Bitcore\",\"gCn Coin\",\"SmartCash\",\"Onix\",\"Bitcoin Cash\",\"Vechain\",\"Sojourn Coin\",\"NewYorkCoin\",\"FrazCoin\",\"Kronecoin\",\"AdCoin\",\"Linx\",\"Sumokoin\",\"BitcoinZ\",\"Elements\",\"VIVO Coin\",\"Bitcoin Gold\",\"Pirl\",\"eBoost\",\"Pura\",\"Innova\",\"Ellaism\",\"GoByte\",\"SHIELD\",\"UltraNote\",\"BitCoal\",\"DaxxCoin\",\"AC3\",\"Lethean\",\"PopularCoin\",\"Photon\",\"Sucre\",\"SparksPay\",\"GunCoin\",\"IrishCoin\",\"Pioneer Coin\",\"UnitedBitcoin\",\"Interzone\",\"1717 Masonic Commemorative Token\",\"TurtleCoin\",\"MUNcoin\",\"Niobio Cash\",\"ShareChain\",\"Travelflex\",\"KREDS\",\"BitFlip\",\"LottoCoin\",\"Crypto Improvement Fund\",\"Callisto Network\",\"BitTube\",\"Poseidon\",\"Aidos Kuneen\",\"Bitrolium\",\"Alpenschillling\",\"FuturoCoin\",\"Monero Classic\",\"Jumpcoin\",\"Infinex\",\"KEYCO\",\"GINcoin\",\"PlatinCoin\",\"Loki\",\"Newton Coin\",\"MassGrid\",\"PluraCoin\",\"Motion\",\"PlusOneCoin\",\"Axe\",\"HexCoin\",\"Webchain\",\"Ryo\",\"Urals Coin\",\"Qwertycoin\",\"Project Pai\",\"Azart\",\"Xchange\",\"CrypticCoin\",\"Actinium\",\"Bitcoin SV\",\"FREDEnergy\",\"Universal Molecule\",\"Lithium\",\"Exosis\",\"Block-Logic\",\"Beam\",\"Bithereum\",\"SLICE\",\"BLAST\",\"Bitcoin Rhodium\",\"GlobalToken\",\"SolarCoin\",\"UFO Coin\",\"BlakeCoin\",\"Crypto Escudo\",\"Crown Coin\",\"SmileyCoin\",\"Groestlcoin\",\"Bata\",\"Pakcoin\",\"JoinCoin\",\"Vollar\",\"Reality Clash\",\"Beldex\",\"Horizen\"],\"legendgroup\":\"1\",\"marker\":{\"color\":[1,1,1,1,1,1,1,1,1,1,1,1,1,1,1,1,1,1,1,1,1,1,1,1,1,1,1,1,1,1,1,1,1,1,1,1,1,1,1,1,1,1,1,1,1,1,1,1,1,1,1,1,1,1,1,1,1,1,1,1,1,1,1,1,1,1,1,1,1,1,1,1,1,1,1,1,1,1,1,1,1,1,1,1,1,1,1,1,1,1,1,1,1,1,1,1,1,1,1,1,1,1,1,1,1,1,1,1,1,1,1,1,1,1,1,1,1,1,1,1,1,1,1,1,1,1,1,1,1,1,1,1,1,1,1,1,1,1,1,1,1,1,1,1,1,1,1,1,1,1,1,1,1,1,1,1,1,1,1,1,1,1,1,1,1,1,1,1,1,1,1,1,1,1,1,1,1,1,1,1,1,1,1,1,1,1,1,1,1,1,1,1,1,1,1,1,1,1,1,1,1,1,1,1,1,1,1,1,1,1,1,1,1,1,1,1,1,1,1,1,1,1,1,1,1,1,1,1,1,1,1,1,1,1,1,1,1,1,1,1],\"coloraxis\":\"coloraxis\",\"symbol\":\"diamond\"},\"mode\":\"markers\",\"name\":\"1\",\"scene\":\"scene\",\"showlegend\":true,\"type\":\"scatter3d\",\"x\":[-0.12384141759044641,-0.17433073613738295,-0.17352604556622073,-0.12789189833095926,-0.17276738823876303,-0.17549360351844254,0.1593650169391916,-0.1746767173661442,-0.2241113778503494,-0.1742918893253946,-0.09499382680126274,2.556487168368099,-0.12091502230736371,-0.17153686145172153,-0.174095293477146,-0.23370077183947735,-0.1888425240483242,-0.17414399530235708,-0.17465890972345333,-0.17474568296653786,-0.22420108080900092,0.18323620070755567,0.25546455996441997,0.07494700103386921,-0.17449096532217448,-0.1700794876576892,-0.17443006460228008,-0.17480291272333626,-0.13433830994263904,-0.15394633446191072,-0.17359332187871324,-0.17387193373993673,1.5808954714958126,-0.12380262656313566,-0.17115107940281704,-0.1745175115080216,-0.17487370121808768,-0.17413008753491502,-0.1144232141471198,-0.1747545198076578,-0.03917714934402475,-0.12388055947201419,-0.16839383129172397,-0.17473393346813668,-0.17282155362376436,-0.174218702873807,-0.11098381772446007,-0.12334223655886836,-0.12363060816811382,-0.12361372156811032,-0.12420646356121547,-0.22437560315851324,-0.17444925576039963,-0.17123222172973102,-0.17154167581055257,-0.12340980031331636,3.866352897439508,0.4521091468147945,-0.173312576724564,-0.15785575932745088,-0.17202639394442137,-0.17487592640431324,-0.17189083926993307,-0.15806165717490253,-0.12633411574705972,-0.12913118316737282,-0.15342526471024098,-0.17474848072998797,-0.047211078727583886,-0.10070530715700117,-0.17488484535788415,-0.12390845239065364,0.479498318876796,-0.22376041659196969,-0.11541144224912672,-0.12364740578717348,-0.22404643601106514,-0.17300193308943768,-0.172191027802107,-0.175402717706814,0.380912387855556,-0.22408195358640437,-0.12380375357716429,-0.17082701289181748,-0.12596619023532207,-0.1734426671518893,0.29630520154133216,-0.22323954576191038,-0.12433794462069495,-0.17369156404141584,-0.12467938959564309,-0.1746739859444714,-0.22404509160525257,-0.17488490407983337,-0.22419568580762153,-0.38901026632040614,0.2964219382500386,-0.12406486001918317,-0.10912716410768197,-0.17204089109245632,-0.12402332253851012,-0.1745470601045283,-0.13734665825456746,-0.17514385215737419,-0.1755153104091105,-0.10135903194307488,-0.2107257493916104,-0.22201587965455727,0.29641622076110474,-0.1748665770963386,0.2965474588645686,-0.11595383884098716,0.4934947755331493,-0.12665244422801125,-0.1748347358443714,-0.21690468870195384,-0.17552771555114766,-0.1729607537708743,-0.11567110657587135,-0.16408532358749314,-0.14565865487768573,-0.18454225311558836,-0.17439546408224482,-0.09026318358464565,-0.17421698201119018,-0.12650916664555217,-0.19817634176939997,-0.021056097455279334,-0.18842985268426013,0.33267790653955986,-0.22324805864721198,-0.17453729190951153,-0.17429998337275207,-0.22364416777615256,-0.22422380269457964,0.2968126756713973,-0.10982472571704982,3.2479288154853956,-0.09312626654083989,-0.21506370293831592,-0.12384057833415048,4.525962410357172,-0.10020461698682014,1.5793948588880122,-0.17463554992576513,-0.17408525202963054,-0.17378506898670604,-0.1737719455960801,0.2969968643078627,0.03757019469682803,-0.17843057433181003,-0.13904490167595882,-0.1753731481221553,-0.1230925504809743,-0.17295895548274767,-0.2197514624074348,-0.13888976622535196,-0.17350360114171476,-0.13899031805488143,-0.1193258887309924,1.1373920811507927,0.29639896374460156,-0.09813204340836919,-0.21949301976858135,-0.11558071122075411,-0.0907022972691791,1.1908135450069681,-0.2241976979914904,-0.13904241846327994,-0.1320538852149179,-0.1738836705287503,-0.22412281233347894,-0.12381988569651835,-0.18879374109754254,-0.30581398510605873,8.061111157855892,-0.22643193689505278,0.3002877867522501,0.018904961521704264,-0.12259340352887414,-0.15673561874186528,-0.17445965296197435,0.13379581561481516,-0.21824189304645258,-0.12637984337382904,0.3043498065820379,-0.17469754827555117,-0.08847223211672743,-0.17436030492704352,-0.1351224324231801,-0.22328900060344786,0.2965822100194441,-0.1846018174375697,-0.11579852021014966,-0.15931974629209447,-0.137431327786477,0.30052367443343253,0.5811494416590615,2.1116112444229906,-0.12188134134620263,0.3102385158436516,-0.16863761997423007,-0.1718564492245571,-0.22417979039437905,-0.17472223818551633,-0.11546406915167974,-0.11295030634399224,-0.2118844760977817,3.1132169288500005,-0.08351232581169998,-0.2241510581636658,-0.1680633764097785,-0.06972193504341828,-0.13682696593124935,-0.12384061605579649,0.37663126048376805,-0.14147461277858878,-0.14186784339844472,-0.08634149667018627,-0.17361044869383896,-0.17342646856918792,-0.17520532425701266,-0.15263348774336255,-0.12311397670283576,-0.09614603783271736,-0.12197775993120506,0.5235680379745893,-0.06391795626772097,-0.09216431329673795,-0.1582128694541271,-0.12362997600134348,0.5436648837324098,-0.18840181011345294,-0.17479930533347884,-0.17274745544337106,-0.12986913922259843,-0.10207566854576698,-0.17517713945860858,0.3182391920259659,-0.17549466486142856],\"y\":[-1.2925233546699442,-2.204828817994765,-1.094319753050216,-2.242346092860388,-2.2049337022538538,-1.8973103254455643,-1.8850497055520827,-1.0943165562454122,-0.9774253280723187,-1.0943353488848377,-1.8802426372172405,-1.2913765374469313,-1.2925222503453409,-1.0943714185808637,-1.0943562902484067,-0.4254822246710187,-1.2460751771058927,-1.0943164192183312,-1.0943158177696648,-1.0943130640061138,-0.9774274316781063,-1.8804674623012734,-1.2937482839469137,-1.0948580826705938,-1.0943088531831993,-1.0943512226408911,-1.0943152175231072,-1.0943138983945166,-1.5560182139810792,-1.0945879979092958,-1.0943112285940646,-1.0943245974223725,-1.0947169021322478,-1.2925217460217227,-1.0943678829805163,-1.0943091458729686,-1.0943088445489582,-1.0943108592936484,-2.260134288424558,-1.0943108928130711,-1.1008030198249619,-1.2925249778679662,-1.0943113891654415,-1.094318928974045,-1.094424694246176,-1.094321969298406,-1.2926908384430897,-1.2925236759220777,-1.2925315840548621,-1.2925615942280115,-1.292521723454847,-0.9774201219924449,-1.0943087398441897,-1.3275326720908283,-1.0943840808557304,-1.2925248517518353,-2.37865377015731,-2.3792417566886948,-1.094327969130465,-1.0949597516636849,-1.0943241449831855,-1.0943099696675775,-1.0943133626130543,-1.094418734678235,-1.913688640583269,-1.8800419599283213,-1.5533227271246408,-1.0943052852894946,-1.0970953344687844,-2.0355712530821353,-1.0943087163060903,-1.2925261345760324,-1.1415228348120354,-0.9774212800585554,-2.1721477970779928,-1.2925417847225664,-0.9774234431303152,-1.0944000416772037,-1.0943985465951074,-2.2048869358773615,-2.0361794302496072,-0.9774208751806521,-1.2925217927585397,-1.0943096546545956,-2.203274037091052,-1.0943162953810661,-1.292560779644427,-0.9774408964171335,-2.121336061753718,-1.0943947872104898,-1.9447488474838026,-1.0943156348046266,-0.9774266200576784,-1.0943087162925114,-0.9774328651384051,-0.8046752083762964,-2.3776244256994636,-1.2925235175122018,-1.88018220513908,-1.0943519119948018,-1.2925225241796843,-1.0943184529396504,-2.1413163998282934,-2.2048837161136494,-1.8973112256215499,-1.0993408282108839,-0.9772581529879414,-0.9775065279339243,-2.3776335526695753,-1.0943096516892954,-2.377631342957779,-2.172125202977107,-1.0284673106681814,-2.242444204618507,-1.0943088530920166,-0.9779184760207962,-1.8973085073784486,-1.0943092413451834,-2.1721223680532713,-2.2723566844736545,-1.0963288966812623,-0.6195741167551123,-1.094316627734599,-1.29313433188694,-1.094338707867442,-2.2423736093684643,-2.439235258750682,-2.0531239068690126,-2.123298520538905,-2.3777291633095916,-0.9774541801603647,-1.0943093816898037,-1.094344574409867,-0.9774382798526059,-0.9774291012983695,-2.377643781449095,-1.924661053040806,-1.113999482557542,-1.0876304240650279,-0.9779229480682374,-1.2925233198663326,0.6830855312814182,-1.0996970400052446,-1.021558945120537,-1.0943140408784604,-1.0943429431163176,-1.0943434253641304,-1.0943428811424236,-2.377664339367526,-1.9054292507318373,-0.976969505908685,-1.5559636699604307,-1.8973053302089486,-2.121386493052926,-1.0943091667709013,-0.9775112201851394,-1.555971783612957,-2.2050208045937465,-1.5559652856149138,-1.8801687304190875,-2.4114360877067775,-2.3776273988675025,-2.209750587317773,-0.9776621366397947,-2.242643303714312,-1.0948580485671444,-1.2089044893536245,-0.9774287460997289,-1.5559587179636105,-1.5560560196631155,-1.094318420216276,-0.9774282267652115,-1.2925217877373705,-1.3837997336972696,-0.24493264133628398,-2.8637876516243623,-2.17379279013827,-2.377727573889364,-1.0943535289929374,-2.1213202882277615,-1.3277526043717376,-1.0943229098990876,-1.096383319181591,-0.9775698444285115,-2.208093417756,-2.378095748336902,-1.0943174200948091,-2.0644257719720174,-1.8973029283326575,-2.1414493181970253,-0.9774558780067478,-2.3776245679205332,-0.6195545626192076,-2.1721319189819184,-2.150658215140362,-2.1413111019884,-2.3779311489769035,-2.4040668061050483,-2.4510444260278703,-2.3082119765534346,-2.377851545943076,-1.245988321747328,-2.4296768029627134,-0.977428973282711,-1.0943193372156128,-2.2432450130122197,-2.094968315491721,-0.9142960357160517,-2.4480248539562326,-1.2925311086097515,-0.9774310144480417,-1.2460274841671921,-1.8990491362488409,-2.141345439829125,-1.292523321430634,-2.380820108060927,-2.1360668831928318,-2.136018624648884,-2.051199121010176,-1.0943523473277847,-1.8974200176598774,-1.8973063601880313,-1.5533707094369655,-1.2925279392930469,-0.42534838556254523,-1.2925648705051638,-1.1446251173441142,-1.556059044632274,-2.139594239008938,-1.094425005390359,-1.2925315578391614,-1.104918740334709,-1.246073872443557,-1.0943087092015702,-1.0943666658759743,-1.880074825543301,-1.9971942810230694,-2.204883708416118,-2.377843208973985,-1.8973103694590294],\"z\":[0.1112170578457011,0.3558062324608979,0.036836489741081856,0.35602814739073174,0.35578329425686034,0.34403580288952035,0.3513676118952548,0.03686431614471486,0.010969950003559078,0.036857630870873175,0.356912345351775,-0.0011638638901592144,0.1111449239951852,0.036795208795587814,0.0368558926510454,0.05519080435756457,0.09330317225586901,0.03685119433717721,0.036863768986328996,0.03686549582897422,0.010972467198669183,0.35010291891844525,0.10206970552653917,0.030805254647375237,0.036858608719519466,0.036756380208158086,0.03685805210136068,0.036867026701802565,0.1533460279301405,0.03639462212956971,0.03683688372325152,0.03684571274877548,-0.00625229131261937,0.11121586595094615,0.03678519819371624,0.036859304867849274,0.036868020289647675,0.036850030102287205,0.32368852369995754,0.03686539208588996,0.03449110449751267,0.11121826052081563,0.03670903336603077,0.03686607416909582,0.03683468230185122,0.036853852401275713,0.11092561064003012,0.1112048287019345,0.11121309023542436,0.11121711279140253,0.11122579441244126,0.010975678383516327,0.036857566171560885,0.12622715231000195,0.03679719967553633,0.11120666421660903,0.2942362610540118,0.3782916979719571,0.0368324547586792,0.036545743263720634,0.0368002574069973,0.03686824139574998,0.036795329151673696,0.036470802274734426,0.5418114604499842,0.3577222294051314,0.1507786622417201,0.03686441433142291,0.03414040083107985,0.4861786368216079,0.03686827539961567,0.11121911755981888,0.027756599662160396,0.01096071999477941,0.33692388209707325,0.11121501180801704,0.010968074108750291,0.036835472895418525,0.03681530873866454,0.3558411907109378,0.3360358419350292,0.010968567868757174,0.11121590057962695,0.03676861752239906,0.39190894523646225,0.03683392785237565,0.10088968152738052,0.010950810751648313,0.30598291987680654,0.036851656368929404,0.4536074618836937,0.03686411270803204,0.010968510844097785,0.036868276841790754,0.01097313800795831,0.37136766098653096,0.3818814358223014,0.11122257717643146,0.3572509981508392,0.03680472008652448,0.11122140872848545,0.036861407888324996,0.32739046836196,0.3558343481459373,0.3440364698563647,0.0358041531422704,0.010616027848908605,0.010930421905075876,0.38188292611805796,0.036867964440633776,0.3818793717341322,0.3369338803918843,0.0008694530667655749,0.3560121733886175,0.03686706325483714,0.010865637652897563,0.3440363729736686,0.03682103273582501,0.33692650776836125,0.41492854240954674,0.036448239812374474,-0.020317253127462843,0.03685740969049989,0.11048159913295261,0.03685628535278951,0.35599821016317856,0.33639082441459567,0.34842741014735396,0.4941337724845172,0.38100526009992447,0.010952984493394316,0.036859826211019776,0.036859194188864686,0.01096037492314413,0.010973272912104847,0.38187468848748485,0.23261411549412703,-0.04439913572867139,0.13342713790323205,0.010821022536542955,0.11121703205867485,5.258191075986932,0.03582843799147721,-0.017033871364973502,0.03686293172128819,0.03685367194263194,0.036846360680171004,0.036845957450313035,0.3818731987021732,0.3399964148362087,0.009779089103558718,0.15345371399825575,0.34403210177189586,0.30595974887541244,0.036820977481547716,0.01087542565486546,0.1534510984960881,0.3558142809291046,0.15345261051193657,0.35749982870856944,0.36619898324495875,0.3818824405151929,0.35466005723454697,0.01089138691624405,0.35576932227240793,0.034879159337741536,0.004639702391928234,0.010972578377702595,0.15345292063353108,0.15329543638721618,0.03684508792278275,0.010970659872686729,0.11121629658371741,0.0594907579162646,0.14230491916346127,0.26281297424301897,0.4360938304673249,0.38180161415180264,0.03210891656917735,0.3059376827964035,0.12590315214952644,0.03685991732179318,0.02958350106871108,0.010846969198200562,0.35510971217108783,0.38175615959844644,0.03686495619612226,0.34675498522924453,0.34400683714316377,0.32735542244252663,0.010954242477681144,0.38187751519670193,-0.020318679862741613,0.3369310537026772,0.4208236726011766,0.32739176725273694,0.3818259171975575,0.3430348567680245,0.34809666337678336,0.24040437503733192,0.381575222867469,0.13611917349561778,0.4892465478453334,0.010972171561198068,0.036865846910325725,0.35585543346603304,0.2501819289766076,0.22194340721863437,0.2872626934715792,0.11022636762842186,0.010971766777074007,0.13611084206702556,0.34169163125431223,0.3273819816561683,0.11121703321771177,0.3803813737778847,0.3792929426207874,0.37929547717178314,0.3644999202428129,0.036843385507721066,0.3440011857499238,0.34402812669348554,0.15076628515943435,0.11119984543496803,-0.09831638190020822,0.11117736312422422,0.027131528117555356,0.15162017710477624,0.3786018456081563,0.036475448429650656,0.11121307081144122,0.020765557079021335,0.09329214058977313,0.036866170613337315,0.036824278816512526,0.3577452385047715,0.42266630340756517,0.3558351656616375,0.381377224717235,0.34403583550038974]},{\"customdata\":[[\"Proof-of-BibleHash\"],[\"SHA-256 + Hive\"],[\"Proof-of-Authority\"],[\"ECC 256K1\"],[\"Leased POS\"]],\"hovertemplate\":\"<b>%{hovertext}</b><br><br>Class=%{marker.color}<br>PC1=%{x}<br>PC2=%{y}<br>PC3=%{z}<br>Algorithm=%{customdata[0]}<extra></extra>\",\"hovertext\":[\"BiblePay\",\"LitecoinCash\",\"Poa Network\",\"Acute Angle Cloud\",\"Waves\"],\"legendgroup\":\"3\",\"marker\":{\"color\":[3,3,3,3,3],\"coloraxis\":\"coloraxis\",\"symbol\":\"square\"},\"mode\":\"markers\",\"name\":\"3\",\"scene\":\"scene\",\"showlegend\":true,\"type\":\"scatter3d\",\"x\":[-0.3798726448366155,-0.4930154063316069,0.055957254623105364,-0.019923114693550473,-0.44352063995603114],\"y\":[5.064035911460858,2.3704271618732546,4.506366106189893,2.792404852945464,3.61296105975017],\"z\":[8.912118471575784,26.210698573086226,7.744038250620134,6.110048337858525,10.662756228060964]},{\"customdata\":[[\"TRC10\"]],\"hovertemplate\":\"<b>%{hovertext}</b><br><br>Class=%{marker.color}<br>PC1=%{x}<br>PC2=%{y}<br>PC3=%{z}<br>Algorithm=%{customdata[0]}<extra></extra>\",\"hovertext\":[\"BitTorrent\"],\"legendgroup\":\"2\",\"marker\":{\"color\":[2],\"coloraxis\":\"coloraxis\",\"symbol\":\"x\"},\"mode\":\"markers\",\"name\":\"2\",\"scene\":\"scene\",\"showlegend\":true,\"type\":\"scatter3d\",\"x\":[34.1341977582192],\"y\":[1.9790579582136698],\"z\":[-0.9781245079108724]}],                        {\"coloraxis\":{\"colorbar\":{\"title\":{\"text\":\"Class\"}},\"colorscale\":[[0.0,\"#0d0887\"],[0.1111111111111111,\"#46039f\"],[0.2222222222222222,\"#7201a8\"],[0.3333333333333333,\"#9c179e\"],[0.4444444444444444,\"#bd3786\"],[0.5555555555555556,\"#d8576b\"],[0.6666666666666666,\"#ed7953\"],[0.7777777777777778,\"#fb9f3a\"],[0.8888888888888888,\"#fdca26\"],[1.0,\"#f0f921\"]]},\"legend\":{\"title\":{\"text\":\"Class\"},\"tracegroupgap\":0,\"x\":0,\"y\":1},\"margin\":{\"t\":60},\"scene\":{\"domain\":{\"x\":[0.0,1.0],\"y\":[0.0,1.0]},\"xaxis\":{\"title\":{\"text\":\"PC1\"}},\"yaxis\":{\"title\":{\"text\":\"PC2\"}},\"zaxis\":{\"title\":{\"text\":\"PC3\"}}},\"template\":{\"data\":{\"bar\":[{\"error_x\":{\"color\":\"#2a3f5f\"},\"error_y\":{\"color\":\"#2a3f5f\"},\"marker\":{\"line\":{\"color\":\"#E5ECF6\",\"width\":0.5},\"pattern\":{\"fillmode\":\"overlay\",\"size\":10,\"solidity\":0.2}},\"type\":\"bar\"}],\"barpolar\":[{\"marker\":{\"line\":{\"color\":\"#E5ECF6\",\"width\":0.5},\"pattern\":{\"fillmode\":\"overlay\",\"size\":10,\"solidity\":0.2}},\"type\":\"barpolar\"}],\"carpet\":[{\"aaxis\":{\"endlinecolor\":\"#2a3f5f\",\"gridcolor\":\"white\",\"linecolor\":\"white\",\"minorgridcolor\":\"white\",\"startlinecolor\":\"#2a3f5f\"},\"baxis\":{\"endlinecolor\":\"#2a3f5f\",\"gridcolor\":\"white\",\"linecolor\":\"white\",\"minorgridcolor\":\"white\",\"startlinecolor\":\"#2a3f5f\"},\"type\":\"carpet\"}],\"choropleth\":[{\"colorbar\":{\"outlinewidth\":0,\"ticks\":\"\"},\"type\":\"choropleth\"}],\"contour\":[{\"colorbar\":{\"outlinewidth\":0,\"ticks\":\"\"},\"colorscale\":[[0.0,\"#0d0887\"],[0.1111111111111111,\"#46039f\"],[0.2222222222222222,\"#7201a8\"],[0.3333333333333333,\"#9c179e\"],[0.4444444444444444,\"#bd3786\"],[0.5555555555555556,\"#d8576b\"],[0.6666666666666666,\"#ed7953\"],[0.7777777777777778,\"#fb9f3a\"],[0.8888888888888888,\"#fdca26\"],[1.0,\"#f0f921\"]],\"type\":\"contour\"}],\"contourcarpet\":[{\"colorbar\":{\"outlinewidth\":0,\"ticks\":\"\"},\"type\":\"contourcarpet\"}],\"heatmap\":[{\"colorbar\":{\"outlinewidth\":0,\"ticks\":\"\"},\"colorscale\":[[0.0,\"#0d0887\"],[0.1111111111111111,\"#46039f\"],[0.2222222222222222,\"#7201a8\"],[0.3333333333333333,\"#9c179e\"],[0.4444444444444444,\"#bd3786\"],[0.5555555555555556,\"#d8576b\"],[0.6666666666666666,\"#ed7953\"],[0.7777777777777778,\"#fb9f3a\"],[0.8888888888888888,\"#fdca26\"],[1.0,\"#f0f921\"]],\"type\":\"heatmap\"}],\"heatmapgl\":[{\"colorbar\":{\"outlinewidth\":0,\"ticks\":\"\"},\"colorscale\":[[0.0,\"#0d0887\"],[0.1111111111111111,\"#46039f\"],[0.2222222222222222,\"#7201a8\"],[0.3333333333333333,\"#9c179e\"],[0.4444444444444444,\"#bd3786\"],[0.5555555555555556,\"#d8576b\"],[0.6666666666666666,\"#ed7953\"],[0.7777777777777778,\"#fb9f3a\"],[0.8888888888888888,\"#fdca26\"],[1.0,\"#f0f921\"]],\"type\":\"heatmapgl\"}],\"histogram\":[{\"marker\":{\"pattern\":{\"fillmode\":\"overlay\",\"size\":10,\"solidity\":0.2}},\"type\":\"histogram\"}],\"histogram2d\":[{\"colorbar\":{\"outlinewidth\":0,\"ticks\":\"\"},\"colorscale\":[[0.0,\"#0d0887\"],[0.1111111111111111,\"#46039f\"],[0.2222222222222222,\"#7201a8\"],[0.3333333333333333,\"#9c179e\"],[0.4444444444444444,\"#bd3786\"],[0.5555555555555556,\"#d8576b\"],[0.6666666666666666,\"#ed7953\"],[0.7777777777777778,\"#fb9f3a\"],[0.8888888888888888,\"#fdca26\"],[1.0,\"#f0f921\"]],\"type\":\"histogram2d\"}],\"histogram2dcontour\":[{\"colorbar\":{\"outlinewidth\":0,\"ticks\":\"\"},\"colorscale\":[[0.0,\"#0d0887\"],[0.1111111111111111,\"#46039f\"],[0.2222222222222222,\"#7201a8\"],[0.3333333333333333,\"#9c179e\"],[0.4444444444444444,\"#bd3786\"],[0.5555555555555556,\"#d8576b\"],[0.6666666666666666,\"#ed7953\"],[0.7777777777777778,\"#fb9f3a\"],[0.8888888888888888,\"#fdca26\"],[1.0,\"#f0f921\"]],\"type\":\"histogram2dcontour\"}],\"mesh3d\":[{\"colorbar\":{\"outlinewidth\":0,\"ticks\":\"\"},\"type\":\"mesh3d\"}],\"parcoords\":[{\"line\":{\"colorbar\":{\"outlinewidth\":0,\"ticks\":\"\"}},\"type\":\"parcoords\"}],\"pie\":[{\"automargin\":true,\"type\":\"pie\"}],\"scatter\":[{\"marker\":{\"colorbar\":{\"outlinewidth\":0,\"ticks\":\"\"}},\"type\":\"scatter\"}],\"scatter3d\":[{\"line\":{\"colorbar\":{\"outlinewidth\":0,\"ticks\":\"\"}},\"marker\":{\"colorbar\":{\"outlinewidth\":0,\"ticks\":\"\"}},\"type\":\"scatter3d\"}],\"scattercarpet\":[{\"marker\":{\"colorbar\":{\"outlinewidth\":0,\"ticks\":\"\"}},\"type\":\"scattercarpet\"}],\"scattergeo\":[{\"marker\":{\"colorbar\":{\"outlinewidth\":0,\"ticks\":\"\"}},\"type\":\"scattergeo\"}],\"scattergl\":[{\"marker\":{\"colorbar\":{\"outlinewidth\":0,\"ticks\":\"\"}},\"type\":\"scattergl\"}],\"scattermapbox\":[{\"marker\":{\"colorbar\":{\"outlinewidth\":0,\"ticks\":\"\"}},\"type\":\"scattermapbox\"}],\"scatterpolar\":[{\"marker\":{\"colorbar\":{\"outlinewidth\":0,\"ticks\":\"\"}},\"type\":\"scatterpolar\"}],\"scatterpolargl\":[{\"marker\":{\"colorbar\":{\"outlinewidth\":0,\"ticks\":\"\"}},\"type\":\"scatterpolargl\"}],\"scatterternary\":[{\"marker\":{\"colorbar\":{\"outlinewidth\":0,\"ticks\":\"\"}},\"type\":\"scatterternary\"}],\"surface\":[{\"colorbar\":{\"outlinewidth\":0,\"ticks\":\"\"},\"colorscale\":[[0.0,\"#0d0887\"],[0.1111111111111111,\"#46039f\"],[0.2222222222222222,\"#7201a8\"],[0.3333333333333333,\"#9c179e\"],[0.4444444444444444,\"#bd3786\"],[0.5555555555555556,\"#d8576b\"],[0.6666666666666666,\"#ed7953\"],[0.7777777777777778,\"#fb9f3a\"],[0.8888888888888888,\"#fdca26\"],[1.0,\"#f0f921\"]],\"type\":\"surface\"}],\"table\":[{\"cells\":{\"fill\":{\"color\":\"#EBF0F8\"},\"line\":{\"color\":\"white\"}},\"header\":{\"fill\":{\"color\":\"#C8D4E3\"},\"line\":{\"color\":\"white\"}},\"type\":\"table\"}]},\"layout\":{\"annotationdefaults\":{\"arrowcolor\":\"#2a3f5f\",\"arrowhead\":0,\"arrowwidth\":1},\"autotypenumbers\":\"strict\",\"coloraxis\":{\"colorbar\":{\"outlinewidth\":0,\"ticks\":\"\"}},\"colorscale\":{\"diverging\":[[0,\"#8e0152\"],[0.1,\"#c51b7d\"],[0.2,\"#de77ae\"],[0.3,\"#f1b6da\"],[0.4,\"#fde0ef\"],[0.5,\"#f7f7f7\"],[0.6,\"#e6f5d0\"],[0.7,\"#b8e186\"],[0.8,\"#7fbc41\"],[0.9,\"#4d9221\"],[1,\"#276419\"]],\"sequential\":[[0.0,\"#0d0887\"],[0.1111111111111111,\"#46039f\"],[0.2222222222222222,\"#7201a8\"],[0.3333333333333333,\"#9c179e\"],[0.4444444444444444,\"#bd3786\"],[0.5555555555555556,\"#d8576b\"],[0.6666666666666666,\"#ed7953\"],[0.7777777777777778,\"#fb9f3a\"],[0.8888888888888888,\"#fdca26\"],[1.0,\"#f0f921\"]],\"sequentialminus\":[[0.0,\"#0d0887\"],[0.1111111111111111,\"#46039f\"],[0.2222222222222222,\"#7201a8\"],[0.3333333333333333,\"#9c179e\"],[0.4444444444444444,\"#bd3786\"],[0.5555555555555556,\"#d8576b\"],[0.6666666666666666,\"#ed7953\"],[0.7777777777777778,\"#fb9f3a\"],[0.8888888888888888,\"#fdca26\"],[1.0,\"#f0f921\"]]},\"colorway\":[\"#636efa\",\"#EF553B\",\"#00cc96\",\"#ab63fa\",\"#FFA15A\",\"#19d3f3\",\"#FF6692\",\"#B6E880\",\"#FF97FF\",\"#FECB52\"],\"font\":{\"color\":\"#2a3f5f\"},\"geo\":{\"bgcolor\":\"white\",\"lakecolor\":\"white\",\"landcolor\":\"#E5ECF6\",\"showlakes\":true,\"showland\":true,\"subunitcolor\":\"white\"},\"hoverlabel\":{\"align\":\"left\"},\"hovermode\":\"closest\",\"mapbox\":{\"style\":\"light\"},\"paper_bgcolor\":\"white\",\"plot_bgcolor\":\"#E5ECF6\",\"polar\":{\"angularaxis\":{\"gridcolor\":\"white\",\"linecolor\":\"white\",\"ticks\":\"\"},\"bgcolor\":\"#E5ECF6\",\"radialaxis\":{\"gridcolor\":\"white\",\"linecolor\":\"white\",\"ticks\":\"\"}},\"scene\":{\"xaxis\":{\"backgroundcolor\":\"#E5ECF6\",\"gridcolor\":\"white\",\"gridwidth\":2,\"linecolor\":\"white\",\"showbackground\":true,\"ticks\":\"\",\"zerolinecolor\":\"white\"},\"yaxis\":{\"backgroundcolor\":\"#E5ECF6\",\"gridcolor\":\"white\",\"gridwidth\":2,\"linecolor\":\"white\",\"showbackground\":true,\"ticks\":\"\",\"zerolinecolor\":\"white\"},\"zaxis\":{\"backgroundcolor\":\"#E5ECF6\",\"gridcolor\":\"white\",\"gridwidth\":2,\"linecolor\":\"white\",\"showbackground\":true,\"ticks\":\"\",\"zerolinecolor\":\"white\"}},\"shapedefaults\":{\"line\":{\"color\":\"#2a3f5f\"}},\"ternary\":{\"aaxis\":{\"gridcolor\":\"white\",\"linecolor\":\"white\",\"ticks\":\"\"},\"baxis\":{\"gridcolor\":\"white\",\"linecolor\":\"white\",\"ticks\":\"\"},\"bgcolor\":\"#E5ECF6\",\"caxis\":{\"gridcolor\":\"white\",\"linecolor\":\"white\",\"ticks\":\"\"}},\"title\":{\"x\":0.05},\"xaxis\":{\"automargin\":true,\"gridcolor\":\"white\",\"linecolor\":\"white\",\"ticks\":\"\",\"title\":{\"standoff\":15},\"zerolinecolor\":\"white\",\"zerolinewidth\":2},\"yaxis\":{\"automargin\":true,\"gridcolor\":\"white\",\"linecolor\":\"white\",\"ticks\":\"\",\"title\":{\"standoff\":15},\"zerolinecolor\":\"white\",\"zerolinewidth\":2}}},\"width\":800},                        {\"responsive\": true}                    ).then(function(){\n",
       "                            \n",
       "var gd = document.getElementById('d324d6bb-2495-4043-ac5a-810305842901');\n",
       "var x = new MutationObserver(function (mutations, observer) {{\n",
       "        var display = window.getComputedStyle(gd).display;\n",
       "        if (!display || display === 'none') {{\n",
       "            console.log([gd, 'removed!']);\n",
       "            Plotly.purge(gd);\n",
       "            observer.disconnect();\n",
       "        }}\n",
       "}});\n",
       "\n",
       "// Listen for the removal of the full notebook cells\n",
       "var notebookContainer = gd.closest('#notebook-container');\n",
       "if (notebookContainer) {{\n",
       "    x.observe(notebookContainer, {childList: true});\n",
       "}}\n",
       "\n",
       "// Listen for the clearing of the current output cell\n",
       "var outputEl = gd.closest('.output');\n",
       "if (outputEl) {{\n",
       "    x.observe(outputEl, {childList: true});\n",
       "}}\n",
       "\n",
       "                        })                };                });            </script>        </div>"
      ]
     },
     "metadata": {},
     "output_type": "display_data"
    }
   ],
   "source": [
    "# Creating a 3D-Scatter with the PCA data and the clusters\n",
    "fig = px.scatter_3d(\n",
    "    clustered_df,\n",
    "    hover_name=\"CoinName\",\n",
    "    hover_data=[\"Algorithm\"],\n",
    "    x=\"PC1\",\n",
    "    y=\"PC2\",\n",
    "    z=\"PC3\",\n",
    "    color=\"Class\",\n",
    "    symbol=\"Class\",\n",
    "    width=800,\n",
    ")\n",
    "fig.update_layout(legend=dict(x=0, y=1))\n",
    "fig.show()\n"
   ]
  },
  {
   "cell_type": "code",
   "execution_count": 177,
   "metadata": {},
   "outputs": [
    {
     "data": {},
     "metadata": {},
     "output_type": "display_data"
    },
    {
     "data": {
      "application/vnd.holoviews_exec.v0+json": "",
      "text/html": [
       "<div id='5081'>\n",
       "\n",
       "\n",
       "\n",
       "\n",
       "\n",
       "  <div class=\"bk-root\" id=\"4ee6e029-e788-49fe-afbd-a925fe31dac6\" data-root-id=\"5081\"></div>\n",
       "</div>\n",
       "<script type=\"application/javascript\">(function(root) {\n",
       "  function embed_document(root) {\n",
       "    var docs_json = {\"52997613-f132-4b5e-8de5-61ea0888d495\":{\"defs\":[{\"extends\":null,\"module\":null,\"name\":\"ReactiveHTML1\",\"overrides\":[],\"properties\":[]},{\"extends\":null,\"module\":null,\"name\":\"FlexBox1\",\"overrides\":[],\"properties\":[{\"default\":\"flex-start\",\"kind\":null,\"name\":\"align_content\"},{\"default\":\"flex-start\",\"kind\":null,\"name\":\"align_items\"},{\"default\":\"row\",\"kind\":null,\"name\":\"flex_direction\"},{\"default\":\"wrap\",\"kind\":null,\"name\":\"flex_wrap\"},{\"default\":\"flex-start\",\"kind\":null,\"name\":\"justify_content\"}]},{\"extends\":null,\"module\":null,\"name\":\"TemplateActions1\",\"overrides\":[],\"properties\":[{\"default\":0,\"kind\":null,\"name\":\"open_modal\"},{\"default\":0,\"kind\":null,\"name\":\"close_modal\"}]},{\"extends\":null,\"module\":null,\"name\":\"MaterialTemplateActions1\",\"overrides\":[],\"properties\":[{\"default\":0,\"kind\":null,\"name\":\"open_modal\"},{\"default\":0,\"kind\":null,\"name\":\"close_modal\"}]}],\"roots\":{\"references\":[{\"attributes\":{\"data\":{\"Algorithm\":[\"Scrypt\",\"Scrypt\",\"X13\",\"SHA-256\",\"Ethash\",\"Scrypt\",\"X11\",\"CryptoNight-V7\",\"Ethash\",\"Equihash\",\"SHA-512\",\"Multiple\",\"SHA-256\",\"SHA-256\",\"Scrypt\",\"X15\",\"X11\",\"Scrypt\",\"Scrypt\",\"Scrypt\",\"Multiple\",\"Scrypt\",\"SHA-256\",\"Scrypt\",\"Scrypt\",\"Scrypt\",\"Quark\",\"Groestl\",\"Scrypt\",\"Scrypt\",\"Scrypt\",\"Scrypt\",\"Scrypt\",\"X11\",\"Scrypt\",\"Groestl\",\"Multiple\",\"SHA-256\",\"Scrypt\",\"Scrypt\",\"Scrypt\",\"Scrypt\",\"PoS\",\"Scrypt\",\"Scrypt\",\"NeoScrypt\",\"Scrypt\",\"Scrypt\",\"Scrypt\",\"Scrypt\",\"X11\",\"Scrypt\",\"X11\",\"SHA-256\",\"Scrypt\",\"Scrypt\",\"Scrypt\",\"SHA3\",\"Scrypt\",\"HybridScryptHash256\",\"Scrypt\",\"Scrypt\",\"SHA-256\",\"Scrypt\",\"X13\",\"Scrypt\",\"SHA-256\",\"Scrypt\",\"X13\",\"NeoScrypt\",\"Scrypt\",\"Scrypt\",\"Scrypt\",\"Scrypt\",\"Scrypt\",\"Scrypt\",\"X11\",\"X11\",\"SHA-256\",\"Multiple\",\"SHA-256\",\"PHI1612\",\"X11\",\"SHA-256\",\"SHA-256\",\"SHA-256\",\"X11\",\"Scrypt\",\"Scrypt\",\"Scrypt\",\"Scrypt\",\"Lyra2REv2\",\"Scrypt\",\"X11\",\"Multiple\",\"SHA-256\",\"X13\",\"Scrypt\",\"CryptoNight\",\"CryptoNight\",\"Shabal256\",\"Counterparty\",\"Scrypt\",\"SHA-256\",\"Groestl\",\"Scrypt\",\"Scrypt\",\"Scrypt\",\"X13\",\"Scrypt\",\"Scrypt\",\"Scrypt\",\"Scrypt\",\"X13\",\"Scrypt\",\"Stanford Folding\",\"X11\",\"Multiple\",\"QuBit\",\"Scrypt\",\"Scrypt\",\"Scrypt\",\"M7 POW\",\"Scrypt\",\"SHA-256\",\"Scrypt\",\"X11\",\"SHA3\",\"X11\",\"Lyra2RE\",\"SHA-256\",\"QUAIT\",\"X11\",\"X11\",\"Scrypt\",\"Scrypt\",\"Scrypt\",\"Ethash\",\"X13\",\"Blake2b\",\"SHA-256\",\"X15\",\"X11\",\"SHA-256\",\"BLAKE256\",\"Scrypt\",\"1GB AES Pattern Search\",\"SHA-256\",\"X11\",\"Scrypt\",\"SHA-256\",\"SHA-256\",\"NIST5\",\"Scrypt\",\"Scrypt\",\"X11\",\"Dagger\",\"Scrypt\",\"X11GOST\",\"X11\",\"Scrypt\",\"SHA-256\",\"Scrypt\",\"PoS\",\"Scrypt\",\"X11\",\"X11\",\"SHA-256\",\"SHA-256\",\"NIST5\",\"X11\",\"Scrypt\",\"POS 3.0\",\"Scrypt\",\"Scrypt\",\"Scrypt\",\"X13\",\"X11\",\"X11\",\"Equihash\",\"X11\",\"Scrypt\",\"CryptoNight\",\"SHA-256\",\"SHA-256\",\"X11\",\"Scrypt\",\"Multiple\",\"Scrypt\",\"Scrypt\",\"Scrypt\",\"SHA-256\",\"Scrypt\",\"Scrypt\",\"SHA-256D\",\"PoS\",\"Scrypt\",\"X11\",\"Lyra2Z\",\"PoS\",\"X13\",\"X14\",\"PoS\",\"SHA-256D\",\"Ethash\",\"Equihash\",\"DPoS\",\"X11\",\"Scrypt\",\"X11\",\"X13\",\"X11\",\"PoS\",\"Scrypt\",\"Scrypt\",\"X11\",\"PoS\",\"X11\",\"SHA-256\",\"Scrypt\",\"X11\",\"Scrypt\",\"Scrypt\",\"X11\",\"CryptoNight\",\"Scrypt\",\"Scrypt\",\"Scrypt\",\"Scrypt\",\"Quark\",\"QuBit\",\"Scrypt\",\"CryptoNight\",\"Lyra2RE\",\"Scrypt\",\"SHA-256\",\"X11\",\"Scrypt\",\"X11\",\"Scrypt\",\"CryptoNight-V7\",\"Scrypt\",\"Scrypt\",\"Scrypt\",\"X13\",\"X11\",\"Equihash\",\"Scrypt\",\"Scrypt\",\"Lyra2RE\",\"Scrypt\",\"Dagger-Hashimoto\",\"X11\",\"Blake2S\",\"X11\",\"Scrypt\",\"PoS\",\"X11\",\"NIST5\",\"PoS\",\"X11\",\"Scrypt\",\"Scrypt\",\"Scrypt\",\"SHA-256\",\"X11\",\"Scrypt\",\"Scrypt\",\"SHA-256\",\"PoS\",\"Scrypt\",\"X15\",\"SHA-256\",\"Scrypt\",\"POS 3.0\",\"CryptoNight-V7\",\"536\",\"Argon2d\",\"Blake2b\",\"Cloverhash\",\"CryptoNight\",\"NIST5\",\"X11\",\"NIST5\",\"Skein\",\"Scrypt\",\"X13\",\"Scrypt\",\"X11\",\"X11\",\"Scrypt\",\"CryptoNight\",\"X13\",\"Time Travel\",\"Scrypt\",\"Keccak\",\"SkunkHash v2 Raptor\",\"X11\",\"Skein\",\"SHA-256\",\"X11\",\"Scrypt\",\"VeChainThor Authority\",\"Scrypt\",\"PoS\",\"Scrypt\",\"Scrypt\",\"Scrypt\",\"Scrypt\",\"Scrypt\",\"Scrypt\",\"Scrypt\",\"CryptoNight\",\"SHA-512\",\"Ouroboros\",\"X11\",\"Equihash\",\"NeoScrypt\",\"X11\",\"Scrypt\",\"NeoScrypt\",\"Lyra2REv2\",\"Equihash\",\"Scrypt\",\"SHA-256\",\"NIST5\",\"PHI1612\",\"Dagger\",\"Scrypt\",\"Quark\",\"Scrypt\",\"POS 2.0\",\"Scrypt\",\"SHA-256\",\"X11\",\"NeoScrypt\",\"Ethash\",\"NeoScrypt\",\"X11\",\"DPoS\",\"NIST5\",\"X13\",\"Multiple\",\"Scrypt\",\"CryptoNight\",\"CryptoNight\",\"Ethash\",\"NIST5\",\"Quark\",\"X11\",\"CryptoNight-V7\",\"Scrypt\",\"Scrypt\",\"Scrypt\",\"X11\",\"BLAKE256\",\"X11\",\"NeoScrypt\",\"Quark\",\"NeoScrypt\",\"Scrypt\",\"Scrypt\",\"Scrypt\",\"X11\",\"X11\",\"SHA-256\",\"C11\",\"POS 3.0\",\"Ethash\",\"Scrypt\",\"CryptoNight\",\"SkunkHash\",\"Scrypt\",\"CryptoNight\",\"Scrypt\",\"Dagger\",\"Lyra2REv2\",\"X13\",\"Proof-of-BibleHash\",\"SHA-256 + Hive\",\"Scrypt\",\"Scrypt\",\"X11\",\"C11\",\"Proof-of-Authority\",\"X11\",\"XEVAN\",\"Scrypt\",\"VBFT\",\"Ethash\",\"CryptoNight\",\"Scrypt\",\"IMesh\",\"NIST5\",\"Scrypt\",\"Scrypt\",\"Equihash\",\"Scrypt\",\"Lyra2Z\",\"Green Protocol\",\"PoS\",\"Scrypt\",\"Semux BFT consensus\",\"X11\",\"Quark\",\"PoS\",\"CryptoNight\",\"X16R\",\"Scrypt\",\"NIST5\",\"Lyra2RE\",\"XEVAN\",\"Tribus\",\"Scrypt\",\"Lyra2Z\",\"CryptoNight\",\"CryptoNight Heavy\",\"CryptoNight\",\"Scrypt\",\"Scrypt\",\"Jump Consistent Hash\",\"SHA-256D\",\"CryptoNight\",\"Scrypt\",\"X15\",\"Scrypt\",\"Quark\",\"SHA-256\",\"DPoS\",\"X16R\",\"HMQ1725\",\"X11\",\"X16R\",\"Quark\",\"Quark\",\"Scrypt\",\"Lyra2REv2\",\"Quark\",\"Scrypt\",\"Scrypt\",\"CryptoNight-V7\",\"Cryptonight-GPU\",\"XEVAN\",\"CryptoNight Heavy\",\"X11\",\"X11\",\"Scrypt\",\"PoS\",\"SHA-256\",\"Keccak\",\"X11\",\"X11\",\"Scrypt\",\"SHA-512\",\"X16R\",\"ECC 256K1\",\"Equihash\",\"XEVAN\",\"Lyra2Z\",\"SHA-256\",\"XEVAN\",\"X11\",\"CryptoNight\",\"Quark\",\"Blake\",\"Blake\",\"Equihash\",\"Exosis\",\"Scrypt\",\"Scrypt\",\"Equihash\",\"Quark\",\"Equihash\",\"Quark\",\"Scrypt\",\"QuBit\",\"X11\",\"Scrypt\",\"XEVAN\",\"SHA-256D\",\"X11\",\"SHA-256\",\"X13\",\"SHA-256\",\"X11\",\"DPoS\",\"Scrypt\",\"Scrypt\",\"X11\",\"NeoScrypt\",\"Scrypt\",\"Blake\",\"Scrypt\",\"SHA-256\",\"Scrypt\",\"X11\",\"Scrypt\",\"Scrypt\",\"SHA-256\",\"X11\",\"SHA-256\",\"Scrypt\",\"Scrypt\",\"Scrypt\",\"Groestl\",\"X11\",\"Scrypt\",\"PoS\",\"Scrypt\",\"Scrypt\",\"X11\",\"SHA-256\",\"DPoS\",\"Scrypt\",\"Scrypt\",\"NeoScrypt\",\"Multiple\",\"X13\",\"Equihash+Scrypt\",\"DPoS\",\"Ethash\",\"DPoS\",\"SHA-256\",\"Leased POS\",\"PoS\",\"TRC10\",\"PoS\",\"SHA-256\",\"Scrypt\",\"CryptoNight\",\"Equihash\",\"Scrypt\"],\"Class\":{\"__ndarray__\":\"AAAAAAAAAAAAAAAAAQAAAAEAAAABAAAAAAAAAAEAAAABAAAAAQAAAAAAAAABAAAAAAAAAAAAAAABAAAAAAAAAAEAAAABAAAAAAAAAAAAAAABAAAAAQAAAAEAAAABAAAAAQAAAAAAAAABAAAAAQAAAAEAAAAAAAAAAQAAAAAAAAABAAAAAQAAAAAAAAAAAAAAAQAAAAEAAAABAAAAAQAAAAEAAAABAAAAAAAAAAAAAAABAAAAAQAAAAEAAAABAAAAAQAAAAAAAAAAAAAAAQAAAAAAAAABAAAAAQAAAAEAAAABAAAAAAAAAAEAAAABAAAAAAAAAAEAAAAAAAAAAAAAAAAAAAABAAAAAQAAAAEAAAAAAAAAAAAAAAAAAAAAAAAAAAAAAAEAAAABAAAAAQAAAAAAAAAAAAAAAQAAAAAAAAABAAAAAAAAAAAAAAABAAAAAQAAAAEAAAABAAAAAAAAAAAAAAABAAAAAAAAAAEAAAABAAAAAAAAAAAAAAABAAAAAAAAAAAAAAABAAAAAQAAAAAAAAAAAAAAAQAAAAAAAAAAAAAAAQAAAAAAAAABAAAAAAAAAAEAAAAAAAAAAQAAAAAAAAAAAAAAAQAAAAEAAAAAAAAAAQAAAAEAAAABAAAAAAAAAAEAAAABAAAAAQAAAAEAAAABAAAAAAAAAAAAAAABAAAAAQAAAAEAAAAAAAAAAQAAAAAAAAABAAAAAQAAAAAAAAABAAAAAAAAAAEAAAAAAAAAAAAAAAEAAAABAAAAAAAAAAEAAAABAAAAAAAAAAAAAAABAAAAAAAAAAEAAAAAAAAAAAAAAAAAAAABAAAAAQAAAAEAAAABAAAAAAAAAAAAAAAAAAAAAAAAAAAAAAABAAAAAQAAAAAAAAAAAAAAAAAAAAAAAAAAAAAAAQAAAAAAAAAAAAAAAAAAAAAAAAAAAAAAAQAAAAAAAAABAAAAAAAAAAAAAAABAAAAAAAAAAEAAAAAAAAAAAAAAAEAAAAAAAAAAQAAAAAAAAABAAAAAAAAAAEAAAAAAAAAAAAAAAAAAAAAAAAAAQAAAAAAAAAAAAAAAAAAAAAAAAAAAAAAAQAAAAEAAAAAAAAAAAAAAAEAAAABAAAAAAAAAAAAAAAAAAAAAAAAAAAAAAABAAAAAAAAAAAAAAAAAAAAAAAAAAAAAAAAAAAAAAAAAAAAAAABAAAAAAAAAAAAAAAAAAAAAAAAAAAAAAAAAAAAAQAAAAEAAAABAAAAAAAAAAAAAAAAAAAAAAAAAAEAAAAAAAAAAQAAAAAAAAAAAAAAAQAAAAAAAAABAAAAAQAAAAAAAAABAAAAAQAAAAAAAAABAAAAAAAAAAAAAAAAAAAAAQAAAAAAAAAAAAAAAQAAAAAAAAAAAAAAAAAAAAAAAAAAAAAAAAAAAAAAAAABAAAAAAAAAAEAAAAAAAAAAAAAAAAAAAAAAAAAAQAAAAAAAAABAAAAAAAAAAEAAAABAAAAAQAAAAEAAAAAAAAAAQAAAAAAAAAAAAAAAQAAAAAAAAABAAAAAQAAAAEAAAAAAAAAAQAAAAAAAAABAAAAAQAAAAEAAAAAAAAAAQAAAAAAAAABAAAAAAAAAAAAAAABAAAAAQAAAAAAAAABAAAAAQAAAAEAAAABAAAAAQAAAAAAAAAAAAAAAQAAAAAAAAAAAAAAAAAAAAEAAAAAAAAAAQAAAAAAAAABAAAAAAAAAAEAAAAAAAAAAAAAAAAAAAAAAAAAAQAAAAAAAAAAAAAAAQAAAAAAAAAAAAAAAAAAAAEAAAABAAAAAQAAAAEAAAAAAAAAAAAAAAAAAAAAAAAAAQAAAAAAAAABAAAAAQAAAAEAAAAAAAAAAAAAAAEAAAABAAAAAAAAAAAAAAABAAAAAAAAAAEAAAABAAAAAQAAAAAAAAABAAAAAQAAAAAAAAAAAAAAAAAAAAEAAAABAAAAAQAAAAAAAAABAAAAAAAAAAEAAAABAAAAAAAAAAEAAAABAAAAAQAAAAEAAAAAAAAAAwAAAAMAAAABAAAAAQAAAAEAAAAAAAAAAwAAAAAAAAAAAAAAAAAAAAAAAAABAAAAAQAAAAEAAAABAAAAAAAAAAAAAAAAAAAAAQAAAAAAAAABAAAAAAAAAAAAAAAAAAAAAAAAAAEAAAAAAAAAAAAAAAEAAAAAAAAAAAAAAAEAAAABAAAAAAAAAAEAAAAAAAAAAQAAAAEAAAABAAAAAQAAAAAAAAAAAAAAAQAAAAAAAAABAAAAAAAAAAAAAAAAAAAAAAAAAAAAAAAAAAAAAQAAAAEAAAABAAAAAAAAAAAAAAAAAAAAAAAAAAAAAAAAAAAAAQAAAAAAAAABAAAAAQAAAAEAAAABAAAAAAAAAAAAAAAAAAAAAAAAAAEAAAAAAAAAAAAAAAEAAAAAAAAAAAAAAAEAAAADAAAAAQAAAAAAAAABAAAAAQAAAAAAAAAAAAAAAQAAAAAAAAABAAAAAQAAAAAAAAABAAAAAQAAAAAAAAABAAAAAAAAAAEAAAAAAAAAAAAAAAEAAAAAAAAAAAAAAAAAAAAAAAAAAAAAAAEAAAABAAAAAQAAAAAAAAAAAAAAAAAAAAEAAAAAAAAAAQAAAAAAAAABAAAAAAAAAAAAAAAAAAAAAAAAAAEAAAAAAAAAAAAAAAAAAAABAAAAAAAAAAEAAAAAAAAAAQAAAAAAAAAAAAAAAAAAAAEAAAABAAAAAAAAAAAAAAAAAAAAAAAAAAAAAAAAAAAAAQAAAAAAAAABAAAAAAAAAAEAAAAAAAAAAAAAAAMAAAAAAAAAAgAAAAAAAAAAAAAAAAAAAAEAAAABAAAAAAAAAA==\",\"dtype\":\"int32\",\"order\":\"little\",\"shape\":[532]},\"CoinName\":[\"42 Coin\",\"404Coin\",\"EliteCoin\",\"Bitcoin\",\"Ethereum\",\"Litecoin\",\"Dash\",\"Monero\",\"Ethereum Classic\",\"ZCash\",\"Bitshares\",\"DigiByte\",\"BitcoinDark\",\"PayCoin\",\"ProsperCoin\",\"KoboCoin\",\"Spreadcoin\",\"Argentum\",\"Aurora Coin\",\"BlueCoin\",\"MyriadCoin\",\"MoonCoin\",\"ZetaCoin\",\"SexCoin\",\"Quatloo\",\"EnergyCoin\",\"QuarkCoin\",\"Riecoin\",\"Digitalcoin \",\"BitBar\",\"Catcoin\",\"CryptoBullion\",\"CannaCoin\",\"CryptCoin\",\"CasinoCoin\",\"Diamond\",\"Verge\",\"DevCoin\",\"EarthCoin\",\"E-Gulden\",\"Einsteinium\",\"Emerald\",\"Exclusive Coin\",\"FlutterCoin\",\"Franko\",\"FeatherCoin\",\"GrandCoin\",\"GlobalCoin\",\"GoldCoin\",\"HoboNickels\",\"HyperStake\",\"Infinite Coin\",\"IOCoin\",\"IXcoin\",\"KrugerCoin\",\"LuckyCoin\",\"Litebar \",\"MaxCoin\",\"MegaCoin\",\"MediterraneanCoin\",\"MintCoin\",\"MinCoin\",\"MazaCoin\",\"Nautilus Coin\",\"NavCoin\",\"NobleCoin\",\"Namecoin\",\"NyanCoin\",\"OpalCoin\",\"Orbitcoin\",\"PotCoin\",\"PhoenixCoin\",\"Reddcoin\",\"RonPaulCoin\",\"StableCoin\",\"SmartCoin\",\"SuperCoin\",\"SyncCoin\",\"SysCoin\",\"TeslaCoin\",\"TigerCoin\",\"TittieCoin\",\"TorCoin\",\"TerraCoin\",\"UnbreakableCoin\",\"Unobtanium\",\"UroCoin\",\"UnitaryStatus Dollar\",\"UltraCoin\",\"ViaCoin\",\"VeriCoin\",\"Vertcoin\",\"WorldCoin\",\"X11 Coin\",\"Crypti\",\"JouleCoin\",\"StealthCoin\",\"ZCC Coin\",\"ByteCoin\",\"DigitalNote \",\"BurstCoin\",\"StorjCoin\",\"MonaCoin\",\"Neutron\",\"FairCoin\",\"Gulden\",\"RubyCoin\",\"PesetaCoin\",\"Kore\",\"Wild Beast Coin\",\"Dnotes\",\"Flo\",\"8BIT Coin\",\"Sativa Coin\",\"ArtByte\",\"Folding Coin\",\"Ucoin\",\"Unitus\",\"CypherPunkCoin\",\"OmniCron\",\"Vtorrent\",\"GreenCoin\",\"Cryptonite\",\"MasterCoin\",\"SoonCoin\",\"1Credit\",\"IslaCoin\",\"Nexus\",\"MarsCoin \",\"Crypto\",\"Anarchists Prime\",\"Droidz\",\"BowsCoin\",\"Squall Coin\",\"Song Coin\",\"BitZeny\",\"Diggits\",\"Expanse\",\"Paycon\",\"Siacoin\",\"Emercoin\",\"EverGreenCoin\",\"MindCoin\",\"I0coin\",\"Decred\",\"Revolution VR\",\"HOdlcoin\",\"EDRCoin\",\"Hitcoin\",\"Gamecredits\",\"DubaiCoin\",\"CarpeDiemCoin\",\"PWR Coin\",\"BillaryCoin\",\"GPU Coin\",\"Adzcoin\",\"SoilCoin\",\"YoCoin\",\"SibCoin\",\"EuropeCoin\",\"ZeitCoin\",\"SwingCoin\",\"SafeExchangeCoin\",\"Nebuchadnezzar\",\"Francs\",\"BolivarCoin\",\"Ratecoin\",\"Revenu\",\"Clockcoin\",\"VIP Tokens\",\"BitSend\",\"Omni\",\"Let it Ride\",\"PutinCoin\",\"iBankCoin\",\"Frankywillcoin\",\"MudraCoin\",\"PizzaCoin\",\"Lutetium Coin\",\"Komodo\",\"GoldBlocks\",\"CarterCoin\",\"Karbo\",\"BitTokens\",\"ZayedCoin\",\"MustangCoin\",\"ZoneCoin\",\"Circuits of Value\",\"RootCoin\",\"DopeCoin\",\"BitCurrency\",\"DollarCoin\",\"Swiscoin\",\"Shilling\",\"BuzzCoin\",\"Opair\",\"PesoBit\",\"Halloween Coin\",\"ZCoin\",\"CoffeeCoin\",\"RoyalCoin\",\"GanjaCoin V2\",\"TeamUP\",\"LanaCoin\",\"Elementrem\",\"ZClassic\",\"ARK\",\"InsaneCoin\",\"KiloCoin\",\"ArtexCoin\",\"EmberCoin\",\"XenixCoin\",\"FreeCoin\",\"PLNCoin\",\"AquariusCoin\",\"Kurrent\",\"Creatio\",\"Eternity\",\"Eurocoin\",\"BitcoinFast\",\"Stakenet\",\"BitConnect Coin\",\"MoneyCoin\",\"Enigma\",\"Cannabis Industry Coin\",\"Russiacoin\",\"PandaCoin\",\"GameUnits\",\"GAKHcoin\",\"Allsafe\",\"LiteCreed\",\"OsmiumCoin\",\"Bikercoins\",\"HexxCoin\",\"Klingon Empire Darsek\",\"Internet of People\",\"KushCoin\",\"Printerium\",\"PacCoin\",\"Impeach\",\"Citadel\",\"Zilbercoin\",\"FirstCoin\",\"BeaverCoin\",\"FindCoin\",\"VaultCoin\",\"Zero\",\"OpenChat\",\"Canada eCoin\",\"Zoin\",\"RenosCoin\",\"DubaiCoin\",\"VirtacoinPlus\",\"TajCoin\",\"Impact\",\"EB3coin\",\"Atmos\",\"HappyCoin\",\"Coinonat\",\"MacronCoin\",\"Condensate\",\"Independent Money System\",\"ArgusCoin\",\"LomoCoin\",\"ProCurrency\",\"GoldReserve\",\"BenjiRolls\",\"GrowthCoin\",\"ILCoin\",\"Phreak\",\"Degas Coin\",\"HTML5 Coin\",\"Ultimate Secure Cash\",\"EquiTrader\",\"QTUM\",\"Quantum Resistant Ledger\",\"Espers\",\"Dynamic\",\"Nano\",\"ChanCoin\",\"Dinastycoin\",\"Denarius\",\"DigitalPrice\",\"Virta Unique Coin\",\"Bitcoin Planet\",\"Unify\",\"BritCoin\",\"SocialCoin\",\"ArcticCoin\",\"DAS\",\"Linda\",\"LeviarCoin\",\"DeepOnion\",\"Bitcore\",\"gCn Coin\",\"SmartCash\",\"Signatum\",\"Onix\",\"Cream\",\"Bitcoin Cash\",\"Monoeci\",\"Draftcoin\",\"Vechain\",\"Sojourn Coin\",\"Stakecoin\",\"NewYorkCoin\",\"FrazCoin\",\"Kronecoin\",\"AdCoin\",\"Linx\",\"CoinonatX\",\"Ethereum Dark\",\"Sumokoin\",\"Obsidian\",\"Cardano\",\"Regalcoin\",\"BitcoinZ\",\"TrezarCoin\",\"Elements\",\"TerraNovaCoin\",\"VIVO Coin\",\"Rupee\",\"Bitcoin Gold\",\"WomenCoin\",\"Theresa May Coin\",\"NamoCoin\",\"LUXCoin\",\"Pirl\",\"Xios\",\"Bitcloud 2.0\",\"eBoost\",\"KekCoin\",\"BlackholeCoin\",\"Infinity Economics\",\"Pura\",\"Innova\",\"Ellaism\",\"GoByte\",\"Magnet\",\"Lamden Tau\",\"Electra\",\"Bitcoin Diamond\",\"SHIELD\",\"Cash & Back Coin\",\"UltraNote\",\"BitCoal\",\"DaxxCoin\",\"Bulwark\",\"Kalkulus\",\"AC3\",\"Lethean\",\"GermanCoin\",\"LiteCoin Ultra\",\"PopularCoin\",\"PhantomX\",\"Photon\",\"Sucre\",\"SparksPay\",\"Digiwage\",\"GunCoin\",\"IrishCoin\",\"Trollcoin\",\"Litecoin Plus\",\"Monkey Project\",\"Pioneer Coin\",\"UnitedBitcoin\",\"Interzone\",\"TokenPay\",\"1717 Masonic Commemorative Token\",\"My Big Coin\",\"TurtleCoin\",\"MUNcoin\",\"Unified Society USDEX\",\"Niobio Cash\",\"ShareChain\",\"Travelflex\",\"KREDS\",\"Tokyo Coin\",\"BiblePay\",\"LitecoinCash\",\"BitFlip\",\"LottoCoin\",\"Crypto Improvement Fund\",\"Stipend\",\"Poa Network\",\"Pushi\",\"Ellerium\",\"Velox\",\"Ontology\",\"Callisto Network\",\"BitTube\",\"Poseidon\",\"Aidos Kuneen\",\"Bitspace\",\"Briacoin\",\"Ignition\",\"Bitrolium\",\"MedicCoin\",\"Alpenschillling\",\"Bitcoin Green\",\"Deviant Coin\",\"Abjcoin\",\"Semux\",\"FuturoCoin\",\"Carebit\",\"Zealium\",\"Monero Classic\",\"Proton\",\"iDealCash\",\"Jumpcoin\",\"Infinex\",\"Bitcoin Incognito\",\"KEYCO\",\"HollyWoodCoin\",\"GINcoin\",\"PlatinCoin\",\"Loki\",\"Newton Coin\",\"Swisscoin\",\"Xt3ch\",\"MassGrid\",\"TheVig\",\"PluraCoin\",\"EmaratCoin\",\"Dekado\",\"Lynx\",\"Poseidon Quark\",\"BitcoinWSpectrum\",\"Muse\",\"Motion\",\"PlusOneCoin\",\"Axe\",\"Trivechain\",\"Dystem\",\"Giant\",\"Peony Coin\",\"Absolute Coin\",\"Vitae\",\"HexCoin\",\"TPCash\",\"Webchain\",\"Ryo\",\"Urals Coin\",\"Qwertycoin\",\"ARENON\",\"EUNO\",\"MMOCoin\",\"Ketan\",\"Project Pai\",\"XDNA\",\"PAXEX\",\"Azart\",\"ThunderStake\",\"Kcash\",\"Xchange\",\"Acute Angle Cloud\",\"CrypticCoin\",\"Bettex coin\",\"Actinium\",\"Bitcoin SV\",\"BitMoney\",\"Junson Ming Chan Coin\",\"FREDEnergy\",\"HerbCoin\",\"Universal Molecule\",\"Lithium\",\"PirateCash\",\"Exosis\",\"Block-Logic\",\"Oduwa\",\"Beam\",\"Galilel\",\"Bithereum\",\"Crypto Sports\",\"Credit\",\"SLICE\",\"Dash Platinum\",\"Nasdacoin\",\"Beetle Coin\",\"Titan Coin\",\"Award\",\"BLAST\",\"Bitcoin Rhodium\",\"GlobalToken\",\"Insane Coin\",\"ALAX\",\"LiteDoge\",\"SolarCoin\",\"TruckCoin\",\"UFO Coin\",\"OrangeCoin\",\"BlakeCoin\",\"BitstarCoin\",\"NeosCoin\",\"HyperCoin\",\"PinkCoin\",\"Crypto Escudo\",\"AudioCoin\",\"IncaKoin\",\"Piggy Coin\",\"Crown Coin\",\"Genstake\",\"SmileyCoin\",\"XiaoMiCoin\",\"Groestlcoin\",\"CapriCoin\",\" ClubCoin\",\"Radium\",\"Bata\",\"Pakcoin\",\"Creditbit \",\"OKCash\",\"Lisk\",\"HiCoin\",\"WhiteCoin\",\"FriendshipCoin\",\"JoinCoin\",\"Triangles Coin\",\"Vollar\",\"EOS\",\"Reality Clash\",\"Oxycoin\",\"TigerCash\",\"Waves\",\"Particl\",\"BitTorrent\",\"Nxt\",\"ZEPHYR\",\"Gapcoin\",\"Beldex\",\"Horizen\",\"BitcoinPlus\"],\"PC1\":{\"__ndarray__\":\"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\",\"dtype\":\"float64\",\"order\":\"little\",\"shape\":[532]},\"PC2\":{\"__ndarray__\":\"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\",\"dtype\":\"float64\",\"order\":\"little\",\"shape\":[532]},\"PC3\":{\"__ndarray__\":\"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\",\"dtype\":\"float64\",\"order\":\"little\",\"shape\":[532]},\"ProofType\":[\"PoW/PoS\",\"PoW/PoS\",\"PoW/PoS\",\"PoW\",\"PoW\",\"PoW\",\"PoW/PoS\",\"PoW\",\"PoW\",\"PoW\",\"PoS\",\"PoW\",\"PoW/PoS\",\"PoS\",\"PoW\",\"PoW/PoS\",\"PoW\",\"PoW\",\"PoW/PoS\",\"PoW/PoS\",\"PoW\",\"PoW\",\"PoW\",\"PoW\",\"PoW\",\"PoW/PoS\",\"PoW\",\"PoW\",\"PoW\",\"PoW/PoS\",\"PoW\",\"PoW/PoS\",\"PoW\",\"PoW\",\"PoC\",\"PoW/PoS\",\"PoW\",\"PoW\",\"PoW\",\"PoW\",\"PoW\",\"PoW\",\"PoS\",\"PoS/PoW/PoT\",\"PoW\",\"PoW\",\"PoW\",\"PoW\",\"PoW\",\"PoW/PoS\",\"PoS\",\"PoW\",\"PoW/PoS\",\"PoW\",\"PoW\",\"PoW\",\"PoW\",\"PoW/PoS\",\"PoW\",\"PoW\",\"PoS\",\"PoW\",\"PoW/PoS\",\"PoS\",\"PoW/PoS\",\"PoW\",\"PoW\",\"PoW\",\"PoW/PoS\",\"PoW/PoS\",\"PoW/PoS\",\"PoW/PoS\",\"PoW/PoS\",\"PoW\",\"PoW\",\"PoW\",\"PoS\",\"PoW/PoS\",\"PoW\",\"PoS\",\"PoW\",\"PoS\",\"PoW/PoS\",\"PoW\",\"PoW\",\"PoW\",\"PoW\",\"PoW/PoS\",\"PoW/PoS\",\"PoW\",\"PoST\",\"PoW\",\"PoW\",\"PoW/PoS\",\"PoS\",\"PoW\",\"PoW/PoS\",\"PoW/PoS\",\"PoW\",\"PoW\",\"PoC\",\"PoS\",\"PoW\",\"PoW/PoS\",\"PoW/PoS\",\"PoW\",\"PoS\",\"PoW\",\"PoW/PoS\",\"PoW\",\"PoS\",\"PoW\",\"PoW/PoS\",\"PoW/PoS\",\"PoW\",\"PoW\",\"PoS\",\"PoW\",\"PoW\",\"PoW\",\"PoW/PoS\",\"PoW\",\"PoW\",\"PoW\",\"PoW\",\"PoW\",\"PoW/PoS\",\"PoW/nPoS\",\"PoW\",\"PoW\",\"PoW\",\"PoW/PoS\",\"PoW\",\"PoS/PoW\",\"PoW\",\"PoW\",\"PoS\",\"PoW\",\"PoW/PoS\",\"PoW\",\"PoW/PoS\",\"PoW/PoS\",\"PoW\",\"PoW\",\"PoW/PoS\",\"PoW\",\"PoW\",\"PoW/PoS\",\"PoW/PoS\",\"PoW\",\"PoW/PoS\",\"PoW\",\"PoW/PoS\",\"PoW/PoS\",\"PoS\",\"PoW\",\"PoW\",\"PoW\",\"PoW\",\"PoW/PoS\",\"PoS\",\"PoW/PoS\",\"PoC\",\"PoS\",\"PoW\",\"PoW\",\"PoW/PoS\",\"PoW/PoS\",\"PoW/PoS\",\"PoW/PoS\",\"PoW/PoS\",\"PoW\",\"PoS\",\"PoW/PoS\",\"PoW/PoS\",\"PoW/PoS\",\"PoS\",\"PoW\",\"PoS\",\"dPoW/PoW\",\"PoW/PoS\",\"PoW/PoS\",\"PoW\",\"PoW/PoS\",\"PoW\",\"PoW/PoS\",\"PoW/PoS\",\"PoW\",\"PoW/PoS\",\"PoW\",\"PoS\",\"PoW\",\"PoW/PoW\",\"PoW\",\"PoW/PoS\",\"PoS\",\"PoW/PoS\",\"PoW/PoS\",\"PoW\",\"PoS\",\"PoS\",\"PoW/PoS\",\"PoS\",\"PoW/PoS\",\"PoW\",\"PoW\",\"DPoS\",\"PoW/PoS\",\"PoW\",\"PoW\",\"PoW/PoS\",\"PoW/PoS\",\"PoS\",\"PoW/PoS\",\"PoW/PoS\",\"PoW\",\"PoS\",\"PoW/PoS\",\"PoW/PoS\",\"PoW/PoS\",\"TPoS\",\"PoW/PoS\",\"PoW/PoS\",\"PoW/PoS\",\"PoW\",\"PoW/PoS\",\"PoS\",\"PoW/PoS\",\"PoW/PoS\",\"PoS\",\"PoW/PoS\",\"PoW\",\"PoW\",\"PoW\",\"PoW/PoS\",\"PoW/PoS\",\"PoW/PoS\",\"PoW/PoS\",\"PoW\",\"PoW/PoS\",\"PoW\",\"PoS\",\"PoW/PoS \",\"PoW\",\"PoS\",\"PoW\",\"PoW\",\"PoW/PoS\",\"PoW\",\"PoW\",\"PoS\",\"PoW\",\"PoW/PoS\",\"PoW/PoS\",\"PoW/PoS\",\"PoW\",\"PoS\",\"PoW/PoS\",\"PoW\",\"PoS\",\"PoW/PoS\",\"PoW/PoS\",\"PoW/PoS\",\"PoW/PoS\",\"PoS\",\"PoW/PoS\",\"PoW\",\"PoS\",\"PoW\",\"PoS\",\"PoW/PoS\",\"PoW/PoS\",\"PoS\",\"PoW\",\"PoS\",\"PoW\",\"PoW/PoS\",\"PoW\",\"PoW\",\"PoW\",\"PoW\",\"PoW/PoS\",\"PoW\",\"PoW/PoS\",\"PoW/PoS\",\"PoW\",\"PoW/PoS\",\"PoW\",\"PoW\",\"PoW\",\"PoW/PoS\",\"PoW\",\"PoW/PoS\",\"PoW\",\"PoW\",\"PoW\",\"PoS\",\"PoW\",\"PoW/PoS\",\"PoW\",\"PoW/PoS\",\"PoS\",\"Proof of Authority\",\"PoW\",\"PoS\",\"PoW\",\"PoW\",\"PoW\",\"PoW\",\"PoW\",\"PoW/PoS\",\"PoW/PoS\",\"PoW\",\"PoS\",\"PoS\",\"PoW/PoS\",\"PoW\",\"PoW/PoS\",\"PoW\",\"PoW/PoS\",\"PoW\",\"PoS\",\"PoW\",\"PoW/PoS\",\"PoW/PoS\",\"PoW/PoS\",\"PoW/PoS\",\"PoW\",\"PoW/PoS\",\"PoW/PoS\",\"PoW\",\"PoS\",\"PoW/PoS\",\"PoS\",\"PoW\",\"PoW\",\"PoW\",\"PoW\",\"PoW/PoS\",\"DPoS\",\"PoW/PoS\",\"PoW/PoS\",\"PoW\",\"PoW/PoS\",\"PoW\",\"PoW\",\"PoW\",\"PoS\",\"PoS\",\"PoW\",\"PoW\",\"PoW/PoS\",\"PoW/PoS\",\"PoW\",\"PoW/PoS\",\"PoW\",\"PoW\",\"PoW\",\"PoS\",\"PoW\",\"PoW\",\"PoW/PoS\",\"PoW/PoS\",\"PoS\",\"PoW\",\"PoW\",\"PoW\",\"PoS\",\"PoS\",\"PoW and PoS\",\"PoW\",\"PoW\",\"PoW/PoS\",\"PoW\",\"PoW\",\"PoW\",\"PoW\",\"PoS\",\"POBh\",\"PoW + Hive\",\"PoW\",\"PoW\",\"PoW\",\"PoW/PoS\",\"PoA\",\"PoW/PoS\",\"PoW/PoS\",\"PoS\",\"PoS\",\"PoW\",\"PoW\",\"PoW\",\"PoW\",\"PoW/PoS\",\"PoW/PoS\",\"PoW/PoS\",\"PoW\",\"PoS\",\"PoW\",\"PoS\",\"PoS\",\"PoW/PoS\",\"DPoS\",\"PoW\",\"PoW/PoS\",\"PoS\",\"PoW\",\"PoS\",\"PoW/PoS\",\"PoW\",\"PoW\",\"PoS/PoW\",\"PoW\",\"PoS\",\"PoW\",\"PoW\",\"PoW\",\"PoW\",\"PoW/PoS\",\"PoS\",\"PoW\",\"PoW/PoS\",\"PoW\",\"PoW/PoS\",\"PoS\",\"HPoW\",\"PoS\",\"PoS\",\"PoS\",\"PoW\",\"PoW\",\"PoW\",\"PoW/PoS\",\"PoS\",\"PoW/PoS\",\"PoS\",\"PoW/PoS\",\"PoS\",\"PoW\",\"PoW/PoS\",\"PoW\",\"PoW\",\"PoW\",\"PoW\",\"PoS\",\"PoW/PoS\",\"PoS\",\"PoS\",\"PoW\",\"PoW/PoS\",\"PoS\",\"PoW\",\"PoW/PoS\",\"Zero-Knowledge Proof\",\"PoW\",\"DPOS\",\"PoW\",\"PoS\",\"PoW\",\"PoW\",\"Pos\",\"PoS\",\"PoW\",\"PoW/PoS\",\"PoW\",\"PoW\",\"PoS\",\"PoW\",\"PoW\",\"PoW/PoS\",\"PoW\",\"PoW/PoS\",\"PoW\",\"PoS\",\"PoW/PoS\",\"PoW\",\"PoS\",\"PoW/PoS\",\"PoW/PoS\",\"PoW/PoS\",\"PoW/PoS\",\"PoW\",\"PoW\",\"PoW\",\"PoW/PoS\",\"DPoS\",\"PoW/PoS\",\"PoW\",\"PoW/PoS\",\"PoW\",\"PoW/PoS\",\"PoW\",\"PoW/PoS\",\"PoS\",\"PoW/PoS\",\"PoW/PoS\",\"PoW\",\"PoW/PoS\",\"PoW/PoS\",\"PoW/PoS\",\"PoW\",\"PoW/PoS\",\"PoW\",\"PoW/PoS\",\"PoW\",\"PoW/PoS\",\"PoW/PoS\",\"PoS\",\"PoW\",\"PoW\",\"Proof of Trust\",\"PoW/PoS\",\"DPoS\",\"PoS\",\"PoW/PoS\",\"PoW/PoS\",\"PoW\",\"PoW/PoS\",\"PoW\",\"DPoS\",\"PoW\",\"DPoS\",\"PoS\",\"LPoS\",\"PoS\",\"DPoS\",\"PoS/LPoS\",\"DPoS\",\"PoW/PoS\",\"PoW\",\"PoW\",\"PoS\"],\"TotalCoinSupply\":[\"42\",\"532000000\",\"314159265359\",\"21000000\",\"0\",\"84000000\",\"22000000\",\"0\",\"210000000\",\"21000000\",\"3600570502\",\"21000000000\",\"22000000\",\"12500000\",\"21000000\",\"350000000\",\"20000000\",\"64000000\",\"16768584\",\"0\",\"2000000000\",\"384000000000\",\"169795588\",\"250000000\",\"100000000\",\"0\",\"247000000\",\"84000000\",\"48166000\",\"500000\",\"21000000 \",\"1000000\",\"13140000\",\"18000000\",\"40000000000\",\"4380000\",\"16555000000\",\"21000000000\",\"13500000000\",\"21000000 \",\"299792458\",\"32000000\",\"0\",\"0\",\"11235813\",\"336000000\",\"1420609614\",\"70000000\",\"72245700\",\"120000000\",\"0\",\"90600000000\",\"22000000\",\"21000000\",\"265420800\",\"20000000\",\"1350000\",\"100000000\",\"42000000\",\"200000000\",\"0\",\"10000000\",\"2419200000\",\"16180000\",\"0\",\"15000000000\",\"21000000\",\"337000000\",\"0\",\"3770000\",\"420000000\",\"98000000\",\"0\",\"21000000\",\"250000000\",\"51200000\",\"0\",\"1000\",\"888000000\",\"100000000\",\"47011968\",\"2300000000\",\"10000000\",\"42000000\",\"80000000\",\"250000\",\"0\",\"1600000000\",\"100000000\",\"23000000\",\"0\",\"84000000\",\"265420800\",\"5500000\",\"0\",\"45000000\",\"0\",\"1000000000\",\"184467440735\",\"10000000000\",\"2158812800\",\"500000000\",\"105120000\",\"68000000\",\"0\",\"1680000000\",\"0\",\"166386000\",\"12000000\",\"2628000\",\"500000000\",\"160000000\",\"0\",\"10000000\",\"1000000000\",\"1000000000\",\"20000000\",\"0\",\"0\",\"3371337\",\"20000000\",\"10000000000\",\"1840000000\",\"619478\",\"21000000\",\"92000000000\",\"0\",\"78000000\",\"33000000\",\"65789100\",\"53760000\",\"5060000\",\"21000000\",\"0\",\"210240000\",\"250000000\",\"100000000\",\"16906397\",\"50000000\",\"0\",\"1000000000\",\"26298000\",\"16000000\",\"21000000\",\"21000000\",\"210000000\",\"81962100\",\"22000000\",\"26550000000\",\"84000000\",\"10500000\",\"21626280000 \",\"0\",\"42000000\",\"221052632\",\"84000000\",\"30000000\",\"168351300\",\"24000000\",\"384000000\",\" 99000000000\",\"40000000\",\"2147483647\",\"20000000\",\"20000000\",\"25000000\",\"75000000\",\"222725000\",\"525000000\",\"90000000\",\"139000000\",\"616448\",\"33500000\",\"2000000000\",\"44333333\",\"100000000\",\"200000000\",\"25000000\",\"657000000\",\"200000000\",\"50000000\",\"90000000\",\"10000000\",\"21000000\",\"9736000\",\"3000000\",\"21000000\",\"1200000000\",\"0\",\"200000000\",\"0\",\"10638298\",\"3100000000\",\"30000000\",\"20000000000\",\"74000000\",\"0\",\"1500000000\",\"21400000\",\"39999898\",\"2500124\",\"100000000\",\"301000000\",\"7506000000\",\"26205539\",\"21000000\",\"125000000\",\"30000000\",\"10000000000\",\"500000000\",\"850000000\",\"3853326.77707314\",\"50000000\",\"38540000 \",\"42000000\",\"228000000\",\"20000000\",\"60000000\",\"20000000\",\"33000000\",\"76500000\",\"28000000\",\"650659833\",\"5000000\",\"21000000\",\"144000000\",\"32514916898\",\"13000000\",\"3315789\",\"15000000\",\"78835200\",\"2714286\",\"25000000\",\"9999999\",\"500000000\",\"21000000\",\"9354000\",\"20000000\",\"100000000000\",\"21933333\",\"185000000\",\"55000000\",\"110000000\",\"3360000\",\"14524851.4827\",\"1000000000\",\"17000000\",\"1000000000\",\"100000000 \",\"21000000\",\"34426423\",\"2232901\",\"100000000\",\"36900000\",\"110000000\",\"4000000000\",\"110290030\",\"100000000\",\"48252000\",\"400000000\",\"500000000\",\"21212121\",\"28600000\",\"1000000000\",\"75000000000\",\"40000000\",\"35520400\",\"2000000000\",\"2500000000\",\"30000000\",\"105000000\",\"90000000000\",\"200084200\",\"72000000\",\"100000000\",\"105000000\",\"50000000000\",\"0\",\"340282367\",\"30000000\",\"2000000000\",\"10000000\",\"100000000\",\"120000000\",\"100000000\",\"19276800\",\"30000000\",\" 75000000\",\"60000000\",\"18900000\",\"50000000000\",\"54000000\",\"18898187.6216583\",\"21000000\",\"200000000000\",\"5000000000\",\"137500000\",\"1100000000\",\"100000000\",\"21000000\",\"9507271\",\"17405891.19707116\",\"86712634466\",\"10500000000\",\"61599965\",\"0\",\"20000000\",\"84000000\",\"100000000\",\"100000000\",\"48252000\",\"4200000\",\"88888888\",\"91388946\",\"45000000000\",\"27000000\",\"21000000000\",\"400000000\",\"1800000000\",\"15733333\",\"27000000\",\"24000000\",\"21000000\",\"25000000000\",\"100000000\",\"1200000000\",\"60000000\",\"156306732.71\",\"21000000\",\"200000000\",\"100000000\",\"21000000\",\"14788275.991\",\"9000000000\",\"350000000\",\"45000000\",\"280000000\",\"31800000\",\"144000000\",\"500000000\",\"30000000000\",\"210000000\",\"660000000\",\"210000000\",\"85000000000\",\"12500000\",\"10000000000\",\"27716121\",\"20000000\",\"550000000\",\"999481516\",\"50000000000\",\"150000000\",\"4999999999\",\"50000000\",\" 90000000000\",\"19800000\",\"21000000\",\"120000000\",\"500000000\",\"64000000\",\"900000000\",\"4000000\",\"21000000\",\"23000000\",\"20166000\",\"23000000\",\"25000000\",\"1618033\",\"30000000\",\"1000000000000\",\"16600000\",\"232000000\",\"336000000\",\"10000000000\",\"100000000\",\"1100000000\",\"800000000\",\"5200000000\",\"840000000\",\"40000000\",\"18406979840\",\"500000000\",\"19340594\",\"252460800\",\"25000000\",\"60000000\",\"124000000\",\"1000000000\",\"6500000000\",\"1000000000\",\"21000000\",\"25000000\",\"50000000\",\"3000000\",\"5000000\",\"70000000\",\"500000000\",\"300000000\",\"21000000\",\"88000000\",\"30000000\",\"100000000\",\"100000000\",\"200000000\",\"80000000\",\"18400000\",\"45000000\",\"5121951220\",\"21000000\",\"26280000\",\"21000000\",\"18000000\",\"26000000\",\"10500000\",\"600000518\",\"150000000\",\"184000000000\",\"10200000000\",\"44000000\",\"168000000\",\"100000000\",\"1000000000\",\"84000000\",\"90000000\",\"92000000000\",\"650000000 \",\"100262205\",\"18081806 \",\"22075700\",\"21000000\",\"21000000\",\"82546564\",\"21000000\",\"5151000\",\"16880000000\",\"52500000\",\"100000000\",\"22105263\",\"1000000000\",\"1750000000\",\"88188888\",\"210000000\",\"184470000000\",\"55000000\",\"50000000\",\"260000000\",\"210000000\",\"2100000000\",\"366000000\",\"100000000\",\"25000000\",\"18000000000\",\"1000000000\",\"100000000\",\"1000000000\",\"7600000000\",\"50000000\",\"84000000\",\"21000000\",\"70000000000\",\"0\",\"8080000000\",\"54000000\",\"105120001.44\",\"25228800\",\"105000000\",\"21000000\",\"120000000\",\"21000000\",\"262800000\",\"19035999\",\"30886000\",\"13370000\",\"74800000000\",\"100000000\",\"19700000\",\"84000000\",\"500000000\",\"5000000000\",\"420000000\",\"64000000\",\"2100000\",\"168000000\",\"30000000\",\"1000000000\",\"35000000000\",\"98100000000\",\"0\",\"4000000000\",\"200000000\",\"7000000000\",\"54256119\",\"21000000\",\"0\",\"500000000\",\"1000000000\",\"10500000000\",\"190000000\",\"1000000000\",\"42000000\",\"15000000\",\"50000000000\",\"400000000\",\"105000000\",\"208000000\",\"160000000\",\"9000000\",\"5000000\",\"182000000\",\"16504333\",\"105000000\",\"159918400\",\"10008835635\",\"300000000\",\"60168145\",\"2800000\",\"120000\",\"2100000000\",\"0\",\"24487944\",\"0\",\"1000000000\",\"100000000\",\"8634140\",\"990000000000\",\"1000000000\",\"2000000000\",\"250000000\",\"1400222610\",\"21000000\",\"1000000\"],\"TotalCoinsMined\":{\"__ndarray__\":\"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\",\"dtype\":\"float64\",\"order\":\"little\",\"shape\":[532]}},\"selected\":{\"id\":\"5084\"},\"selection_policy\":{\"id\":\"5133\"}},\"id\":\"5083\",\"type\":\"ColumnDataSource\"},{\"attributes\":{},\"id\":\"5084\",\"type\":\"Selection\"},{\"attributes\":{\"editor\":{\"id\":\"5086\"},\"field\":\"Algorithm\",\"formatter\":{\"id\":\"5085\"},\"title\":\"Algorithm\"},\"id\":\"5087\",\"type\":\"TableColumn\"},{\"attributes\":{},\"id\":\"5091\",\"type\":\"StringEditor\"},{\"attributes\":{},\"id\":\"5086\",\"type\":\"StringEditor\"},{\"attributes\":{\"format\":\"0,0.0[00000]\"},\"id\":\"5095\",\"type\":\"NumberFormatter\"},{\"attributes\":{},\"id\":\"5090\",\"type\":\"StringFormatter\"},{\"attributes\":{},\"id\":\"5085\",\"type\":\"StringFormatter\"},{\"attributes\":{\"columns\":[{\"id\":\"5087\"},{\"id\":\"5092\"},{\"id\":\"5097\"},{\"id\":\"5102\"},{\"id\":\"5107\"},{\"id\":\"5112\"},{\"id\":\"5117\"},{\"id\":\"5122\"},{\"id\":\"5127\"}],\"height\":300,\"reorderable\":false,\"source\":{\"id\":\"5083\"},\"view\":{\"id\":\"5132\"},\"width\":700},\"id\":\"5130\",\"type\":\"DataTable\"},{\"attributes\":{\"format\":\"0,0.0[00000]\"},\"id\":\"5105\",\"type\":\"NumberFormatter\"},{\"attributes\":{},\"id\":\"5101\",\"type\":\"StringEditor\"},{\"attributes\":{\"editor\":{\"id\":\"5096\"},\"field\":\"TotalCoinsMined\",\"formatter\":{\"id\":\"5095\"},\"title\":\"TotalCoinsMined\"},\"id\":\"5097\",\"type\":\"TableColumn\"},{\"attributes\":{\"editor\":{\"id\":\"5091\"},\"field\":\"ProofType\",\"formatter\":{\"id\":\"5090\"},\"title\":\"ProofType\"},\"id\":\"5092\",\"type\":\"TableColumn\"},{\"attributes\":{},\"id\":\"5096\",\"type\":\"NumberEditor\"},{\"attributes\":{\"children\":[{\"id\":\"5082\"},{\"id\":\"5130\"},{\"id\":\"5137\"}],\"margin\":[0,0,0,0],\"name\":\"Row09558\",\"tags\":[\"embedded\"]},\"id\":\"5081\",\"type\":\"Row\"},{\"attributes\":{},\"id\":\"5111\",\"type\":\"NumberEditor\"},{\"attributes\":{},\"id\":\"5125\",\"type\":\"NumberFormatter\"},{\"attributes\":{},\"id\":\"5100\",\"type\":\"StringFormatter\"},{\"attributes\":{\"editor\":{\"id\":\"5106\"},\"field\":\"PC1\",\"formatter\":{\"id\":\"5105\"},\"title\":\"PC1\"},\"id\":\"5107\",\"type\":\"TableColumn\"},{\"attributes\":{\"editor\":{\"id\":\"5101\"},\"field\":\"TotalCoinSupply\",\"formatter\":{\"id\":\"5100\"},\"title\":\"TotalCoinSupply\"},\"id\":\"5102\",\"type\":\"TableColumn\"},{\"attributes\":{},\"id\":\"5106\",\"type\":\"NumberEditor\"},{\"attributes\":{\"editor\":{\"id\":\"5111\"},\"field\":\"PC2\",\"formatter\":{\"id\":\"5110\"},\"title\":\"PC2\"},\"id\":\"5112\",\"type\":\"TableColumn\"},{\"attributes\":{\"margin\":[5,5,5,5],\"name\":\"HSpacer09562\",\"sizing_mode\":\"stretch_width\"},\"id\":\"5082\",\"type\":\"Spacer\"},{\"attributes\":{},\"id\":\"5116\",\"type\":\"NumberEditor\"},{\"attributes\":{\"format\":\"0,0.0[00000]\"},\"id\":\"5110\",\"type\":\"NumberFormatter\"},{\"attributes\":{\"editor\":{\"id\":\"5116\"},\"field\":\"PC3\",\"formatter\":{\"id\":\"5115\"},\"title\":\"PC3\"},\"id\":\"5117\",\"type\":\"TableColumn\"},{\"attributes\":{},\"id\":\"5121\",\"type\":\"StringEditor\"},{\"attributes\":{\"margin\":[5,5,5,5],\"name\":\"HSpacer09563\",\"sizing_mode\":\"stretch_width\"},\"id\":\"5137\",\"type\":\"Spacer\"},{\"attributes\":{\"format\":\"0,0.0[00000]\"},\"id\":\"5115\",\"type\":\"NumberFormatter\"},{\"attributes\":{},\"id\":\"5133\",\"type\":\"UnionRenderers\"},{\"attributes\":{\"editor\":{\"id\":\"5126\"},\"field\":\"Class\",\"formatter\":{\"id\":\"5125\"},\"title\":\"Class\"},\"id\":\"5127\",\"type\":\"TableColumn\"},{\"attributes\":{\"editor\":{\"id\":\"5121\"},\"field\":\"CoinName\",\"formatter\":{\"id\":\"5120\"},\"title\":\"CoinName\"},\"id\":\"5122\",\"type\":\"TableColumn\"},{\"attributes\":{},\"id\":\"5120\",\"type\":\"StringFormatter\"},{\"attributes\":{},\"id\":\"5126\",\"type\":\"IntEditor\"},{\"attributes\":{\"source\":{\"id\":\"5083\"}},\"id\":\"5132\",\"type\":\"CDSView\"}],\"root_ids\":[\"5081\"]},\"title\":\"Bokeh Application\",\"version\":\"2.4.1\"}};\n",
       "    var render_items = [{\"docid\":\"52997613-f132-4b5e-8de5-61ea0888d495\",\"root_ids\":[\"5081\"],\"roots\":{\"5081\":\"4ee6e029-e788-49fe-afbd-a925fe31dac6\"}}];\n",
       "    root.Bokeh.embed.embed_items_notebook(docs_json, render_items);\n",
       "  }\n",
       "  if (root.Bokeh !== undefined && root.Bokeh.Panel !== undefined) {\n",
       "    embed_document(root);\n",
       "  } else {\n",
       "    var attempts = 0;\n",
       "    var timer = setInterval(function(root) {\n",
       "      if (root.Bokeh !== undefined && root.Bokeh.Panel !== undefined) {\n",
       "        clearInterval(timer);\n",
       "        embed_document(root);\n",
       "      } else if (document.readyState == \"complete\") {\n",
       "        attempts++;\n",
       "        if (attempts > 200) {\n",
       "          clearInterval(timer);\n",
       "          console.log(\"Bokeh: ERROR: Unable to run BokehJS code because BokehJS library is missing\");\n",
       "        }\n",
       "      }\n",
       "    }, 25, root)\n",
       "  }\n",
       "})(window);</script>"
      ],
      "text/plain": [
       ":Table   [Algorithm,ProofType,TotalCoinsMined,TotalCoinSupply,PC1,PC2,PC3,CoinName,Class]"
      ]
     },
     "execution_count": 177,
     "metadata": {
      "application/vnd.holoviews_exec.v0+json": {
       "id": "5081"
      }
     },
     "output_type": "execute_result"
    }
   ],
   "source": [
    "# Create a table with tradable cryptocurrencies.\n",
    "clustered_df.hvplot.table(sortable=True, selectable=True)"
   ]
  },
  {
   "cell_type": "code",
   "execution_count": 178,
   "metadata": {},
   "outputs": [
    {
     "name": "stdout",
     "output_type": "stream",
     "text": [
      "<bound method DataFrame.count of         Algorithm ProofType  TotalCoinsMined TotalCoinSupply       PC1  \\\n",
      "42         Scrypt   PoW/PoS     4.199995e+01              42 -0.339943   \n",
      "404        Scrypt   PoW/PoS     1.055185e+09       532000000 -0.323215   \n",
      "1337          X13   PoW/PoS     2.927942e+10    314159265359  2.332563   \n",
      "BTC       SHA-256       PoW     1.792718e+07        21000000 -0.123841   \n",
      "ETH        Ethash       PoW     1.076842e+08               0 -0.174331   \n",
      "...           ...       ...              ...             ...       ...   \n",
      "ZEPH      SHA-256      DPoS     2.000000e+09      2000000000  2.438012   \n",
      "GAP        Scrypt   PoW/PoS     1.493105e+07       250000000 -0.337982   \n",
      "BDX   CryptoNight       PoW     9.802226e+08      1400222610  0.318239   \n",
      "ZEN      Equihash       PoW     7.296538e+06        21000000 -0.175495   \n",
      "XBC        Scrypt       PoS     1.283270e+05         1000000 -0.305082   \n",
      "\n",
      "           PC2       PC3     CoinName  Class  \n",
      "42    1.028747 -0.491348      42 Coin      0  \n",
      "404   1.029010 -0.491799      404Coin      0  \n",
      "1337  1.551377 -0.668684    EliteCoin      0  \n",
      "BTC  -1.292523  0.111217      Bitcoin      1  \n",
      "ETH  -2.204829  0.355806     Ethereum      1  \n",
      "...        ...       ...          ...    ...  \n",
      "ZEPH  0.845794 -0.068695       ZEPHYR      0  \n",
      "GAP   1.028626 -0.491379      Gapcoin      0  \n",
      "BDX  -2.377843  0.381377       Beldex      1  \n",
      "ZEN  -1.897310  0.344036      Horizen      1  \n",
      "XBC   0.865642 -0.176673  BitcoinPlus      0  \n",
      "\n",
      "[532 rows x 9 columns]>\n"
     ]
    }
   ],
   "source": [
    "# Print the total number of tradable cryptocurrencies.\n",
    "print(clustered_df.count)"
   ]
  },
  {
   "cell_type": "code",
   "execution_count": 179,
   "metadata": {},
   "outputs": [
    {
     "name": "stdout",
     "output_type": "stream",
     "text": [
      "[[4.20000000e-11 0.00000000e+00]\n",
      " [5.32000000e-04 1.06585544e-03]\n",
      " [3.14159265e-01 2.95755135e-02]\n",
      " ...\n",
      " [1.40022261e-03 9.90135079e-04]\n",
      " [2.10000000e-05 7.37028150e-06]\n",
      " [1.00000000e-06 1.29582282e-07]]\n"
     ]
    }
   ],
   "source": [
    "# Scaling data to create the scatter plot with tradable cryptocurrencies.\n",
    "scaled =MinMaxScaler().fit_transform(clustered_df[[\"TotalCoinSupply\",\"TotalCoinsMined\"]])\n",
    "print(scaled)"
   ]
  },
  {
   "cell_type": "code",
   "execution_count": 180,
   "metadata": {},
   "outputs": [
    {
     "data": {
      "text/html": [
       "<div>\n",
       "<style scoped>\n",
       "    .dataframe tbody tr th:only-of-type {\n",
       "        vertical-align: middle;\n",
       "    }\n",
       "\n",
       "    .dataframe tbody tr th {\n",
       "        vertical-align: top;\n",
       "    }\n",
       "\n",
       "    .dataframe thead th {\n",
       "        text-align: right;\n",
       "    }\n",
       "</style>\n",
       "<table border=\"1\" class=\"dataframe\">\n",
       "  <thead>\n",
       "    <tr style=\"text-align: right;\">\n",
       "      <th></th>\n",
       "      <th>TotalCoinSupply</th>\n",
       "      <th>TotalCoinsMined</th>\n",
       "      <th>CoinName</th>\n",
       "      <th>Class</th>\n",
       "    </tr>\n",
       "  </thead>\n",
       "  <tbody>\n",
       "    <tr>\n",
       "      <th>42</th>\n",
       "      <td>4.200000e-11</td>\n",
       "      <td>0.000000</td>\n",
       "      <td>42 Coin</td>\n",
       "      <td>0</td>\n",
       "    </tr>\n",
       "    <tr>\n",
       "      <th>404</th>\n",
       "      <td>5.320000e-04</td>\n",
       "      <td>0.001066</td>\n",
       "      <td>404Coin</td>\n",
       "      <td>0</td>\n",
       "    </tr>\n",
       "    <tr>\n",
       "      <th>1337</th>\n",
       "      <td>3.141593e-01</td>\n",
       "      <td>0.029576</td>\n",
       "      <td>EliteCoin</td>\n",
       "      <td>0</td>\n",
       "    </tr>\n",
       "    <tr>\n",
       "      <th>BTC</th>\n",
       "      <td>2.100000e-05</td>\n",
       "      <td>0.000018</td>\n",
       "      <td>Bitcoin</td>\n",
       "      <td>1</td>\n",
       "    </tr>\n",
       "    <tr>\n",
       "      <th>ETH</th>\n",
       "      <td>0.000000e+00</td>\n",
       "      <td>0.000109</td>\n",
       "      <td>Ethereum</td>\n",
       "      <td>1</td>\n",
       "    </tr>\n",
       "    <tr>\n",
       "      <th>LTC</th>\n",
       "      <td>8.400000e-05</td>\n",
       "      <td>0.000064</td>\n",
       "      <td>Litecoin</td>\n",
       "      <td>1</td>\n",
       "    </tr>\n",
       "    <tr>\n",
       "      <th>DASH</th>\n",
       "      <td>2.200000e-05</td>\n",
       "      <td>0.000009</td>\n",
       "      <td>Dash</td>\n",
       "      <td>0</td>\n",
       "    </tr>\n",
       "    <tr>\n",
       "      <th>XMR</th>\n",
       "      <td>0.000000e+00</td>\n",
       "      <td>0.000017</td>\n",
       "      <td>Monero</td>\n",
       "      <td>1</td>\n",
       "    </tr>\n",
       "    <tr>\n",
       "      <th>ETC</th>\n",
       "      <td>2.100000e-04</td>\n",
       "      <td>0.000115</td>\n",
       "      <td>Ethereum Classic</td>\n",
       "      <td>1</td>\n",
       "    </tr>\n",
       "    <tr>\n",
       "      <th>ZEC</th>\n",
       "      <td>2.100000e-05</td>\n",
       "      <td>0.000007</td>\n",
       "      <td>ZCash</td>\n",
       "      <td>1</td>\n",
       "    </tr>\n",
       "  </tbody>\n",
       "</table>\n",
       "</div>"
      ],
      "text/plain": [
       "      TotalCoinSupply  TotalCoinsMined          CoinName  Class\n",
       "42       4.200000e-11         0.000000           42 Coin      0\n",
       "404      5.320000e-04         0.001066           404Coin      0\n",
       "1337     3.141593e-01         0.029576         EliteCoin      0\n",
       "BTC      2.100000e-05         0.000018           Bitcoin      1\n",
       "ETH      0.000000e+00         0.000109          Ethereum      1\n",
       "LTC      8.400000e-05         0.000064          Litecoin      1\n",
       "DASH     2.200000e-05         0.000009              Dash      0\n",
       "XMR      0.000000e+00         0.000017            Monero      1\n",
       "ETC      2.100000e-04         0.000115  Ethereum Classic      1\n",
       "ZEC      2.100000e-05         0.000007             ZCash      1"
      ]
     },
     "execution_count": 180,
     "metadata": {},
     "output_type": "execute_result"
    }
   ],
   "source": [
    "# Create a new DataFrame that has the scaled data with the clustered_df DataFrame index.\n",
    "new_df = pd.DataFrame(\n",
    "    data = scaled,columns = [\"TotalCoinSupply\",\"TotalCoinsMined\"], index = clustered_df.index)\n",
    "\n",
    "# Add the \"CoinName\" column from the clustered_df DataFrame to the new DataFrame.\n",
    "new_df = pd.concat([new_df,clustered_df['CoinName']],axis =1)\n",
    "\n",
    "# Add the \"Class\" column from the clustered_df DataFrame to the new DataFrame. \n",
    "plot_df = pd.concat([new_df,clustered_df[\"Class\"]],axis =1)\n",
    "\n",
    "plot_df.head(10)"
   ]
  },
  {
   "cell_type": "code",
   "execution_count": 181,
   "metadata": {},
   "outputs": [
    {
     "data": {},
     "metadata": {},
     "output_type": "display_data"
    },
    {
     "data": {
      "application/vnd.holoviews_exec.v0+json": "",
      "text/html": [
       "<div id='5149'>\n",
       "\n",
       "\n",
       "\n",
       "\n",
       "\n",
       "  <div class=\"bk-root\" id=\"d6ddc638-97cc-474a-b66a-17bea7aa88db\" data-root-id=\"5149\"></div>\n",
       "</div>\n",
       "<script type=\"application/javascript\">(function(root) {\n",
       "  function embed_document(root) {\n",
       "    var docs_json = {\"30071839-955a-427c-9d06-1bc04a905288\":{\"defs\":[{\"extends\":null,\"module\":null,\"name\":\"ReactiveHTML1\",\"overrides\":[],\"properties\":[]},{\"extends\":null,\"module\":null,\"name\":\"FlexBox1\",\"overrides\":[],\"properties\":[{\"default\":\"flex-start\",\"kind\":null,\"name\":\"align_content\"},{\"default\":\"flex-start\",\"kind\":null,\"name\":\"align_items\"},{\"default\":\"row\",\"kind\":null,\"name\":\"flex_direction\"},{\"default\":\"wrap\",\"kind\":null,\"name\":\"flex_wrap\"},{\"default\":\"flex-start\",\"kind\":null,\"name\":\"justify_content\"}]},{\"extends\":null,\"module\":null,\"name\":\"TemplateActions1\",\"overrides\":[],\"properties\":[{\"default\":0,\"kind\":null,\"name\":\"open_modal\"},{\"default\":0,\"kind\":null,\"name\":\"close_modal\"}]},{\"extends\":null,\"module\":null,\"name\":\"MaterialTemplateActions1\",\"overrides\":[],\"properties\":[{\"default\":0,\"kind\":null,\"name\":\"open_modal\"},{\"default\":0,\"kind\":null,\"name\":\"close_modal\"}]}],\"roots\":{\"references\":[{\"attributes\":{\"fill_alpha\":{\"value\":0.1},\"fill_color\":{\"value\":\"#30a2da\"},\"hatch_alpha\":{\"value\":0.1},\"hatch_color\":{\"value\":\"#30a2da\"},\"line_alpha\":{\"value\":0.1},\"line_color\":{\"value\":\"#30a2da\"},\"size\":{\"value\":5.477225575051661},\"x\":{\"field\":\"TotalCoinsMined\"},\"y\":{\"field\":\"TotalCoinSupply\"}},\"id\":\"5197\",\"type\":\"Scatter\"},{\"attributes\":{},\"id\":\"5208\",\"type\":\"UnionRenderers\"},{\"attributes\":{},\"id\":\"5189\",\"type\":\"AllLabels\"},{\"attributes\":{},\"id\":\"5281\",\"type\":\"UnionRenderers\"},{\"attributes\":{},\"id\":\"5164\",\"type\":\"LinearScale\"},{\"attributes\":{\"fill_alpha\":{\"value\":0.2},\"fill_color\":{\"value\":\"#30a2da\"},\"hatch_alpha\":{\"value\":0.2},\"hatch_color\":{\"value\":\"#30a2da\"},\"line_alpha\":{\"value\":0.2},\"line_color\":{\"value\":\"#30a2da\"},\"size\":{\"value\":5.477225575051661},\"x\":{\"field\":\"TotalCoinsMined\"},\"y\":{\"field\":\"TotalCoinSupply\"}},\"id\":\"5198\",\"type\":\"Scatter\"},{\"attributes\":{\"coordinates\":null,\"group\":null,\"text_color\":\"black\",\"text_font_size\":\"12pt\"},\"id\":\"5158\",\"type\":\"Title\"},{\"attributes\":{\"click_policy\":\"mute\",\"coordinates\":null,\"group\":null,\"items\":[{\"id\":\"5212\"},{\"id\":\"5234\"},{\"id\":\"5258\"},{\"id\":\"5284\"}],\"location\":[0,0],\"title\":\"Class\"},\"id\":\"5211\",\"type\":\"Legend\"},{\"attributes\":{\"source\":{\"id\":\"5214\"}},\"id\":\"5221\",\"type\":\"CDSView\"},{\"attributes\":{\"label\":{\"value\":\"3\"},\"renderers\":[{\"id\":\"5266\"}]},\"id\":\"5284\",\"type\":\"LegendItem\"},{\"attributes\":{},\"id\":\"5175\",\"type\":\"PanTool\"},{\"attributes\":{\"source\":{\"id\":\"5260\"}},\"id\":\"5267\",\"type\":\"CDSView\"},{\"attributes\":{\"fill_alpha\":{\"value\":0.2},\"fill_color\":{\"value\":\"#6d904f\"},\"hatch_alpha\":{\"value\":0.2},\"hatch_color\":{\"value\":\"#6d904f\"},\"line_alpha\":{\"value\":0.2},\"line_color\":{\"value\":\"#6d904f\"},\"size\":{\"value\":5.477225575051661},\"x\":{\"field\":\"TotalCoinsMined\"},\"y\":{\"field\":\"TotalCoinSupply\"}},\"id\":\"5265\",\"type\":\"Scatter\"},{\"attributes\":{\"coordinates\":null,\"data_source\":{\"id\":\"5236\"},\"glyph\":{\"id\":\"5239\"},\"group\":null,\"hover_glyph\":null,\"muted_glyph\":{\"id\":\"5241\"},\"nonselection_glyph\":{\"id\":\"5240\"},\"selection_glyph\":{\"id\":\"5259\"},\"view\":{\"id\":\"5243\"}},\"id\":\"5242\",\"type\":\"GlyphRenderer\"},{\"attributes\":{\"label\":{\"value\":\"2\"},\"renderers\":[{\"id\":\"5242\"}]},\"id\":\"5258\",\"type\":\"LegendItem\"},{\"attributes\":{\"coordinates\":null,\"data_source\":{\"id\":\"5260\"},\"glyph\":{\"id\":\"5263\"},\"group\":null,\"hover_glyph\":null,\"muted_glyph\":{\"id\":\"5265\"},\"nonselection_glyph\":{\"id\":\"5264\"},\"selection_glyph\":{\"id\":\"5285\"},\"view\":{\"id\":\"5267\"}},\"id\":\"5266\",\"type\":\"GlyphRenderer\"},{\"attributes\":{},\"id\":\"5191\",\"type\":\"BasicTickFormatter\"},{\"attributes\":{\"fill_color\":{\"value\":\"#6d904f\"},\"hatch_color\":{\"value\":\"#6d904f\"},\"line_color\":{\"value\":\"#6d904f\"},\"size\":{\"value\":5.477225575051661},\"x\":{\"field\":\"TotalCoinsMined\"},\"y\":{\"field\":\"TotalCoinSupply\"}},\"id\":\"5263\",\"type\":\"Scatter\"},{\"attributes\":{\"tools\":[{\"id\":\"5153\"},{\"id\":\"5174\"},{\"id\":\"5175\"},{\"id\":\"5176\"},{\"id\":\"5177\"},{\"id\":\"5178\"}]},\"id\":\"5180\",\"type\":\"Toolbar\"},{\"attributes\":{\"fill_alpha\":{\"value\":0.1},\"fill_color\":{\"value\":\"#6d904f\"},\"hatch_alpha\":{\"value\":0.1},\"hatch_color\":{\"value\":\"#6d904f\"},\"line_alpha\":{\"value\":0.1},\"line_color\":{\"value\":\"#6d904f\"},\"size\":{\"value\":5.477225575051661},\"x\":{\"field\":\"TotalCoinsMined\"},\"y\":{\"field\":\"TotalCoinSupply\"}},\"id\":\"5264\",\"type\":\"Scatter\"},{\"attributes\":{\"label\":{\"value\":\"1\"},\"renderers\":[{\"id\":\"5220\"}]},\"id\":\"5234\",\"type\":\"LegendItem\"},{\"attributes\":{\"coordinates\":null,\"data_source\":{\"id\":\"5214\"},\"glyph\":{\"id\":\"5217\"},\"group\":null,\"hover_glyph\":null,\"muted_glyph\":{\"id\":\"5219\"},\"nonselection_glyph\":{\"id\":\"5218\"},\"selection_glyph\":{\"id\":\"5235\"},\"view\":{\"id\":\"5221\"}},\"id\":\"5220\",\"type\":\"GlyphRenderer\"},{\"attributes\":{\"data\":{\"Class\":[2],\"CoinName\":[\"BitTorrent\"],\"TotalCoinSupply\":{\"__ndarray__\":\"rkfhehSu7z8=\",\"dtype\":\"float64\",\"order\":\"little\",\"shape\":[1]},\"TotalCoinsMined\":{\"__ndarray__\":\"AAAAAAAA8D8=\",\"dtype\":\"float64\",\"order\":\"little\",\"shape\":[1]}},\"selected\":{\"id\":\"5237\"},\"selection_policy\":{\"id\":\"5255\"}},\"id\":\"5236\",\"type\":\"ColumnDataSource\"},{\"attributes\":{\"fill_color\":{\"value\":\"#fc4f30\"},\"hatch_color\":{\"value\":\"#fc4f30\"},\"line_color\":{\"value\":\"#fc4f30\"},\"size\":{\"value\":5.477225575051661},\"x\":{\"field\":\"TotalCoinsMined\"},\"y\":{\"field\":\"TotalCoinSupply\"}},\"id\":\"5217\",\"type\":\"Scatter\"},{\"attributes\":{},\"id\":\"5192\",\"type\":\"AllLabels\"},{\"attributes\":{\"axis\":{\"id\":\"5166\"},\"coordinates\":null,\"grid_line_color\":null,\"group\":null,\"ticker\":null},\"id\":\"5169\",\"type\":\"Grid\"},{\"attributes\":{\"angle\":{\"value\":0.0},\"fill_alpha\":{\"value\":1.0},\"fill_color\":{\"value\":\"#e5ae38\"},\"hatch_alpha\":{\"value\":1.0},\"hatch_color\":{\"value\":\"#e5ae38\"},\"hatch_scale\":{\"value\":12.0},\"hatch_weight\":{\"value\":1.0},\"line_alpha\":{\"value\":1.0},\"line_cap\":{\"value\":\"butt\"},\"line_color\":{\"value\":\"#e5ae38\"},\"line_dash\":{\"value\":[]},\"line_dash_offset\":{\"value\":0},\"line_join\":{\"value\":\"bevel\"},\"line_width\":{\"value\":1},\"marker\":{\"value\":\"circle\"},\"size\":{\"value\":5.477225575051661},\"x\":{\"field\":\"TotalCoinsMined\"},\"y\":{\"field\":\"TotalCoinSupply\"}},\"id\":\"5259\",\"type\":\"Scatter\"},{\"attributes\":{\"fill_alpha\":{\"value\":0.1},\"fill_color\":{\"value\":\"#fc4f30\"},\"hatch_alpha\":{\"value\":0.1},\"hatch_color\":{\"value\":\"#fc4f30\"},\"line_alpha\":{\"value\":0.1},\"line_color\":{\"value\":\"#fc4f30\"},\"size\":{\"value\":5.477225575051661},\"x\":{\"field\":\"TotalCoinsMined\"},\"y\":{\"field\":\"TotalCoinSupply\"}},\"id\":\"5218\",\"type\":\"Scatter\"},{\"attributes\":{\"fill_alpha\":{\"value\":0.1},\"fill_color\":{\"value\":\"#e5ae38\"},\"hatch_alpha\":{\"value\":0.1},\"hatch_color\":{\"value\":\"#e5ae38\"},\"line_alpha\":{\"value\":0.1},\"line_color\":{\"value\":\"#e5ae38\"},\"size\":{\"value\":5.477225575051661},\"x\":{\"field\":\"TotalCoinsMined\"},\"y\":{\"field\":\"TotalCoinSupply\"}},\"id\":\"5240\",\"type\":\"Scatter\"},{\"attributes\":{\"fill_alpha\":{\"value\":0.2},\"fill_color\":{\"value\":\"#fc4f30\"},\"hatch_alpha\":{\"value\":0.2},\"hatch_color\":{\"value\":\"#fc4f30\"},\"line_alpha\":{\"value\":0.2},\"line_color\":{\"value\":\"#fc4f30\"},\"size\":{\"value\":5.477225575051661},\"x\":{\"field\":\"TotalCoinsMined\"},\"y\":{\"field\":\"TotalCoinSupply\"}},\"id\":\"5219\",\"type\":\"Scatter\"},{\"attributes\":{\"coordinates\":null,\"data_source\":{\"id\":\"5193\"},\"glyph\":{\"id\":\"5196\"},\"group\":null,\"hover_glyph\":null,\"muted_glyph\":{\"id\":\"5198\"},\"nonselection_glyph\":{\"id\":\"5197\"},\"selection_glyph\":{\"id\":\"5213\"},\"view\":{\"id\":\"5200\"}},\"id\":\"5199\",\"type\":\"GlyphRenderer\"},{\"attributes\":{\"data\":{\"Class\":[3,3,3,3,3],\"CoinName\":[\"BiblePay\",\"LitecoinCash\",\"Poa Network\",\"Acute Angle Cloud\",\"Waves\"],\"TotalCoinSupply\":{\"__ndarray__\":\"lPYGX5hMdT+8eapDboZLP4RaKOGWizA//Knx0k1iUD8sQxzr4jYaPw==\",\"dtype\":\"float64\",\"order\":\"little\",\"shape\":[5]},\"TotalCoinsMined\":{\"__ndarray__\":\"j1gNkdpTXT+QpMXySiFFP5wZJXiPEis/ekNDBbiMUD/7RX5gv3oaPw==\",\"dtype\":\"float64\",\"order\":\"little\",\"shape\":[5]}},\"selected\":{\"id\":\"5261\"},\"selection_policy\":{\"id\":\"5281\"}},\"id\":\"5260\",\"type\":\"ColumnDataSource\"},{\"attributes\":{},\"id\":\"5231\",\"type\":\"UnionRenderers\"},{\"attributes\":{\"data\":{\"Class\":[0,0,0,0,0,0,0,0,0,0,0,0,0,0,0,0,0,0,0,0,0,0,0,0,0,0,0,0,0,0,0,0,0,0,0,0,0,0,0,0,0,0,0,0,0,0,0,0,0,0,0,0,0,0,0,0,0,0,0,0,0,0,0,0,0,0,0,0,0,0,0,0,0,0,0,0,0,0,0,0,0,0,0,0,0,0,0,0,0,0,0,0,0,0,0,0,0,0,0,0,0,0,0,0,0,0,0,0,0,0,0,0,0,0,0,0,0,0,0,0,0,0,0,0,0,0,0,0,0,0,0,0,0,0,0,0,0,0,0,0,0,0,0,0,0,0,0,0,0,0,0,0,0,0,0,0,0,0,0,0,0,0,0,0,0,0,0,0,0,0,0,0,0,0,0,0,0,0,0,0,0,0,0,0,0,0,0,0,0,0,0,0,0,0,0,0,0,0,0,0,0,0,0,0,0,0,0,0,0,0,0,0,0,0,0,0,0,0,0,0,0,0,0,0,0,0,0,0,0,0,0,0,0,0,0,0,0,0,0,0,0,0,0,0,0,0,0,0,0,0,0,0,0,0,0,0,0,0,0,0,0,0,0,0,0,0,0,0,0,0,0,0,0,0,0,0,0,0,0,0,0,0,0,0,0,0],\"CoinName\":[\"42 Coin\",\"404Coin\",\"EliteCoin\",\"Dash\",\"Bitshares\",\"BitcoinDark\",\"PayCoin\",\"KoboCoin\",\"Aurora Coin\",\"BlueCoin\",\"EnergyCoin\",\"BitBar\",\"CryptoBullion\",\"CasinoCoin\",\"Diamond\",\"Exclusive Coin\",\"FlutterCoin\",\"HoboNickels\",\"HyperStake\",\"IOCoin\",\"MaxCoin\",\"MintCoin\",\"MazaCoin\",\"Nautilus Coin\",\"NavCoin\",\"OpalCoin\",\"Orbitcoin\",\"PotCoin\",\"PhoenixCoin\",\"Reddcoin\",\"SuperCoin\",\"SyncCoin\",\"TeslaCoin\",\"TittieCoin\",\"TorCoin\",\"UnitaryStatus Dollar\",\"UltraCoin\",\"VeriCoin\",\"X11 Coin\",\"Crypti\",\"StealthCoin\",\"ZCC Coin\",\"BurstCoin\",\"StorjCoin\",\"Neutron\",\"FairCoin\",\"RubyCoin\",\"Kore\",\"Dnotes\",\"8BIT Coin\",\"Sativa Coin\",\"Ucoin\",\"Vtorrent\",\"IslaCoin\",\"Nexus\",\"Droidz\",\"Squall Coin\",\"Diggits\",\"Paycon\",\"Emercoin\",\"EverGreenCoin\",\"Decred\",\"EDRCoin\",\"Hitcoin\",\"DubaiCoin\",\"PWR Coin\",\"BillaryCoin\",\"GPU Coin\",\"EuropeCoin\",\"ZeitCoin\",\"SwingCoin\",\"SafeExchangeCoin\",\"Nebuchadnezzar\",\"Ratecoin\",\"Revenu\",\"Clockcoin\",\"VIP Tokens\",\"BitSend\",\"Let it Ride\",\"PutinCoin\",\"iBankCoin\",\"Frankywillcoin\",\"MudraCoin\",\"Lutetium Coin\",\"GoldBlocks\",\"CarterCoin\",\"BitTokens\",\"MustangCoin\",\"ZoneCoin\",\"RootCoin\",\"BitCurrency\",\"Swiscoin\",\"BuzzCoin\",\"Opair\",\"PesoBit\",\"Halloween Coin\",\"CoffeeCoin\",\"RoyalCoin\",\"GanjaCoin V2\",\"TeamUP\",\"LanaCoin\",\"ARK\",\"InsaneCoin\",\"EmberCoin\",\"XenixCoin\",\"FreeCoin\",\"PLNCoin\",\"AquariusCoin\",\"Creatio\",\"Eternity\",\"Eurocoin\",\"BitcoinFast\",\"Stakenet\",\"BitConnect Coin\",\"MoneyCoin\",\"Enigma\",\"Russiacoin\",\"PandaCoin\",\"GameUnits\",\"GAKHcoin\",\"Allsafe\",\"LiteCreed\",\"Klingon Empire Darsek\",\"Internet of People\",\"KushCoin\",\"Printerium\",\"Impeach\",\"Zilbercoin\",\"FirstCoin\",\"FindCoin\",\"OpenChat\",\"RenosCoin\",\"VirtacoinPlus\",\"TajCoin\",\"Impact\",\"Atmos\",\"HappyCoin\",\"MacronCoin\",\"Condensate\",\"Independent Money System\",\"ArgusCoin\",\"LomoCoin\",\"ProCurrency\",\"GoldReserve\",\"GrowthCoin\",\"Phreak\",\"Degas Coin\",\"HTML5 Coin\",\"Ultimate Secure Cash\",\"QTUM\",\"Espers\",\"Denarius\",\"Virta Unique Coin\",\"Bitcoin Planet\",\"BritCoin\",\"Linda\",\"DeepOnion\",\"Signatum\",\"Cream\",\"Monoeci\",\"Draftcoin\",\"Stakecoin\",\"CoinonatX\",\"Ethereum Dark\",\"Obsidian\",\"Cardano\",\"Regalcoin\",\"TrezarCoin\",\"TerraNovaCoin\",\"Rupee\",\"WomenCoin\",\"Theresa May Coin\",\"NamoCoin\",\"LUXCoin\",\"Xios\",\"Bitcloud 2.0\",\"KekCoin\",\"BlackholeCoin\",\"Infinity Economics\",\"Magnet\",\"Lamden Tau\",\"Electra\",\"Bitcoin Diamond\",\"Cash & Back Coin\",\"Bulwark\",\"Kalkulus\",\"GermanCoin\",\"LiteCoin Ultra\",\"PhantomX\",\"Digiwage\",\"Trollcoin\",\"Litecoin Plus\",\"Monkey Project\",\"TokenPay\",\"My Big Coin\",\"Unified Society USDEX\",\"Tokyo Coin\",\"Stipend\",\"Pushi\",\"Ellerium\",\"Velox\",\"Ontology\",\"Bitspace\",\"Briacoin\",\"Ignition\",\"MedicCoin\",\"Bitcoin Green\",\"Deviant Coin\",\"Abjcoin\",\"Semux\",\"Carebit\",\"Zealium\",\"Proton\",\"iDealCash\",\"Bitcoin Incognito\",\"HollyWoodCoin\",\"Swisscoin\",\"Xt3ch\",\"TheVig\",\"EmaratCoin\",\"Dekado\",\"Lynx\",\"Poseidon Quark\",\"BitcoinWSpectrum\",\"Muse\",\"Trivechain\",\"Dystem\",\"Giant\",\"Peony Coin\",\"Absolute Coin\",\"Vitae\",\"TPCash\",\"ARENON\",\"EUNO\",\"MMOCoin\",\"Ketan\",\"XDNA\",\"PAXEX\",\"ThunderStake\",\"Kcash\",\"Bettex coin\",\"BitMoney\",\"Junson Ming Chan Coin\",\"HerbCoin\",\"PirateCash\",\"Oduwa\",\"Galilel\",\"Crypto Sports\",\"Credit\",\"Dash Platinum\",\"Nasdacoin\",\"Beetle Coin\",\"Titan Coin\",\"Award\",\"Insane Coin\",\"ALAX\",\"LiteDoge\",\"TruckCoin\",\"OrangeCoin\",\"BitstarCoin\",\"NeosCoin\",\"HyperCoin\",\"PinkCoin\",\"AudioCoin\",\"IncaKoin\",\"Piggy Coin\",\"Genstake\",\"XiaoMiCoin\",\"CapriCoin\",\" ClubCoin\",\"Radium\",\"Creditbit \",\"OKCash\",\"Lisk\",\"HiCoin\",\"WhiteCoin\",\"FriendshipCoin\",\"Triangles Coin\",\"EOS\",\"Oxycoin\",\"TigerCash\",\"Particl\",\"Nxt\",\"ZEPHYR\",\"Gapcoin\",\"BitcoinPlus\"],\"TotalCoinSupply\":{\"__ndarray__\":\"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\",\"dtype\":\"float64\",\"order\":\"little\",\"shape\":[286]},\"TotalCoinsMined\":{\"__ndarray__\":\"AAAAAAAAAADVQ6eRhXZRP0gFXx0LSZ4/fb2YAaYh4z6ruJV6oa9mP4fxacJq17U+W7PlNwxp6T7W0pn52A37PoFADD9SNfM+Y2BMhDkIRT+TanQDD0sgP35ukl9tEWc+7S9W9+ubsT49x1z95a+kP28YHhABAMw+ye+KsSkQ2D76DhvNkpI+P1ecpQYuoxc/Ypyz9GrHWz/7kyPDCLLyPpO8/kFBRRA/0/9nDoYGlj/8i/ixXrVaP7x4IiUyI/E+j6uxX+B/ET9yUL0Vow3wPvxfgvURSss+cvkNgl17LT+LzHsEg5UTPwaytCCdUp4/8TiBm6/aCj9doxA1Q7ITPkOS6FanQBU/dL+NX1fZWj+VBQyzwkO4PlcDUAL0L1I/fTIxK6KaCj/j5byfQfUAPxuOVInTct0++0V+YL96Gj9FarAorYYBPzHwJWnxlyM/L/f3qVABXj+Tp6kxyxkLP8ZkQxXrtwQ/ibYLlr8rDD876RpKEMv8PqXMCj0KI8E+Y9QbIWkfJz/NWTdK5t+4PhEtw1ouEd4+SuSuQabKxj5dOKHlN5XoPj9ykiLfprk+IXp/RSnbED9yRrm5bCbiPvbV3K8TUJY++0V+YL96Gj+usZO2/Wf4PjQmLIvTzQY/1efNMZmp7D5+56xI8fTlPuaDOXY0GM8+uMNU6Ym/hj8I144k4rrVPosWSaGt1IQ/AkyV+P4P4z7jP4drq28FPzwUggjXC+Y+7L0e6OUeoz9rTh5jVovSPvn/Em4kxWE/kQBSK/0u9T7vjyYFktAhP3lc7dd7QrQ+QPXFzhym8T4+Nd5F5BgWP9J6jnO41Pk+ObDN1M5vBD+HQ9Dqr+lKP3YCdaw0LdM++0V+YL96Gj/CsEps9C7VPlS9UGUMv0U/pqRxDiJ88D7oqXRGKNwGP54PeOINLqQ+9FiPodBJpj5CAX3zt+DFPsR5KJfqb8A+T/4f/1R0Jj9wy+L1hwRGP4Iw9VQZQJQ/QVxHa5CaEz9q4x6W3sABP+anRel4hTE//jSGyJGwIz9a3dieLS/FPvtFfmC/eho/0CaSSobf8j7om9ie0ehRP4yfDBK/phw/2bdahaRt8z5pi0xWDNe3PzoFWd5FU9A+qVTopb56Cj8Kl7V81RnyPnWw/lSIwcQ+kQBSK/0u9T4WN5ZE6rbZPjz585B5Teo+mJbD7Cdx9T4t+OpgFAQUP+s1WKcNeec+4Jew0N0e5z5bwhuTX5yrPv5ylEtMv+E+qgjVT8Z8oT9eSCgLgW3NPrZMGtKEGMw+gWG4BsRH5j7bwMkrHwIAP/7gqRozYvk+ycQ2iXpnxT4Swqe2z/nXPmWo1pTmCuk+NMilXEnjlD75z9m7pMPIPrZ+M2OfIB0/oIVe/s3E7j56Q0MFuIxQP8DjwNiFFwM/Yojc8CLi6z6/xleSd8/pPjaSA+NaSx0/RxRsP55tHT8TzIbUfsv2PvWgsIfWkjo/vX+hfbIbID9qIh3CGb/WPtzbifm0dbM+ClzCLAnyoD4HdZcEvp8aP4T+AFYCMPI+MqZkmp+JMz9Xk1ir5SDoPkAjePZqn/Y+EiXgvSYHpT8A2wc5DOnlPvtFfmC/eho/PAT7udKVlz/kKuRSPKzRPvzVMe6uqhA/LSuoRvfT3D741RgF1Yb2PjQa6ZQatoI/cEzD1ck29z5MptGTM5ccP79RNfoAEQk/A/IJ6Umg6j460UXAisTzPpjvW85a8tA+hFHN8SWy9D6gfFhURsvRPgdyvDC9evo+e/z7ZVvRmj/C5iuVwcTePgYf7plMLig/MA/ITshUsz68wUDJlmv5Pq6e2lfpD6k/QlKjIeRfGD++L0e45Y1CPzHGVg8zmOE+o0LUKwM3wj4fcKeItkMAP8Q04FD5Huo+ELOcZbFU8T5IMTwRT56CP34izOTEOgQ/uooRAzwSMz+5S1yC81+dP2K6gsKnTCg/4boxdtliHT9rpYs67A/sPseJT2eL9fE+cKEqXilSdD+HGerC0dXhPn4cKx997Ac/cvaEG0zq/D53OzGI/o9DPwhHMQikOMU+4aYHbQ+s0j673Mph4qf1PkSIV7E96eM+EmC21tEXLz/u50V4sX0uP+c6R5mU1ec+u+X6Flxewj69xrZ1NWucPtASAlBMFfs+GJsR1eyKRT/aFzKZITXtPvDlnPIQqaw+dKhUDHkItD64Z5wg3LExP9oOofWExOQ+51LeU9Mr9z6Q31yKLO7kPpoR1LgG3bQ+VSmOPUyAIj+ib5N/FnbnPsNzqfNQqNI+RjXBTQU9Vz+SE54zvRnnPqEkCZqrfwQ/LvAeFNEZhT/0x9r6uSngPiopGOdCmgE/vKQ4Yabg9j5yMj9ExgkAP3wmmCQII7Q/K8r/+wcExz42SXejuJ0OP8CrILqLRfM+hj+ewNiNAz816e99hAHePqwxxcI7FNk+RoR7IXyosT45rbWhQT7sPoehaumffRE/fSgBQ+vk1j5WbQyj6mj0PoqPGjvKSwA/m/qEcQqJHD/EaDW8FMLjPu6Jv2XDy9M+i5sRq68V0z7rbVw4uopRP3pDQwW4jFA/j6T3FZPB3D7l66IyYpsrP6sg48UZzZE/yLfFtXGzAj+YRvIV+IvsPiJpWr7XTe8+4/ds9YtY8z4H2XD9qWTAPooq7/B94p8/4tbNEUVBqD5AVloZLsP1PqJsVzvCVio/IzBMrEKrTT8owWx6L1XwPguSjTTXLvk+ekNDBbiMUD9g9aU8urCPP8wjSmHfDjA/rR3J9LH4zT5jrGXLUMv1Pn9hyEvMm9I+ZGM0MPpm5D4jGGd/1OI8P5zTLIUWO1A/nEPLLlmOkj+JwbXT6ltAPx/GUqt+xg8/OLivhebDOj9jAAG9/agqPxgklPhDcBs/S/YcU3ow0D7D6UYWs+bxPpiSLOkZxhM/MuMfElLHHz/xsMY/B7CEP1uh+dK0rjA/pPRgE3/8sj6rSTdTixSDPkVvlJzC41A/EcJq2jeTUj96Q0MFuIxQP7NFSRg5quM+ekNDBbiMUD8HHHEKuIxgPznCFIQVoe8+Qg7lzWlkgT4=\",\"dtype\":\"float64\",\"order\":\"little\",\"shape\":[286]}},\"selected\":{\"id\":\"5194\"},\"selection_policy\":{\"id\":\"5208\"}},\"id\":\"5193\",\"type\":\"ColumnDataSource\"},{\"attributes\":{\"label\":{\"value\":\"0\"},\"renderers\":[{\"id\":\"5199\"}]},\"id\":\"5212\",\"type\":\"LegendItem\"},{\"attributes\":{\"below\":[{\"id\":\"5166\"}],\"center\":[{\"id\":\"5169\"},{\"id\":\"5173\"}],\"height\":300,\"left\":[{\"id\":\"5170\"}],\"margin\":[5,5,5,5],\"min_border_bottom\":10,\"min_border_left\":10,\"min_border_right\":10,\"min_border_top\":10,\"renderers\":[{\"id\":\"5199\"},{\"id\":\"5220\"},{\"id\":\"5242\"},{\"id\":\"5266\"}],\"right\":[{\"id\":\"5211\"}],\"sizing_mode\":\"fixed\",\"title\":{\"id\":\"5158\"},\"toolbar\":{\"id\":\"5180\"},\"width\":700,\"x_range\":{\"id\":\"5151\"},\"x_scale\":{\"id\":\"5162\"},\"y_range\":{\"id\":\"5152\"},\"y_scale\":{\"id\":\"5164\"}},\"id\":\"5157\",\"subtype\":\"Figure\",\"type\":\"Plot\"},{\"attributes\":{\"fill_color\":{\"value\":\"#30a2da\"},\"hatch_color\":{\"value\":\"#30a2da\"},\"line_color\":{\"value\":\"#30a2da\"},\"size\":{\"value\":5.477225575051661},\"x\":{\"field\":\"TotalCoinsMined\"},\"y\":{\"field\":\"TotalCoinSupply\"}},\"id\":\"5196\",\"type\":\"Scatter\"},{\"attributes\":{},\"id\":\"5176\",\"type\":\"WheelZoomTool\"},{\"attributes\":{\"margin\":[5,5,5,5],\"name\":\"HSpacer09756\",\"sizing_mode\":\"stretch_width\"},\"id\":\"5150\",\"type\":\"Spacer\"},{\"attributes\":{},\"id\":\"5215\",\"type\":\"Selection\"},{\"attributes\":{\"axis_label\":\"TotalCoinsMined\",\"coordinates\":null,\"formatter\":{\"id\":\"5188\"},\"group\":null,\"major_label_policy\":{\"id\":\"5189\"},\"ticker\":{\"id\":\"5167\"}},\"id\":\"5166\",\"type\":\"LinearAxis\"},{\"attributes\":{},\"id\":\"5167\",\"type\":\"BasicTicker\"},{\"attributes\":{},\"id\":\"5162\",\"type\":\"LinearScale\"},{\"attributes\":{\"axis\":{\"id\":\"5170\"},\"coordinates\":null,\"dimension\":1,\"grid_line_color\":null,\"group\":null,\"ticker\":null},\"id\":\"5173\",\"type\":\"Grid\"},{\"attributes\":{\"children\":[{\"id\":\"5150\"},{\"id\":\"5157\"},{\"id\":\"5430\"}],\"margin\":[0,0,0,0],\"name\":\"Row09752\",\"tags\":[\"embedded\"]},\"id\":\"5149\",\"type\":\"Row\"},{\"attributes\":{},\"id\":\"5174\",\"type\":\"SaveTool\"},{\"attributes\":{\"end\":1.042857142857143,\"reset_end\":1.042857142857143,\"reset_start\":-0.04285714285714286,\"start\":-0.04285714285714286,\"tags\":[[[\"TotalCoinsMined\",\"TotalCoinsMined\",null]]]},\"id\":\"5151\",\"type\":\"Range1d\"},{\"attributes\":{},\"id\":\"5171\",\"type\":\"BasicTicker\"},{\"attributes\":{\"axis_label\":\"TotalCoinSupply\",\"coordinates\":null,\"formatter\":{\"id\":\"5191\"},\"group\":null,\"major_label_policy\":{\"id\":\"5192\"},\"ticker\":{\"id\":\"5171\"}},\"id\":\"5170\",\"type\":\"LinearAxis\"},{\"attributes\":{},\"id\":\"5237\",\"type\":\"Selection\"},{\"attributes\":{\"callback\":null,\"renderers\":[{\"id\":\"5199\"},{\"id\":\"5220\"},{\"id\":\"5242\"},{\"id\":\"5266\"}],\"tags\":[\"hv_created\"],\"tooltips\":[[\"Class\",\"@{Class}\"],[\"TotalCoinsMined\",\"@{TotalCoinsMined}\"],[\"TotalCoinSupply\",\"@{TotalCoinSupply}\"],[\"CoinName\",\"@{CoinName}\"]]},\"id\":\"5153\",\"type\":\"HoverTool\"},{\"attributes\":{\"fill_color\":{\"value\":\"#e5ae38\"},\"hatch_color\":{\"value\":\"#e5ae38\"},\"line_color\":{\"value\":\"#e5ae38\"},\"size\":{\"value\":5.477225575051661},\"x\":{\"field\":\"TotalCoinsMined\"},\"y\":{\"field\":\"TotalCoinSupply\"}},\"id\":\"5239\",\"type\":\"Scatter\"},{\"attributes\":{},\"id\":\"5188\",\"type\":\"BasicTickFormatter\"},{\"attributes\":{\"angle\":{\"value\":0.0},\"fill_alpha\":{\"value\":1.0},\"fill_color\":{\"value\":\"#fc4f30\"},\"hatch_alpha\":{\"value\":1.0},\"hatch_color\":{\"value\":\"#fc4f30\"},\"hatch_scale\":{\"value\":12.0},\"hatch_weight\":{\"value\":1.0},\"line_alpha\":{\"value\":1.0},\"line_cap\":{\"value\":\"butt\"},\"line_color\":{\"value\":\"#fc4f30\"},\"line_dash\":{\"value\":[]},\"line_dash_offset\":{\"value\":0},\"line_join\":{\"value\":\"bevel\"},\"line_width\":{\"value\":1},\"marker\":{\"value\":\"circle\"},\"size\":{\"value\":5.477225575051661},\"x\":{\"field\":\"TotalCoinsMined\"},\"y\":{\"field\":\"TotalCoinSupply\"}},\"id\":\"5235\",\"type\":\"Scatter\"},{\"attributes\":{\"data\":{\"Class\":[1,1,1,1,1,1,1,1,1,1,1,1,1,1,1,1,1,1,1,1,1,1,1,1,1,1,1,1,1,1,1,1,1,1,1,1,1,1,1,1,1,1,1,1,1,1,1,1,1,1,1,1,1,1,1,1,1,1,1,1,1,1,1,1,1,1,1,1,1,1,1,1,1,1,1,1,1,1,1,1,1,1,1,1,1,1,1,1,1,1,1,1,1,1,1,1,1,1,1,1,1,1,1,1,1,1,1,1,1,1,1,1,1,1,1,1,1,1,1,1,1,1,1,1,1,1,1,1,1,1,1,1,1,1,1,1,1,1,1,1,1,1,1,1,1,1,1,1,1,1,1,1,1,1,1,1,1,1,1,1,1,1,1,1,1,1,1,1,1,1,1,1,1,1,1,1,1,1,1,1,1,1,1,1,1,1,1,1,1,1,1,1,1,1,1,1,1,1,1,1,1,1,1,1,1,1,1,1,1,1,1,1,1,1,1,1,1,1,1,1,1,1,1,1,1,1,1,1,1,1,1,1,1,1,1,1,1,1,1,1],\"CoinName\":[\"Bitcoin\",\"Ethereum\",\"Litecoin\",\"Monero\",\"Ethereum Classic\",\"ZCash\",\"DigiByte\",\"ProsperCoin\",\"Spreadcoin\",\"Argentum\",\"MyriadCoin\",\"MoonCoin\",\"ZetaCoin\",\"SexCoin\",\"Quatloo\",\"QuarkCoin\",\"Riecoin\",\"Digitalcoin \",\"Catcoin\",\"CannaCoin\",\"CryptCoin\",\"Verge\",\"DevCoin\",\"EarthCoin\",\"E-Gulden\",\"Einsteinium\",\"Emerald\",\"Franko\",\"FeatherCoin\",\"GrandCoin\",\"GlobalCoin\",\"GoldCoin\",\"Infinite Coin\",\"IXcoin\",\"KrugerCoin\",\"LuckyCoin\",\"Litebar \",\"MegaCoin\",\"MediterraneanCoin\",\"MinCoin\",\"NobleCoin\",\"Namecoin\",\"NyanCoin\",\"RonPaulCoin\",\"StableCoin\",\"SmartCoin\",\"SysCoin\",\"TigerCoin\",\"TerraCoin\",\"UnbreakableCoin\",\"Unobtanium\",\"UroCoin\",\"ViaCoin\",\"Vertcoin\",\"WorldCoin\",\"JouleCoin\",\"ByteCoin\",\"DigitalNote \",\"MonaCoin\",\"Gulden\",\"PesetaCoin\",\"Wild Beast Coin\",\"Flo\",\"ArtByte\",\"Folding Coin\",\"Unitus\",\"CypherPunkCoin\",\"OmniCron\",\"GreenCoin\",\"Cryptonite\",\"MasterCoin\",\"SoonCoin\",\"1Credit\",\"MarsCoin \",\"Crypto\",\"Anarchists Prime\",\"BowsCoin\",\"Song Coin\",\"BitZeny\",\"Expanse\",\"Siacoin\",\"MindCoin\",\"I0coin\",\"Revolution VR\",\"HOdlcoin\",\"Gamecredits\",\"CarpeDiemCoin\",\"Adzcoin\",\"SoilCoin\",\"YoCoin\",\"SibCoin\",\"Francs\",\"BolivarCoin\",\"Omni\",\"PizzaCoin\",\"Komodo\",\"Karbo\",\"ZayedCoin\",\"Circuits of Value\",\"DopeCoin\",\"DollarCoin\",\"Shilling\",\"ZCoin\",\"Elementrem\",\"ZClassic\",\"KiloCoin\",\"ArtexCoin\",\"Kurrent\",\"Cannabis Industry Coin\",\"OsmiumCoin\",\"Bikercoins\",\"HexxCoin\",\"PacCoin\",\"Citadel\",\"BeaverCoin\",\"VaultCoin\",\"Zero\",\"Canada eCoin\",\"Zoin\",\"DubaiCoin\",\"EB3coin\",\"Coinonat\",\"BenjiRolls\",\"ILCoin\",\"EquiTrader\",\"Quantum Resistant Ledger\",\"Dynamic\",\"Nano\",\"ChanCoin\",\"Dinastycoin\",\"DigitalPrice\",\"Unify\",\"SocialCoin\",\"ArcticCoin\",\"DAS\",\"LeviarCoin\",\"Bitcore\",\"gCn Coin\",\"SmartCash\",\"Onix\",\"Bitcoin Cash\",\"Vechain\",\"Sojourn Coin\",\"NewYorkCoin\",\"FrazCoin\",\"Kronecoin\",\"AdCoin\",\"Linx\",\"Sumokoin\",\"BitcoinZ\",\"Elements\",\"VIVO Coin\",\"Bitcoin Gold\",\"Pirl\",\"eBoost\",\"Pura\",\"Innova\",\"Ellaism\",\"GoByte\",\"SHIELD\",\"UltraNote\",\"BitCoal\",\"DaxxCoin\",\"AC3\",\"Lethean\",\"PopularCoin\",\"Photon\",\"Sucre\",\"SparksPay\",\"GunCoin\",\"IrishCoin\",\"Pioneer Coin\",\"UnitedBitcoin\",\"Interzone\",\"1717 Masonic Commemorative Token\",\"TurtleCoin\",\"MUNcoin\",\"Niobio Cash\",\"ShareChain\",\"Travelflex\",\"KREDS\",\"BitFlip\",\"LottoCoin\",\"Crypto Improvement Fund\",\"Callisto Network\",\"BitTube\",\"Poseidon\",\"Aidos Kuneen\",\"Bitrolium\",\"Alpenschillling\",\"FuturoCoin\",\"Monero Classic\",\"Jumpcoin\",\"Infinex\",\"KEYCO\",\"GINcoin\",\"PlatinCoin\",\"Loki\",\"Newton Coin\",\"MassGrid\",\"PluraCoin\",\"Motion\",\"PlusOneCoin\",\"Axe\",\"HexCoin\",\"Webchain\",\"Ryo\",\"Urals Coin\",\"Qwertycoin\",\"Project Pai\",\"Azart\",\"Xchange\",\"CrypticCoin\",\"Actinium\",\"Bitcoin SV\",\"FREDEnergy\",\"Universal Molecule\",\"Lithium\",\"Exosis\",\"Block-Logic\",\"Beam\",\"Bithereum\",\"SLICE\",\"BLAST\",\"Bitcoin Rhodium\",\"GlobalToken\",\"SolarCoin\",\"UFO Coin\",\"BlakeCoin\",\"Crypto Escudo\",\"Crown Coin\",\"SmileyCoin\",\"Groestlcoin\",\"Bata\",\"Pakcoin\",\"JoinCoin\",\"Vollar\",\"Reality Clash\",\"Beldex\",\"Horizen\"],\"TotalCoinSupply\":{\"__ndarray__\":\"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\",\"dtype\":\"float64\",\"order\":\"little\",\"shape\":[240]},\"TotalCoinsMined\":{\"__ndarray__\":\"r6i7QfH88j5vitZPpIMcP2safiZFsRA/CBAnMBQ48j7wDEJVXgQePwFvcySeR98+S6ekP56Yhz8O0fKLQ3DYPunoanR6nuc+P/QHNS7b6T4I4yegqPBbP4pk9hRmi8k9cMqzLN2IJj8v7oqMShIhP+hFNhs4LN8+ICzRsK4uMT8QbyRNiz0KP59NHRkHtgE/NhWLS7iW3j4HjNNQyO3TPhf3vZ6vK9U+zGWKHw96kD/YQKTwOGuTP/QR9hSJ8Ik/v+Nbg90l9j7UJEJsY/osP53eB+SKpvQ+7OKrfnJdsz7h8m27k6ArPzOFKreVQ00/sp9rdsljET8a/IWo3Q8GPxfWq/5Sbbc/2g1Vrl1W9j4aGveuIA0kP+mrkQNSePQ+w6aYs+e2sj5zk5i3czQEP8Q38CuLaQU/dwwlCTKX2D6/GiTQLZRjP2kcsAWHN+8+WPbFZkYoNj/9tCw6GLayPlG7VH/vpfk+lXaTGbsb+z4TJNibZaVCP11sMg9/Dgc/sbwJ7+tK+D5svacTrE3DPrI5aeKgO4s+Bn6fn5x1tD5Ljct4WoX4PjXfW1HfGQs/ZX20aNqrHz8+VYv99MEEP1hQT91+zMc/EkNUVVGTfD8sNwB0vg4SP7x3FpSAeTs/V09i5Pw0Ij+8Wu9Dc6iIPv0vK9IFKSQ/u43+0IM7Sj+Fn7ZW789HP0XtoIndPRE/RXvZM7732j6tXPx07HrlPkRv+e0tE3M/aJCDWHxzRz/wOSf9uP6kPlQsp9p0Zuo+JVthYlbodz5RI4lAbxABP9C9WRyqHO0+cq2VX2I97z5yy9npd83wPjtGyf0IPwE/zcFpI7cFFD+pIsEbkTvmPi7peHQhHqE/CZb2rYPO8D68ZXludD32PgDbI7+vzSs/t2n0Hb5A6D768QgXA34SP8VZIm+ifJY/qfDDrNPjBz/IH81lZSjYPmbzzSAYkqU+io1ClvJI8j6EVzYip9bbPvB/UyyW7Ow+VIp4kW7kpD5Ztqr0xVm3PvBZKjNxsB4/i2oALxWS4D4AgcASBnTaPnpDQwW4jFA/1DtNvqTwHj/WFD5sjErjPri9zHTrjec+2DMeo0EI4D5jADv2nsH7PoUw/kBpyNc+ov9i+UX9KT9aPV7RHEZLPzuCQ8HDPxA/tcMN/maTsD7UrHW860yuPgxwAoxT0uM+xv90wUrLvz6OM6x+FcZBP9Kf4ZajPOc+Ck3M5oZlyj6rD9eegxcAP/OI8EMuU90+6fmC8iFwGj/Wo9/Kq6TzPsujJZ6E68I+XGxBluj4ED+Bh4j2yXHlPjXeTm3aefU+yXvl+uzOVT9z1k/kEPfsPv9UEsTGRxI/YSp/QHv09D61h4qHSKQhPy+N/AEef/M+hKwqIzTyXT/m4rwM9psCP8kEKAPONPM+528Abuzk1T728NdKYJX7PtQZrzp5OcY+CdfFZ+z/7T70aOzy9tryPhgd90IFFcU/gc0bUEOLYj9LwcxRKDcgPyRl/jd+D/M+zaDgBxGurD/9jVOcvXGgPgQ10iZufcI/+PHfwXqO5D7X33qzknzyPqndVzwTSgE/eBUn0xzbAT+4FkxYv/PiPim6m734j3U/ewwfsp5dZj+41qr3XKbRPtsdILtoOPI+XtPFhsf/AT8SyOjdEXoaPzzEkLG4Mic/2lwako8C2z4uyW1mwQXrPj3VN8Sstdg+eJjN1dPjPz/lg7+LuvGTPy1QU52nENM+mR9Mbb49QT9jNZevbkQVP7+wa/LPNT0/SvIGOc1mcD/Ao/i6lx+fPygNh6XF6tE+VPZhxKGf4D4z0xtWo9gzP+mYtu1bFgg/ZQ7uSqf14T7Br9f1/1v1PpiqM+VXPuk+bnHiGX5ruz6tX+xllHurP5umGNzsadQ+DdRa8Xi7IT9Qn7IT5q+EP9nxBx9Paxw/UDLYFSpPRT98tg9nf13qPmZF6WRL+o0/Z3XZGKv5Kz/YL9a/QWQwPxWp9R5TMhU/2kGAvoE+0T4HcrwwvXr6PvdglsAB5RI/WV3Wt131/D428IRIetcAP8qbJCj29vA++tPFM/FQ9j72TR636JjVPvx87g2S9ao+yzphbmeZ3T6Pmy8IuNh2PhjZ6gl/SfQ+g1nCOEpbpT+RgAu44vwhP4LOT27aiUI/9ZfpU6I24T4f5SubYVDiPs9e0ldlJ9U+eNZihN4BuD7q8GBWj4DwPtGA3ySfuNQ+lr1vCNE87z64sNw4Sr65P7+U8AuOYGE/21raAS5A1T4bDmApcKnkPk+r/Iq+hXE/Wiv0JSji7D7XmPnEqA7zPq4VH8sv5l4/tES2qgi/uj52ao/M08jwPmrMMqxthps+Gw5UWrivAj+bmw6DVOYCP3FvzQOgo/o+lM2DQKJh6z6yea5Mu7ELP7JfNdwD1bM+fja4QLVnFj8aiAbhOm0NP7DYIMkOpm8/lyfwwS69+D4gof8PEdNJP1hseRLlWPg+ZbOty7CZnj/sBEYPs2gTPxWZdvn0Z9U+VjnBgrtzEj8gMXRQrz3MPvtFfmC/eho/gseFIuXv+T6pGh9y7ThQP37YbI3H6d4+\",\"dtype\":\"float64\",\"order\":\"little\",\"shape\":[240]}},\"selected\":{\"id\":\"5215\"},\"selection_policy\":{\"id\":\"5231\"}},\"id\":\"5214\",\"type\":\"ColumnDataSource\"},{\"attributes\":{\"fill_alpha\":{\"value\":0.2},\"fill_color\":{\"value\":\"#e5ae38\"},\"hatch_alpha\":{\"value\":0.2},\"hatch_color\":{\"value\":\"#e5ae38\"},\"line_alpha\":{\"value\":0.2},\"line_color\":{\"value\":\"#e5ae38\"},\"size\":{\"value\":5.477225575051661},\"x\":{\"field\":\"TotalCoinsMined\"},\"y\":{\"field\":\"TotalCoinSupply\"}},\"id\":\"5241\",\"type\":\"Scatter\"},{\"attributes\":{},\"id\":\"5178\",\"type\":\"ResetTool\"},{\"attributes\":{},\"id\":\"5255\",\"type\":\"UnionRenderers\"},{\"attributes\":{},\"id\":\"5261\",\"type\":\"Selection\"},{\"attributes\":{\"overlay\":{\"id\":\"5179\"}},\"id\":\"5177\",\"type\":\"BoxZoomTool\"},{\"attributes\":{\"source\":{\"id\":\"5236\"}},\"id\":\"5243\",\"type\":\"CDSView\"},{\"attributes\":{\"end\":1.1,\"reset_end\":1.1,\"reset_start\":-0.1,\"start\":-0.1,\"tags\":[[[\"TotalCoinSupply\",\"TotalCoinSupply\",null]]]},\"id\":\"5152\",\"type\":\"Range1d\"},{\"attributes\":{\"angle\":{\"value\":0.0},\"fill_alpha\":{\"value\":1.0},\"fill_color\":{\"value\":\"#6d904f\"},\"hatch_alpha\":{\"value\":1.0},\"hatch_color\":{\"value\":\"#6d904f\"},\"hatch_scale\":{\"value\":12.0},\"hatch_weight\":{\"value\":1.0},\"line_alpha\":{\"value\":1.0},\"line_cap\":{\"value\":\"butt\"},\"line_color\":{\"value\":\"#6d904f\"},\"line_dash\":{\"value\":[]},\"line_dash_offset\":{\"value\":0},\"line_join\":{\"value\":\"bevel\"},\"line_width\":{\"value\":1},\"marker\":{\"value\":\"circle\"},\"size\":{\"value\":5.477225575051661},\"x\":{\"field\":\"TotalCoinsMined\"},\"y\":{\"field\":\"TotalCoinSupply\"}},\"id\":\"5285\",\"type\":\"Scatter\"},{\"attributes\":{\"bottom_units\":\"screen\",\"coordinates\":null,\"fill_alpha\":0.5,\"fill_color\":\"lightgrey\",\"group\":null,\"left_units\":\"screen\",\"level\":\"overlay\",\"line_alpha\":1.0,\"line_color\":\"black\",\"line_dash\":[4,4],\"line_width\":2,\"right_units\":\"screen\",\"syncable\":false,\"top_units\":\"screen\"},\"id\":\"5179\",\"type\":\"BoxAnnotation\"},{\"attributes\":{\"source\":{\"id\":\"5193\"}},\"id\":\"5200\",\"type\":\"CDSView\"},{\"attributes\":{},\"id\":\"5194\",\"type\":\"Selection\"},{\"attributes\":{\"angle\":{\"value\":0.0},\"fill_alpha\":{\"value\":1.0},\"fill_color\":{\"value\":\"#30a2da\"},\"hatch_alpha\":{\"value\":1.0},\"hatch_color\":{\"value\":\"#30a2da\"},\"hatch_scale\":{\"value\":12.0},\"hatch_weight\":{\"value\":1.0},\"line_alpha\":{\"value\":1.0},\"line_cap\":{\"value\":\"butt\"},\"line_color\":{\"value\":\"#30a2da\"},\"line_dash\":{\"value\":[]},\"line_dash_offset\":{\"value\":0},\"line_join\":{\"value\":\"bevel\"},\"line_width\":{\"value\":1},\"marker\":{\"value\":\"circle\"},\"size\":{\"value\":5.477225575051661},\"x\":{\"field\":\"TotalCoinsMined\"},\"y\":{\"field\":\"TotalCoinSupply\"}},\"id\":\"5213\",\"type\":\"Scatter\"},{\"attributes\":{\"margin\":[5,5,5,5],\"name\":\"HSpacer09757\",\"sizing_mode\":\"stretch_width\"},\"id\":\"5430\",\"type\":\"Spacer\"}],\"root_ids\":[\"5149\"]},\"title\":\"Bokeh Application\",\"version\":\"2.4.1\"}};\n",
       "    var render_items = [{\"docid\":\"30071839-955a-427c-9d06-1bc04a905288\",\"root_ids\":[\"5149\"],\"roots\":{\"5149\":\"d6ddc638-97cc-474a-b66a-17bea7aa88db\"}}];\n",
       "    root.Bokeh.embed.embed_items_notebook(docs_json, render_items);\n",
       "  }\n",
       "  if (root.Bokeh !== undefined && root.Bokeh.Panel !== undefined) {\n",
       "    embed_document(root);\n",
       "  } else {\n",
       "    var attempts = 0;\n",
       "    var timer = setInterval(function(root) {\n",
       "      if (root.Bokeh !== undefined && root.Bokeh.Panel !== undefined) {\n",
       "        clearInterval(timer);\n",
       "        embed_document(root);\n",
       "      } else if (document.readyState == \"complete\") {\n",
       "        attempts++;\n",
       "        if (attempts > 200) {\n",
       "          clearInterval(timer);\n",
       "          console.log(\"Bokeh: ERROR: Unable to run BokehJS code because BokehJS library is missing\");\n",
       "        }\n",
       "      }\n",
       "    }, 25, root)\n",
       "  }\n",
       "})(window);</script>"
      ],
      "text/plain": [
       ":NdOverlay   [Class]\n",
       "   :Scatter   [TotalCoinsMined]   (TotalCoinSupply,CoinName)"
      ]
     },
     "execution_count": 181,
     "metadata": {
      "application/vnd.holoviews_exec.v0+json": {
       "id": "5149"
      }
     },
     "output_type": "execute_result"
    }
   ],
   "source": [
    "# Create a hvplot.scatter plot using x=\"TotalCoinsMined\" and y=\"TotalCoinSupply\".\n",
    "plot_df.hvplot.scatter(x=\"TotalCoinsMined\", y=\"TotalCoinSupply\", by=\"Class\",hover_cols = [\"CoinName\"])\n"
   ]
  },
  {
   "cell_type": "code",
   "execution_count": null,
   "metadata": {},
   "outputs": [],
   "source": []
  }
 ],
 "metadata": {
  "file_extension": ".py",
  "kernelspec": {
   "display_name": "PythonData",
   "language": "python",
   "name": "pythondata"
  },
  "language_info": {
   "codemirror_mode": {
    "name": "ipython",
    "version": 3
   },
   "file_extension": ".py",
   "mimetype": "text/x-python",
   "name": "python",
   "nbconvert_exporter": "python",
   "pygments_lexer": "ipython3",
   "version": "3.9.4"
  },
  "latex_envs": {
   "LaTeX_envs_menu_present": true,
   "autoclose": false,
   "autocomplete": true,
   "bibliofile": "biblio.bib",
   "cite_by": "apalike",
   "current_citInitial": 1,
   "eqLabelWithNumbers": true,
   "eqNumInitial": 1,
   "hotkeys": {
    "equation": "Ctrl-E",
    "itemize": "Ctrl-I"
   },
   "labels_anchors": false,
   "latex_user_defs": false,
   "report_style_numbering": false,
   "user_envs_cfg": false
  },
  "mimetype": "text/x-python",
  "name": "python",
  "npconvert_exporter": "python",
  "pygments_lexer": "ipython3",
  "version": 3
 },
 "nbformat": 4,
 "nbformat_minor": 2
}
